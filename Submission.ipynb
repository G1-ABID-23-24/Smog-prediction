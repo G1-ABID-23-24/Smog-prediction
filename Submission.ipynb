{
 "cells": [
  {
   "cell_type": "markdown",
   "metadata": {},
   "source": [
    "# Grupo 1 - Smog predicition\n",
    "## Submission"
   ]
  },
  {
   "cell_type": "markdown",
   "metadata": {},
   "source": [
    "En este *notebook* se va a generar el archivo necesario para el reto de Kaggle:\n",
    "https://www.kaggle.com/competitions/cdaw-abid-smog-prediction"
   ]
  },
  {
   "cell_type": "markdown",
   "metadata": {},
   "source": [
    "### Análisis y limpieza de datos"
   ]
  },
  {
   "cell_type": "markdown",
   "metadata": {},
   "source": [
    "Se van a usar dos *dataframes*, df_train, que permite entrenar el modelo, y df_test, encargado de realizar la predicción de la característica *Smog*."
   ]
  },
  {
   "cell_type": "code",
   "execution_count": 8,
   "metadata": {},
   "outputs": [],
   "source": [
    "#Imports generales\n",
    "import numpy as np\n",
    "import pandas as pd\n",
    "from pandas import Series\n",
    "from sklearn.model_selection import train_test_split\n",
    "from sklearn import metrics\n",
    "from sklearn import preprocessing\n",
    "from sklearn.pipeline import Pipeline\n",
    "\n",
    "#Imports específicos\n",
    "from sklearn.model_selection import cross_val_score, KFold, GridSearchCV\n",
    "from sklearn.metrics import classification_report, recall_score, precision_score, make_scorer\n",
    "import seaborn as sns\n",
    "from sklearn.ensemble import RandomForestClassifier\n",
    "from sklearn.preprocessing import StandardScaler\n",
    "from scipy.stats import sem\n",
    "\n",
    "#Visualización\n",
    "sns.set(color_codes=True)\n",
    "\n",
    "%matplotlib inline\n",
    "\n",
    "df_train = pd.read_csv('data/train.csv')\n",
    "df_test = pd.read_csv('data/test_nolabel.csv')\n",
    "\n",
    "df_train['Gears'] = df_train['Transmission'].str.extract('(\\d+)')\n",
    "df_train['Gears'] = pd.to_numeric(df_train['Gears'], errors='coerce')\n",
    "df_train['Transmission'] = df_train['Transmission'].str.extract('(\\D+)')\n",
    "\n",
    "df_test['Gears'] = df_test['Transmission'].str.extract('(\\d+)')\n",
    "df_test['Gears'] = pd.to_numeric(df_test['Gears'], errors='coerce')\n",
    "df_test['Transmission'] = df_test['Transmission'].str.extract('(\\D+)')"
   ]
  },
  {
   "cell_type": "markdown",
   "metadata": {},
   "source": [
    "Hay que destacar que en este caso se usa el archivo de pruebas test_nolabel.csv para entrenar el modelo y subirlo posteriormente a la plataforma."
   ]
  },
  {
   "cell_type": "code",
   "execution_count": 9,
   "metadata": {},
   "outputs": [],
   "source": [
    "#Fuel Type\n",
    "df_train.loc[df_train[\"Fuel Type\"] == \"X\", \"Fuel Type\"] = 0\n",
    "df_train.loc[df_train[\"Fuel Type\"] == \"Z\", \"Fuel Type\"] = 1\n",
    "df_train.loc[df_train[\"Fuel Type\"] == \"D\", \"Fuel Type\"] = 2\n",
    "df_train.loc[df_train[\"Fuel Type\"] == \"E\", \"Fuel Type\"] = 3\n",
    "df_train.loc[df_train[\"Fuel Type\"] == \"N\", \"Fuel Type\"] = 4\n",
    "\n",
    "#Transmission\n",
    "df_train.loc[df_train[\"Transmission\"] == \"A\", \"Transmission\"] = 0\n",
    "df_train.loc[df_train[\"Transmission\"] == \"AM\", \"Transmission\"] = 1\n",
    "df_train.loc[df_train[\"Transmission\"] == \"AS\", \"Transmission\"] = 2\n",
    "df_train.loc[df_train[\"Transmission\"] == \"AV\", \"Transmission\"] = 3\n",
    "df_train.loc[df_train[\"Transmission\"] == \"M\", \"Transmission\"] = 4\n",
    "\n",
    "\n",
    "#Vehicle Class\n",
    "df_train.loc[df_train[\"Vehicle Class\"] == \"Compact\", \"Vehicle Class\"] = 0\n",
    "df_train.loc[df_train[\"Vehicle Class\"] == \"Full-size\", \"Vehicle Class\"] = 1\n",
    "df_train.loc[df_train[\"Vehicle Class\"] == \"Mid-size\", \"Vehicle Class\"] = 2\n",
    "df_train.loc[df_train[\"Vehicle Class\"] == \"Minicompact\", \"Vehicle Class\"] = 3\n",
    "df_train.loc[df_train[\"Vehicle Class\"] == \"Minivan\", \"Vehicle Class\"] = 4\n",
    "df_train.loc[df_train[\"Vehicle Class\"] == \"Minicompact\", \"Vehicle Class\"] = 5\n",
    "df_train.loc[df_train[\"Vehicle Class\"] == \"Pickup truck: Small\", \"Vehicle Class\"] = 6\n",
    "df_train.loc[df_train[\"Vehicle Class\"] == \"Pickup truck: Standard\", \"Vehicle Class\"] = 7\n",
    "df_train.loc[df_train[\"Vehicle Class\"] == \"SUV: Small\", \"Vehicle Class\"] = 8\n",
    "df_train.loc[df_train[\"Vehicle Class\"] == \"SUV: Standard\", \"Vehicle Class\"] = 9\n",
    "df_train.loc[df_train[\"Vehicle Class\"] == \"Special purpose vehicle\", \"Vehicle Class\"] = 10\n",
    "df_train.loc[df_train[\"Vehicle Class\"] == \"Station wagon: Mid-size\", \"Vehicle Class\"] = 11\n",
    "df_train.loc[df_train[\"Vehicle Class\"] == \"Station wagon: Small\", \"Vehicle Class\"] = 12\n",
    "df_train.loc[df_train[\"Vehicle Class\"] == \"Subcompact\", \"Vehicle Class\"] = 13\n",
    "df_train.loc[df_train[\"Vehicle Class\"] == \"Two-seater\", \"Vehicle Class\"] = 14\n",
    "\n",
    "#Gears\n",
    "df_train = df_train.dropna(subset=['Gears'])"
   ]
  },
  {
   "cell_type": "code",
   "execution_count": 10,
   "metadata": {},
   "outputs": [],
   "source": [
    "#Fuel Type\n",
    "df_test.loc[df_test[\"Fuel Type\"] == \"X\", \"Fuel Type\"] = 0\n",
    "df_test.loc[df_test[\"Fuel Type\"] == \"Z\", \"Fuel Type\"] = 1\n",
    "df_test.loc[df_test[\"Fuel Type\"] == \"D\", \"Fuel Type\"] = 2\n",
    "df_test.loc[df_test[\"Fuel Type\"] == \"E\", \"Fuel Type\"] = 3\n",
    "df_test.loc[df_test[\"Fuel Type\"] == \"N\", \"Fuel Type\"] = 4\n",
    "\n",
    "#Transmission\n",
    "df_test.loc[df_test[\"Transmission\"] == \"A\", \"Transmission\"] = 0\n",
    "df_test.loc[df_test[\"Transmission\"] == \"AM\", \"Transmission\"] = 1\n",
    "df_test.loc[df_test[\"Transmission\"] == \"AS\", \"Transmission\"] = 2\n",
    "df_test.loc[df_test[\"Transmission\"] == \"AV\", \"Transmission\"] = 3\n",
    "df_test.loc[df_test[\"Transmission\"] == \"M\", \"Transmission\"] = 4\n",
    "\n",
    "\n",
    "#Vehicle Class\n",
    "df_test.loc[df_test[\"Vehicle Class\"] == \"Compact\", \"Vehicle Class\"] = 0\n",
    "df_test.loc[df_test[\"Vehicle Class\"] == \"Full-size\", \"Vehicle Class\"] = 1\n",
    "df_test.loc[df_test[\"Vehicle Class\"] == \"Mid-size\", \"Vehicle Class\"] = 2\n",
    "df_test.loc[df_test[\"Vehicle Class\"] == \"Minicompact\", \"Vehicle Class\"] = 3\n",
    "df_test.loc[df_test[\"Vehicle Class\"] == \"Minivan\", \"Vehicle Class\"] = 4\n",
    "df_test.loc[df_test[\"Vehicle Class\"] == \"Minicompact\", \"Vehicle Class\"] = 5\n",
    "df_test.loc[df_test[\"Vehicle Class\"] == \"Pickup truck: Small\", \"Vehicle Class\"] = 6\n",
    "df_test.loc[df_test[\"Vehicle Class\"] == \"Pickup truck: Standard\", \"Vehicle Class\"] = 7\n",
    "df_test.loc[df_test[\"Vehicle Class\"] == \"SUV: Small\", \"Vehicle Class\"] = 8\n",
    "df_test.loc[df_test[\"Vehicle Class\"] == \"SUV: Standard\", \"Vehicle Class\"] = 9\n",
    "df_test.loc[df_test[\"Vehicle Class\"] == \"Special purpose vehicle\", \"Vehicle Class\"] = 10\n",
    "df_test.loc[df_test[\"Vehicle Class\"] == \"Station wagon: Mid-size\", \"Vehicle Class\"] = 11\n",
    "df_test.loc[df_test[\"Vehicle Class\"] == \"Station wagon: Small\", \"Vehicle Class\"] = 12\n",
    "df_test.loc[df_test[\"Vehicle Class\"] == \"Subcompact\", \"Vehicle Class\"] = 13\n",
    "df_test.loc[df_test[\"Vehicle Class\"] == \"Two-seater\", \"Vehicle Class\"] = 14\n",
    "\n",
    "#Gears\n",
    "df_test['Gears'] = df_test['Gears'].fillna(df_test['Gears'].mean())"
   ]
  },
  {
   "cell_type": "markdown",
   "metadata": {},
   "source": [
    "En df_test no se borran los \"Gears\" nulos ya que se necesitan los 390 datos con sus predicciones resultantes."
   ]
  },
  {
   "cell_type": "code",
   "execution_count": 11,
   "metadata": {},
   "outputs": [],
   "source": [
    "df_train.drop(\"Model Year\", axis=1, inplace=True)\n",
    "df_train.drop(\"Make\", axis=1, inplace=True)\n",
    "df_train.drop(\"Model\", axis=1, inplace=True)\n",
    "df_train.drop(\"Comb (mpg)\", axis=1, inplace=True)\n",
    "df_train.drop(\"Fuel Consumption City (L/100 km)\", axis=1, inplace=True)\n",
    "df_train.drop(\"Hwy (L/100 km)\", axis=1, inplace=True)\n",
    "\n",
    "df_test.drop(\"Model Year\", axis=1, inplace=True)\n",
    "df_test.drop(\"Make\", axis=1, inplace=True)\n",
    "df_test.drop(\"Model\", axis=1, inplace=True)\n",
    "df_test.drop(\"Comb (mpg)\", axis=1, inplace=True)\n",
    "df_test.drop(\"Fuel Consumption City (L/100 km)\", axis=1, inplace=True)\n",
    "df_test.drop(\"Hwy (L/100 km)\", axis=1, inplace=True)"
   ]
  },
  {
   "cell_type": "markdown",
   "metadata": {},
   "source": [
    "La preparación y la limpieza de los datos va a ser igual que en los modelos desarrollados anteriormente."
   ]
  },
  {
   "cell_type": "markdown",
   "metadata": {},
   "source": [
    "### Entrenamiento del modelo"
   ]
  },
  {
   "cell_type": "code",
   "execution_count": 12,
   "metadata": {},
   "outputs": [
    {
     "data": {
      "text/plain": [
       "RandomForestClassifier(class_weight='balanced', max_features='log2',\n",
       "                       random_state=100)"
      ]
     },
     "execution_count": 12,
     "metadata": {},
     "output_type": "execute_result"
    }
   ],
   "source": [
    "features = ['Vehicle Class', 'Engine Size (L)', 'Cylinders', 'Transmission', 'Fuel Type', 'CO2 Emissions (g/km)', 'Gears']\n",
    "\n",
    "x_train = df_train[features].values\n",
    "y_train = df_train['Smog'].values\n",
    "\n",
    "model = RandomForestClassifier(class_weight='balanced', max_features='log2', min_samples_leaf=1, min_samples_split=2, n_estimators=100, random_state=100)\n",
    "\n",
    "model.fit(x_train, y_train)"
   ]
  },
  {
   "cell_type": "markdown",
   "metadata": {},
   "source": [
    "### Predicción de *Smog*"
   ]
  },
  {
   "cell_type": "markdown",
   "metadata": {},
   "source": [
    "En este apartado se realiza la predicción de *Smog* que se subirá posteriormente a la plataforma de Kaggle."
   ]
  },
  {
   "cell_type": "code",
   "execution_count": 13,
   "metadata": {},
   "outputs": [],
   "source": [
    "features = ['Vehicle Class', 'Engine Size (L)', 'Cylinders', 'Transmission', 'Fuel Type', 'CO2 Emissions (g/km)', 'Gears']\n",
    "\n",
    "x_test = df_test[features].values\n",
    "\n",
    "prediction = model.predict(x_test)"
   ]
  },
  {
   "cell_type": "markdown",
   "metadata": {},
   "source": [
    "### Almacenamiento de datos"
   ]
  },
  {
   "cell_type": "markdown",
   "metadata": {},
   "source": [
    "En este apartado se almacenan los datos de la predicción con sus IDs correspondientes en un archivo llamado results.csv."
   ]
  },
  {
   "cell_type": "code",
   "execution_count": 14,
   "metadata": {},
   "outputs": [],
   "source": [
    "result_df = pd.DataFrame({'id': df_test['id'], 'Predicted': prediction})\n",
    "\n",
    "result_df.to_csv('results.csv', index=False)"
   ]
  }
 ],
 "metadata": {
  "kernelspec": {
   "display_name": "Python 3 (ipykernel)",
   "language": "python",
   "name": "python3"
  },
  "language_info": {
   "codemirror_mode": {
    "name": "ipython",
    "version": 3
   },
   "file_extension": ".py",
   "mimetype": "text/x-python",
   "name": "python",
   "nbconvert_exporter": "python",
   "pygments_lexer": "ipython3",
   "version": "3.9.7"
  }
 },
 "nbformat": 4,
 "nbformat_minor": 2
}
