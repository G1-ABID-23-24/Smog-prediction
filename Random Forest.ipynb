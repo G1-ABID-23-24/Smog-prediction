{
 "cells": [
  {
   "cell_type": "markdown",
   "metadata": {},
   "source": [
    "# Grupo 1 - Smog predicition\n",
    "## Random Forest"
   ]
  },
  {
   "cell_type": "markdown",
   "metadata": {},
   "source": [
    "### Análisis y limpieza de datos"
   ]
  },
  {
   "cell_type": "code",
   "execution_count": null,
   "metadata": {},
   "outputs": [],
   "source": [
    "#Imports generales\n",
    "import numpy as np\n",
    "import pandas as pd\n",
    "from pandas import Series\n",
    "from sklearn.model_selection import train_test_split\n",
    "from sklearn import metrics\n",
    "from sklearn import preprocessing\n",
    "from sklearn.pipeline import Pipeline\n",
    "\n",
    "#Imports específicos\n",
    "from sklearn.model_selection import cross_val_score, KFold, GridSearchCV\n",
    "from sklearn.metrics import classification_report, recall_score, precision_score, make_scorer\n",
    "import seaborn as sns\n",
    "from sklearn.ensemble import RandomForestClassifier\n",
    "from sklearn.preprocessing import StandardScaler\n",
    "from scipy.stats import sem\n",
    "\n",
    "#Visualización\n",
    "sns.set(color_codes=True)\n",
    "\n",
    "%matplotlib inline\n",
    "\n",
    "df = pd.read_csv('data/train.csv')\n",
    "\n",
    "df['Gears'] = df['Transmission'].str.extract('(\\d+)')\n",
    "df['Gears'] = pd.to_numeric(df['Gears'], errors='coerce')\n",
    "df['Transmission'] = df['Transmission'].str.extract('(\\D+)')"
   ]
  },
  {
   "cell_type": "code",
   "execution_count": null,
   "metadata": {},
   "outputs": [],
   "source": [
    "#Fuel Type\n",
    "df.loc[df[\"Fuel Type\"] == \"X\", \"Fuel Type\"] = 0\n",
    "df.loc[df[\"Fuel Type\"] == \"Z\", \"Fuel Type\"] = 1\n",
    "df.loc[df[\"Fuel Type\"] == \"D\", \"Fuel Type\"] = 2\n",
    "df.loc[df[\"Fuel Type\"] == \"E\", \"Fuel Type\"] = 3\n",
    "df.loc[df[\"Fuel Type\"] == \"N\", \"Fuel Type\"] = 4\n",
    "\n",
    "#Transmission\n",
    "df.loc[df[\"Transmission\"] == \"A\", \"Transmission\"] = 0\n",
    "df.loc[df[\"Transmission\"] == \"AM\", \"Transmission\"] = 1\n",
    "df.loc[df[\"Transmission\"] == \"AS\", \"Transmission\"] = 2\n",
    "df.loc[df[\"Transmission\"] == \"AV\", \"Transmission\"] = 3\n",
    "df.loc[df[\"Transmission\"] == \"M\", \"Transmission\"] = 4\n",
    "\n",
    "\n",
    "#Vehicle Class\n",
    "df.loc[df[\"Vehicle Class\"] == \"Compact\", \"Vehicle Class\"] = 0\n",
    "df.loc[df[\"Vehicle Class\"] == \"Full-size\", \"Vehicle Class\"] = 1\n",
    "df.loc[df[\"Vehicle Class\"] == \"Mid-size\", \"Vehicle Class\"] = 2\n",
    "df.loc[df[\"Vehicle Class\"] == \"Minicompact\", \"Vehicle Class\"] = 3\n",
    "df.loc[df[\"Vehicle Class\"] == \"Minivan\", \"Vehicle Class\"] = 4\n",
    "df.loc[df[\"Vehicle Class\"] == \"Minicompact\", \"Vehicle Class\"] = 5\n",
    "df.loc[df[\"Vehicle Class\"] == \"Pickup truck: Small\", \"Vehicle Class\"] = 6\n",
    "df.loc[df[\"Vehicle Class\"] == \"Pickup truck: Standard\", \"Vehicle Class\"] = 7\n",
    "df.loc[df[\"Vehicle Class\"] == \"SUV: Small\", \"Vehicle Class\"] = 8\n",
    "df.loc[df[\"Vehicle Class\"] == \"SUV: Standard\", \"Vehicle Class\"] = 9\n",
    "df.loc[df[\"Vehicle Class\"] == \"Special purpose vehicle\", \"Vehicle Class\"] = 10\n",
    "df.loc[df[\"Vehicle Class\"] == \"Station wagon: Mid-size\", \"Vehicle Class\"] = 11\n",
    "df.loc[df[\"Vehicle Class\"] == \"Station wagon: Small\", \"Vehicle Class\"] = 12\n",
    "df.loc[df[\"Vehicle Class\"] == \"Subcompact\", \"Vehicle Class\"] = 13\n",
    "df.loc[df[\"Vehicle Class\"] == \"Two-seater\", \"Vehicle Class\"] = 14\n",
    "\n",
    "#Gears\n",
    "df['Gears'] = df['Gears'].fillna(df['Gears'].mean())"
   ]
  },
  {
   "cell_type": "code",
   "execution_count": null,
   "metadata": {},
   "outputs": [],
   "source": [
    "df.drop(\"Model Year\", axis=1, inplace=True)\n",
    "df.drop(\"Make\", axis=1, inplace=True)\n",
    "df.drop(\"Model\", axis=1, inplace=True)\n",
    "df.drop(\"Comb (mpg)\", axis=1, inplace=True)\n",
    "df.drop(\"Fuel Consumption City (L/100 km)\", axis=1, inplace=True)\n",
    "df.drop(\"Hwy (L/100 km)\", axis=1, inplace=True)\n",
    "\n",
    "df.head()"
   ]
  },
  {
   "cell_type": "markdown",
   "metadata": {},
   "source": [
    "Con esto, hemos terminado el análisis y la limpieza de los datos del dataframe de entrenamiento."
   ]
  },
  {
   "cell_type": "markdown",
   "metadata": {},
   "source": [
    "### Definición y entrenamiento del modelo"
   ]
  },
  {
   "cell_type": "markdown",
   "metadata": {},
   "source": [
    "En este *notebook* realizaremos el entrenamiento de un modelo de bosque aleatorio, el cual entrenaremos empleando los campos 'Vehicle Class', 'Engine Size (L)', 'Cylinders', 'Transmission', 'Fuel Type', 'CO2 Emissions (g/km)' y 'Gears'.\n",
    "\n",
    "En primer lugar separaremos el conjunto de datos en subconjuntos de entrenamiento y prueba para realizar una primera aproximación."
   ]
  },
  {
   "cell_type": "code",
   "execution_count": null,
   "metadata": {},
   "outputs": [],
   "source": [
    "features = ['Vehicle Class', 'Engine Size (L)', 'Cylinders', 'Transmission', 'Fuel Type', 'CO2 Emissions (g/km)', 'Gears']\n",
    "\n",
    "x = df[features].values\n",
    "y = df['Smog'].values\n",
    "\n",
    "x_train, x_test, y_train, y_test = train_test_split(x, y, test_size=0.25, random_state=33)\n",
    "\n",
    "# Normalización\n",
    "scaler = preprocessing.StandardScaler().fit(x_train)\n",
    "x_train = scaler.transform(x_train)\n",
    "x_test = scaler.transform(x_test)"
   ]
  },
  {
   "cell_type": "markdown",
   "metadata": {},
   "source": [
    "Y una vez seleccionados los datos, entrenamos el modelo."
   ]
  },
  {
   "cell_type": "code",
   "execution_count": null,
   "metadata": {},
   "outputs": [],
   "source": [
    "model = RandomForestClassifier(n_estimators=70, random_state=100)\n",
    "\n",
    "model.fit(x_train, y_train)"
   ]
  },
  {
   "cell_type": "markdown",
   "metadata": {},
   "source": [
    "Inicialmente se usan estos hiperparámetros para el entrenamiento. Posteriormente los ajustaremos para obtener una mayor eficiencia."
   ]
  },
  {
   "cell_type": "markdown",
   "metadata": {},
   "source": [
    "### Comprobación de resultados"
   ]
  },
  {
   "cell_type": "markdown",
   "metadata": {},
   "source": [
    "Ahora, se van a observar los resultados del modelo entrenado."
   ]
  },
  {
   "cell_type": "code",
   "execution_count": null,
   "metadata": {},
   "outputs": [],
   "source": [
    "# Evaluar la Exactitud en el entrenamiento\n",
    "predicted = model.predict(x_test)\n",
    "expected = y_test\n",
    "\n",
    "y_train_pred = model.predict(x_train)\n",
    "print(\"Accuracy in training\", metrics.accuracy_score(y_train, y_train_pred))\n",
    "\n",
    "# También vamos a evaluar el error en las pruebas\n",
    "y_test_pred = model.predict(x_test)\n",
    "print(\"Accuracy in testing \", metrics.accuracy_score(y_test, y_test_pred))"
   ]
  },
  {
   "cell_type": "markdown",
   "metadata": {},
   "source": [
    "Obtenemos una exactitud del 72%. Mucho mejor que en los casos anteriores."
   ]
  },
  {
   "cell_type": "code",
   "execution_count": null,
   "metadata": {},
   "outputs": [],
   "source": [
    "s_y_test = Series(y_test)\n",
    "s_y_test.value_counts()\n",
    "\n",
    "s_y_test.value_counts().head(1) / len(y_test)"
   ]
  },
  {
   "cell_type": "markdown",
   "metadata": {},
   "source": [
    "Además, el modelo no se encuentra desbalanceado."
   ]
  },
  {
   "cell_type": "markdown",
   "metadata": {},
   "source": [
    "La última medida del funcionamiento de este modelo la realizaremos mediante el F1-score:"
   ]
  },
  {
   "cell_type": "code",
   "execution_count": null,
   "metadata": {},
   "outputs": [],
   "source": [
    "print(classification_report(expected, predicted))"
   ]
  },
  {
   "cell_type": "markdown",
   "metadata": {},
   "source": [
    "Estas métricas también son bastante mejores que en el resto de modelos, obteniendo una F1-Score aceptable."
   ]
  },
  {
   "cell_type": "markdown",
   "metadata": {},
   "source": [
    "Ahora, vamos a probar a entrenarlo y evaluarlo con K-Fold para ver si puede mejorar los resultados obtenidos."
   ]
  },
  {
   "cell_type": "code",
   "execution_count": null,
   "metadata": {},
   "outputs": [],
   "source": [
    "cv = KFold(n_splits=5, shuffle=True, random_state=33)\n",
    "\n",
    "scores = cross_val_score(model, x, y, cv=cv)\n",
    "print(\"Scores in every iteration\", scores)\n",
    "print(\"Accuracy: %0.2f (+/- %0.2f)\" % (scores.mean(), scores.std() * 2))"
   ]
  },
  {
   "cell_type": "markdown",
   "metadata": {},
   "source": [
    "Utilizando KFold se obtiene una exactitud del 77%. "
   ]
  },
  {
   "cell_type": "markdown",
   "metadata": {},
   "source": [
    "### Ajuste del algoritmo"
   ]
  },
  {
   "cell_type": "markdown",
   "metadata": {},
   "source": [
    "Se va a utilizar Grid Search para realizar una optimización de hiperparámetros."
   ]
  },
  {
   "cell_type": "code",
   "execution_count": null,
   "metadata": {},
   "outputs": [],
   "source": [
    "# Conjunto de hiperparámetros a probar\n",
    "tuned_hyperparameters = [{'n_estimators': [50, 100, 200],\n",
    "                          'max_depth': [None, 10, 20],\n",
    "                          'min_samples_split': [2, 5, 10],\n",
    "                          'min_samples_leaf': [1, 2, 4],\n",
    "                          'max_features': ['auto', 'sqrt', 'log2'],\n",
    "                          'class_weight': ['balanced', None]}]\n",
    "\n",
    "scores = ['precision', 'recall']\n",
    "\n",
    "for score in scores:\n",
    "    print(\"# Tuning hyperparameters for %s\" % score)\n",
    "    print()\n",
    "\n",
    "    if score == 'precision':\n",
    "        scorer = make_scorer(precision_score, average='weighted', zero_division=0)\n",
    "    elif score == 'recall':\n",
    "        scorer = make_scorer(recall_score, average='weighted', zero_division=0)\n",
    "\n",
    "    gs = GridSearchCV(RandomForestClassifier(), tuned_hyperparameters, cv=10, scoring=scorer)\n",
    "    gs.fit(x_train, y_train)\n",
    "\n",
    "    print(\"Best hyperparameters set found on development set:\")\n",
    "    print()\n",
    "    print(gs.best_params_)\n",
    "    print()\n",
    "    print(\"Grid scores on development set:\")\n",
    "    print()\n",
    "    means = gs.cv_results_['mean_test_score']\n",
    "    stds = gs.cv_results_['std_test_score']\n",
    "\n",
    "    for mean_score, std_score, params in zip(means, stds, gs.cv_results_['params']):\n",
    "        print(\"%0.3f (+/-%0.03f) for %r\" % (mean_score, std_score * 2, params))\n",
    "    print()\n",
    "\n",
    "    print(\"Detailed classification report:\")\n",
    "    print()\n",
    "    print(\"The model is trained on the full development set.\")\n",
    "    print(\"The scores are computed on the full evaluation set.\")\n",
    "    print()\n",
    "    y_true, y_pred = y_test, gs.predict(x_test)\n",
    "    print(classification_report(y_true, y_pred))\n",
    "    print()\n"
   ]
  },
  {
   "cell_type": "markdown",
   "metadata": {},
   "source": [
    "Hay que destacar que para realizar el ajuste de parámetros se han necesitado 20 minutos de ejecución."
   ]
  },
  {
   "cell_type": "markdown",
   "metadata": {},
   "source": [
    "### Comprobación con el algoritmo ajustado"
   ]
  },
  {
   "cell_type": "markdown",
   "metadata": {},
   "source": [
    "A partir de los resultados anteriores, volvemos a entrenar el modelo mediante validación con K-Fold para comprobar la nueva media de puntuación."
   ]
  },
  {
   "cell_type": "code",
   "execution_count": null,
   "metadata": {},
   "outputs": [],
   "source": [
    "model = Pipeline([\n",
    "    ('scaler', StandardScaler()),\n",
    "    ('random_forest', RandomForestClassifier(**gs.best_params_, random_state=100))\n",
    "])\n",
    "\n",
    "model.fit(x_train, y_train)\n",
    "\n",
    "cv = KFold(10, shuffle=True, random_state=33)\n",
    "\n",
    "scores = cross_val_score(model, x, y, cv=cv)\n",
    "def mean_score(scores):\n",
    "    return (\"Mean score: {0:.3f} (+/- {1:.3f})\").format(np.mean(scores), sem(scores))\n",
    "print(mean_score(scores))\n"
   ]
  },
  {
   "cell_type": "markdown",
   "metadata": {},
   "source": [
    "El resultado es ligeramente mejor que el demostrado antes del ajuste del algoritmo. En cambio no hay casi diferencia con el mismo."
   ]
  }
 ],
 "metadata": {
  "kernelspec": {
   "display_name": "Python 3 (ipykernel)",
   "language": "python",
   "name": "python3"
  }
 },
 "nbformat": 4,
 "nbformat_minor": 2
}
