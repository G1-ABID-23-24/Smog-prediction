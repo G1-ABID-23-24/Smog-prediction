{
 "cells": [
  {
   "cell_type": "markdown",
   "metadata": {},
   "source": [
    "# Grupo 1 - Smog predicition"
   ]
  },
  {
   "cell_type": "markdown",
   "id": "58cd8f8c",
   "metadata": {},
   "source": [
    "Inicialmente se va a analizar el dataset proporcionado, buscando que variables pueden ser útiles para realizar el reto."
   ]
  },
  {
   "cell_type": "code",
   "execution_count": null,
   "id": "7f02465f",
   "metadata": {},
   "outputs": [],
   "source": [
    "import numpy as np\n",
    "import pandas as pd\n",
    "from pandas import Series, DataFrame\n",
    "\n",
    "df = pd.read_csv('data/train.csv')\n",
    "df.head()"
   ]
  },
  {
   "cell_type": "markdown",
   "id": "2503268c",
   "metadata": {},
   "source": [
    "De un primer vistazo, algunos datos que pueden ser de utilidad para realizar la predicción podrían ser \"Engine Size (L)\", \"Cylinders\", \"Transmission\", \"Fuel Type\", \"Comb (L/100 km)\" y \"CO2 Emissions (g/km)\". "
   ]
  },
  {
   "cell_type": "code",
   "execution_count": null,
   "id": "6d848cdc",
   "metadata": {},
   "outputs": [],
   "source": [
    "df.info()"
   ]
  },
  {
   "cell_type": "markdown",
   "id": "4beb55e5",
   "metadata": {},
   "source": [
    "Hemos decidido dividir la columna \"Transmission\" para poder obtener el número de marchas (\"Gears\") y el tipo de transmisión (\"Transmission\") de cada coche."
   ]
  },
  {
   "cell_type": "code",
   "execution_count": null,
   "id": "f9643854",
   "metadata": {},
   "outputs": [],
   "source": [
    "df['Gears'] = df['Transmission'].str.extract('(\\d+)')\n",
    "df['Gears'] = pd.to_numeric(df['Gears'], errors='coerce')\n",
    "df['Transmission'] = df['Transmission'].str.extract('(\\D+)')\n",
    "df.head()"
   ]
  },
  {
   "cell_type": "markdown",
   "id": "e5de8099",
   "metadata": {},
   "source": [
    "Es necesario pasar los valores categóricos a numéricos para poder visualizar los datos y entrenar el modelo correctamente."
   ]
  },
  {
   "cell_type": "code",
   "execution_count": null,
   "id": "71026159",
   "metadata": {},
   "outputs": [],
   "source": [
    "#Fuel Type\n",
    "df.loc[df[\"Fuel Type\"] == \"X\", \"Fuel Type\"] = 0\n",
    "df.loc[df[\"Fuel Type\"] == \"Z\", \"Fuel Type\"] = 1\n",
    "df.loc[df[\"Fuel Type\"] == \"D\", \"Fuel Type\"] = 2\n",
    "df.loc[df[\"Fuel Type\"] == \"E\", \"Fuel Type\"] = 3\n",
    "df.loc[df[\"Fuel Type\"] == \"N\", \"Fuel Type\"] = 4\n",
    "\n",
    "#Transmission\n",
    "df.loc[df[\"Transmission\"] == \"A\", \"Transmission\"] = 0\n",
    "df.loc[df[\"Transmission\"] == \"AM\", \"Transmission\"] = 1\n",
    "df.loc[df[\"Transmission\"] == \"AS\", \"Transmission\"] = 2\n",
    "df.loc[df[\"Transmission\"] == \"AV\", \"Transmission\"] = 3\n",
    "df.loc[df[\"Transmission\"] == \"M\", \"Transmission\"] = 4\n",
    "\n",
    "\n",
    "#Vehicle Class\n",
    "df.loc[df[\"Vehicle Class\"] == \"Compact\", \"Vehicle Class\"] = 0\n",
    "df.loc[df[\"Vehicle Class\"] == \"Full-size\", \"Vehicle Class\"] = 1\n",
    "df.loc[df[\"Vehicle Class\"] == \"Mid-size\", \"Vehicle Class\"] = 2\n",
    "df.loc[df[\"Vehicle Class\"] == \"Minicompact\", \"Vehicle Class\"] = 3\n",
    "df.loc[df[\"Vehicle Class\"] == \"Minivan\", \"Vehicle Class\"] = 4\n",
    "df.loc[df[\"Vehicle Class\"] == \"Minicompact\", \"Vehicle Class\"] = 5\n",
    "df.loc[df[\"Vehicle Class\"] == \"Pickup truck: Small\", \"Vehicle Class\"] = 6\n",
    "df.loc[df[\"Vehicle Class\"] == \"Pickup truck: Standard\", \"Vehicle Class\"] = 7\n",
    "df.loc[df[\"Vehicle Class\"] == \"SUV: Small\", \"Vehicle Class\"] = 8\n",
    "df.loc[df[\"Vehicle Class\"] == \"SUV: Standard\", \"Vehicle Class\"] = 9\n",
    "df.loc[df[\"Vehicle Class\"] == \"Special purpose vehicle\", \"Vehicle Class\"] = 10\n",
    "df.loc[df[\"Vehicle Class\"] == \"Station wagon: Mid-size\", \"Vehicle Class\"] = 11\n",
    "df.loc[df[\"Vehicle Class\"] == \"Station wagon: Small\", \"Vehicle Class\"] = 12\n",
    "df.loc[df[\"Vehicle Class\"] == \"Subcompact\", \"Vehicle Class\"] = 13\n",
    "df.loc[df[\"Vehicle Class\"] == \"Two-seater\", \"Vehicle Class\"] = 14"
   ]
  },
  {
   "cell_type": "code",
   "execution_count": null,
   "id": "4832f9df",
   "metadata": {},
   "outputs": [],
   "source": [
    "df.isnull().sum()"
   ]
  },
  {
   "cell_type": "markdown",
   "id": "8682b293",
   "metadata": {},
   "source": [
    "Al buscar si al tratar los datos hay algun valor nulo encontramos que en la columna \"Gears\" hay 22 valores nulos. Por ello a los valores nulos se les asocia la media de los valores no nulos. "
   ]
  },
  {
   "cell_type": "code",
   "execution_count": null,
   "id": "8f4adfeb",
   "metadata": {},
   "outputs": [],
   "source": [
    "\n",
    "df['Gears'].fillna(df['Gears'].mean(), inplace=True)\n",
    "df.isnull().sum()"
   ]
  },
  {
   "cell_type": "markdown",
   "id": "8e9456c2",
   "metadata": {},
   "source": [
    "Al analizar el dataset hemos detectado que la columna de \"Model Year\" es igual en todos los datos, por lo que hemos decidido suprimirla al no aportar gran información para realizar el modelo."
   ]
  },
  {
   "cell_type": "code",
   "execution_count": null,
   "id": "b1c18ef0",
   "metadata": {},
   "outputs": [],
   "source": [
    "df.drop(\"Model Year\", axis=1, inplace=True)\n",
    "df.head()"
   ]
  },
  {
   "cell_type": "markdown",
   "id": "aa05a952",
   "metadata": {},
   "source": [
    "También, hemos decidido eliminar las columnas de \"Make\" y \"Model\" porque no resultan útiles, al no aportar información relevante para calcular la clasificación de \"Smog\". Además, así podemos realizar un modelo menos complejo al tener menos características a ajustar."
   ]
  },
  {
   "cell_type": "code",
   "execution_count": null,
   "id": "b20793dc",
   "metadata": {},
   "outputs": [],
   "source": [
    "df.drop(\"Make\", axis=1, inplace=True)\n",
    "df.drop(\"Model\", axis=1, inplace=True)\n",
    "df.head()"
   ]
  },
  {
   "cell_type": "markdown",
   "id": "9822b947",
   "metadata": {},
   "source": [
    "Al igual, se eliminará la columna \"Comb (mpg)\" al ser una métrica equivalente a la anterior, pero en unidades del sistema anglosajón."
   ]
  },
  {
   "cell_type": "code",
   "execution_count": null,
   "id": "70db6d1e",
   "metadata": {},
   "outputs": [],
   "source": [
    "df.drop(\"Comb (mpg)\", axis=1, inplace=True)\n",
    "df.head()"
   ]
  },
  {
   "cell_type": "code",
   "execution_count": null,
   "id": "0d7b19f6",
   "metadata": {},
   "outputs": [],
   "source": [
    "import seaborn as sns\n",
    "import matplotlib.pyplot as plt\n",
    "sns.set(color_codes=True)\n",
    "\n",
    "%matplotlib inline"
   ]
  },
  {
   "cell_type": "code",
   "execution_count": null,
   "id": "a04d7f71",
   "metadata": {},
   "outputs": [],
   "source": [
    "#g = sns.PairGrid(df, hue=\"Smog\")\n",
    "#g.map_diag(plt.hist)\n",
    "#g.map_offdiag(plt.scatter)\n",
    "#g.add_legend()"
   ]
  },
  {
   "cell_type": "markdown",
   "id": "84216b12",
   "metadata": {},
   "source": [
    "Finalmente, eliminamos las columnas \"Fuel Consumption City (L/100Km)\" y \"Hwy (L/100Km)\" ya que estos datos se han combinado en la columna \"Comb (L/100Km)\", que será la que se usará como media del consumo de cada coche en ciudad y autopista en nuestro estudio. "
   ]
  },
  {
   "cell_type": "code",
   "execution_count": null,
   "id": "6ed15a9e",
   "metadata": {},
   "outputs": [],
   "source": [
    "df.drop(\"Fuel Consumption City (L/100 km)\", axis=1, inplace=True)\n",
    "df.drop(\"Hwy (L/100 km)\", axis=1, inplace=True)\n",
    "df.head()"
   ]
  },
  {
   "cell_type": "code",
   "execution_count": null,
   "id": "dda13dea",
   "metadata": {},
   "outputs": [],
   "source": [
    "g = sns.PairGrid(df, hue=\"Smog\")\n",
    "g.map_diag(plt.hist)\n",
    "g.map_offdiag(plt.scatter)\n",
    "g.add_legend()"
   ]
  },
  {
   "cell_type": "markdown",
   "id": "dfbadfb2",
   "metadata": {},
   "source": [
    "Tras observar los gráficos de las diferentes características correladas podemos deducir que las principales variables para la predicción son \"Gears\", \"Fuel Type\", \"Cylinders\" y \"Transmission\". En cambio, una de las variables que pensábamos que iban a ser de las más prometedoras era \"Engine Size (L)\", pero al final ha resultado ser de las menos correladas con el resto."
   ]
  }
 ],
 "metadata": {
  "kernelspec": {
   "display_name": "Python 3 (ipykernel)",
   "language": "python",
   "name": "python3"
  }
 },
 "nbformat": 4,
 "nbformat_minor": 5
}
