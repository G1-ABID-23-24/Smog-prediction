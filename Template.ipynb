{
 "cells": [
  {
   "cell_type": "markdown",
   "id": "35c93ef4",
   "metadata": {},
   "source": [
    "# Grupo 1 - Smog predicition"
   ]
  },
  {
   "cell_type": "markdown",
   "id": "83d893a0",
   "metadata": {},
   "source": [
    "## Inspección y tratamiento de los datos proporcionados"
   ]
  },
  {
   "cell_type": "markdown",
   "id": "58cd8f8c",
   "metadata": {},
   "source": [
    "Inicialmente se va a analizar el dataset proporcionado, buscando que variables pueden ser útiles para realizar el reto. Para ello, comenzamos por importar los datos."
   ]
  },
  {
   "cell_type": "code",
   "execution_count": null,
   "id": "7f02465f",
   "metadata": {},
   "outputs": [],
   "source": [
    "import pandas as pd\n",
    "\n",
    "df = pd.read_csv('data/train.csv')\n",
    "df.head()"
   ]
  },
  {
   "cell_type": "markdown",
   "id": "2503268c",
   "metadata": {},
   "source": [
    "De un primer vistazo, algunos datos que pueden ser de utilidad para realizar la predicción podrían ser \"Engine Size (L)\", \"Cylinders\", \"Transmission\", \"Fuel Type\", \"Comb (L/100 km)\" y \"CO2 Emissions (g/km)\". "
   ]
  },
  {
   "cell_type": "code",
   "execution_count": null,
   "id": "6d848cdc",
   "metadata": {},
   "outputs": [],
   "source": [
    "df.info()"
   ]
  },
  {
   "cell_type": "markdown",
   "id": "4beb55e5",
   "metadata": {},
   "source": [
    "Hemos decidido dividir la columna \"Transmission\" para poder obtener el número de marchas (\"Gears\") y el tipo de transmisión (\"Transmission\") de cada coche de forma separada para facilitar la conversión de esta segunda propiedad a valores numéricos."
   ]
  },
  {
   "cell_type": "code",
   "execution_count": null,
   "id": "f9643854",
   "metadata": {},
   "outputs": [],
   "source": [
    "df['Gears'] = df['Transmission'].str.extract('(\\d+)')\n",
    "df['Gears'] = pd.to_numeric(df['Gears'], errors='coerce')\n",
    "df['Transmission'] = df['Transmission'].str.extract('(\\D+)')\n",
    "df.head()"
   ]
  },
  {
   "cell_type": "markdown",
   "id": "e5de8099",
   "metadata": {},
   "source": [
    "Es necesario transformar los valores categóricos a numéricos para poder visualizar los datos y entrenar el modelo correctamente."
   ]
  },
  {
   "cell_type": "code",
   "execution_count": null,
   "id": "71026159",
   "metadata": {},
   "outputs": [],
   "source": [
    "#Fuel Type\n",
    "df.loc[df[\"Fuel Type\"] == \"X\", \"Fuel Type\"] = 0\n",
    "df.loc[df[\"Fuel Type\"] == \"Z\", \"Fuel Type\"] = 1\n",
    "df.loc[df[\"Fuel Type\"] == \"D\", \"Fuel Type\"] = 2\n",
    "df.loc[df[\"Fuel Type\"] == \"E\", \"Fuel Type\"] = 3\n",
    "df.loc[df[\"Fuel Type\"] == \"N\", \"Fuel Type\"] = 4\n",
    "\n",
    "#Transmission\n",
    "df.loc[df[\"Transmission\"] == \"A\", \"Transmission\"] = 0\n",
    "df.loc[df[\"Transmission\"] == \"AM\", \"Transmission\"] = 1\n",
    "df.loc[df[\"Transmission\"] == \"AS\", \"Transmission\"] = 2\n",
    "df.loc[df[\"Transmission\"] == \"AV\", \"Transmission\"] = 3\n",
    "df.loc[df[\"Transmission\"] == \"M\", \"Transmission\"] = 4\n",
    "\n",
    "\n",
    "#Vehicle Class\n",
    "df.loc[df[\"Vehicle Class\"] == \"Compact\", \"Vehicle Class\"] = 0\n",
    "df.loc[df[\"Vehicle Class\"] == \"Full-size\", \"Vehicle Class\"] = 1\n",
    "df.loc[df[\"Vehicle Class\"] == \"Mid-size\", \"Vehicle Class\"] = 2\n",
    "df.loc[df[\"Vehicle Class\"] == \"Minicompact\", \"Vehicle Class\"] = 3\n",
    "df.loc[df[\"Vehicle Class\"] == \"Minivan\", \"Vehicle Class\"] = 4\n",
    "df.loc[df[\"Vehicle Class\"] == \"Minicompact\", \"Vehicle Class\"] = 5\n",
    "df.loc[df[\"Vehicle Class\"] == \"Pickup truck: Small\", \"Vehicle Class\"] = 6\n",
    "df.loc[df[\"Vehicle Class\"] == \"Pickup truck: Standard\", \"Vehicle Class\"] = 7\n",
    "df.loc[df[\"Vehicle Class\"] == \"SUV: Small\", \"Vehicle Class\"] = 8\n",
    "df.loc[df[\"Vehicle Class\"] == \"SUV: Standard\", \"Vehicle Class\"] = 9\n",
    "df.loc[df[\"Vehicle Class\"] == \"Special purpose vehicle\", \"Vehicle Class\"] = 10\n",
    "df.loc[df[\"Vehicle Class\"] == \"Station wagon: Mid-size\", \"Vehicle Class\"] = 11\n",
    "df.loc[df[\"Vehicle Class\"] == \"Station wagon: Small\", \"Vehicle Class\"] = 12\n",
    "df.loc[df[\"Vehicle Class\"] == \"Subcompact\", \"Vehicle Class\"] = 13\n",
    "df.loc[df[\"Vehicle Class\"] == \"Two-seater\", \"Vehicle Class\"] = 14"
   ]
  },
  {
   "cell_type": "markdown",
   "id": "63c7170e",
   "metadata": {},
   "source": [
    "A continuación, comprobaremos si existen valores nulos para completarlos o eliminarlos según proceda."
   ]
  },
  {
   "cell_type": "code",
   "execution_count": null,
   "id": "4832f9df",
   "metadata": {},
   "outputs": [],
   "source": [
    "df.isnull().sum()"
   ]
  },
  {
   "cell_type": "markdown",
   "id": "8682b293",
   "metadata": {},
   "source": [
    "Al buscar si al tratar los datos hay algun valor nulo encontramos que en la columna \"Gears\" hay 22 valores nulos, por lo que hemos decidido completar los datos sin marchas asociadas con la media de \"Gears\" en los otros datos."
   ]
  },
  {
   "cell_type": "code",
   "execution_count": null,
   "id": "8f4adfeb",
   "metadata": {},
   "outputs": [],
   "source": [
    "df['Gears'] = df['Gears'].fillna(df['Gears'].mean())\n",
    "df.isnull().sum()"
   ]
  },
  {
   "cell_type": "markdown",
   "id": "8e9456c2",
   "metadata": {},
   "source": [
    "Al analizar el dataset hemos detectado que la columna de \"Model Year\" es igual en todos los datos, por lo que hemos decidido suprimirla al no aportar información relevante para entrenar el modelo."
   ]
  },
  {
   "cell_type": "code",
   "execution_count": null,
   "id": "b1c18ef0",
   "metadata": {},
   "outputs": [],
   "source": [
    "df.drop(\"Model Year\", axis=1, inplace=True)\n",
    "df.head()"
   ]
  },
  {
   "cell_type": "markdown",
   "id": "aa05a952",
   "metadata": {},
   "source": [
    "También, hemos decidido eliminar las columnas de \"Make\" y \"Model\" porque no resultan útiles, al no aportar información relevante para calcular la clasificación de \"Smog\". Además, así podemos realizar un modelo menos complejo al tener menos características a ajustar."
   ]
  },
  {
   "cell_type": "code",
   "execution_count": null,
   "id": "b20793dc",
   "metadata": {},
   "outputs": [],
   "source": [
    "df.drop(\"Make\", axis=1, inplace=True)\n",
    "df.drop(\"Model\", axis=1, inplace=True)\n",
    "df.head()"
   ]
  },
  {
   "cell_type": "markdown",
   "id": "9822b947",
   "metadata": {},
   "source": [
    "Del mismo modo, se eliminará la columna \"Comb (mpg)\" al ser una métrica equivalente a la anterior, pero en unidades del sistema anglosajón."
   ]
  },
  {
   "cell_type": "code",
   "execution_count": null,
   "id": "70db6d1e",
   "metadata": {},
   "outputs": [],
   "source": [
    "df.drop(\"Comb (mpg)\", axis=1, inplace=True)\n",
    "df.head()"
   ]
  },
  {
   "cell_type": "markdown",
   "id": "84216b12",
   "metadata": {},
   "source": [
    "Finalmente, eliminamos las columnas \"Fuel Consumption City (L/100Km)\" y \"Hwy (L/100Km)\" ya que estos datos se han combinado en la columna \"Comb (L/100Km)\", que será la que se usará como media del consumo de cada coche en ciudad y autopista en nuestro estudio. "
   ]
  },
  {
   "cell_type": "code",
   "execution_count": null,
   "id": "6ed15a9e",
   "metadata": {},
   "outputs": [],
   "source": [
    "df.drop(\"Fuel Consumption City (L/100 km)\", axis=1, inplace=True)\n",
    "df.drop(\"Hwy (L/100 km)\", axis=1, inplace=True)\n",
    "df.head()"
   ]
  },
  {
   "cell_type": "markdown",
   "id": "f58940eb",
   "metadata": {},
   "source": [
    "### Visualización de los datos"
   ]
  },
  {
   "cell_type": "markdown",
   "id": "049e218a",
   "metadata": {},
   "source": [
    "En este apartado, generaremos algunas gráficas para ilustrar los datos de los que disponemos y obtener así relaciones interesantes que nos proporcionen pistas para el entrentamiento de nuestro modelo."
   ]
  },
  {
   "cell_type": "code",
   "execution_count": null,
   "id": "0d7b19f6",
   "metadata": {},
   "outputs": [],
   "source": [
    "import seaborn as sns\n",
    "import matplotlib.pyplot as plt\n",
    "sns.set(color_codes=True)\n",
    "\n",
    "%matplotlib inline"
   ]
  },
  {
   "cell_type": "markdown",
   "id": "e2112d1f",
   "metadata": {},
   "source": [
    "Comenzaremos con un *scatter plot* de todos los parámetros."
   ]
  },
  {
   "cell_type": "code",
   "execution_count": null,
   "id": "dda13dea",
   "metadata": {},
   "outputs": [],
   "source": [
    "g = sns.PairGrid(df, hue=\"Smog\")\n",
    "g.map_diag(plt.hist)\n",
    "g.map_offdiag(plt.scatter)\n",
    "g.add_legend()"
   ]
  },
  {
   "cell_type": "markdown",
   "id": "dfbadfb2",
   "metadata": {},
   "source": [
    "Tras observar los gráficos de las diferentes características correladas podemos deducir que las principales variables para la predicción son \"Gears\", \"Fuel Type\", \"Cylinders\" y \"Transmission\". Sin embargo, una de las variables que parecía más prometedoras, \"Engine Size (L)\", finalmente ha resultado ser de las menos correladas con el resto."
   ]
  },
  {
   "cell_type": "markdown",
   "id": "fa35ca20",
   "metadata": {},
   "source": [
    "A partir de esta primera visualización de los datos, y conociendo las propiedades más interesantes de nuestro dataframe, podemos obtener diversas gráficas que nos ayuden a comprender la relación entre las diferentes variables y su categoría de emisión de *smog*."
   ]
  },
  {
   "cell_type": "code",
   "execution_count": null,
   "id": "00a88e41",
   "metadata": {},
   "outputs": [],
   "source": [
    "sns.FacetGrid(df, col='Smog').map(plt.hist, \"Cylinders\", color=\"steelblue\")"
   ]
  },
  {
   "cell_type": "markdown",
   "id": "e3c03c71",
   "metadata": {},
   "source": [
    "En este segundo gráfico puede observarse el número de cilindros de los vehículos en función de su clasificación de *smog*, lo que nos desvela que, en términos generales, aquellos vehículos con mejor clasificación son los que cuentan con un menor número de estos."
   ]
  },
  {
   "cell_type": "code",
   "execution_count": null,
   "id": "11fcf9cd",
   "metadata": {},
   "outputs": [],
   "source": [
    "import matplotlib.pyplot as plt\n",
    "plt.figure(figsize=(15, 7))\n",
    "\n",
    "plt.subplot(1, 2, 1)\n",
    "transmission_types = ['A', 'AM', 'AS', 'AV', 'M']\n",
    "smog_per_trans = df.groupby(['Transmission','Smog']).size().unstack(['Transmission']).plot(\n",
    "    kind='bar', stacked=True, rot=0, subplots=False, ax=plt.gca())\n",
    "smog_per_trans.legend(labels=transmission_types)\n",
    "smog_per_trans.set_xlabel('Smog category')\n",
    "smog_per_trans.set_title('Smog classification per Transmission Type')\n",
    "\n",
    "\n",
    "plt.subplot(1, 2, 2)\n",
    "fuel_types = ['Regular', 'Premium', 'Diesel', 'Ethanol']\n",
    "smog_per_fuel = df.groupby(['Fuel Type','Smog']).size().unstack(['Fuel Type']).plot(\n",
    "    kind='bar', stacked=True, rot=0, subplots=False, ax=plt.gca()) \n",
    "smog_per_fuel.legend(labels=fuel_types)\n",
    "smog_per_fuel.set_xlabel('Smog category')\n",
    "smog_per_fuel.set_title('Smog classification per Fuel Type')\n",
    "\n",
    "plt.tight_layout()\n",
    "plt.show()"
   ]
  },
  {
   "cell_type": "markdown",
   "id": "69dfcbf3",
   "metadata": {},
   "source": [
    "En estas dos gráficas se ha representado la clasificación de emisión de *smog* en función del tipo de transmisión y del tipo de combustible empleado por el vehículo.\n",
    "\n",
    "En la primera de ellas podemos observar que los vehículos con mejor clasificación medioambiental son aquellos que cuentan con cajas de cambios de tipo `A` y `AM`, además de un pequeño grupo que cuenta con cajas de tipo `M` y `AS`. Ningún vehículo con esta calificación cuenta con una caja de tipo `AV`. Por otro lado, las cajas de tipo `AV` y `AS`son mayoritarias entre los vehículos con clasificación medioambiental 4.\n",
    "\n",
    "En cuanto a la clasificación en función del tipo de combustible, los vehículos con menores emisiones de *smog* son aquellos que emplean únicamente diésel y, en mayor medida, gasolina *premium*, mientras que entre los más contaminantes destacan aquellos que emplean gasolina regular. En ninguno de los casos extremos hay vehículos que empleen etanol como combustible."
   ]
  }
 ],
 "metadata": {
  "kernelspec": {
   "display_name": "Python 3 (ipykernel)",
   "language": "python",
   "name": "python3"
  },
  "language_info": {
   "codemirror_mode": {
    "name": "ipython",
    "version": 3
   },
   "file_extension": ".py",
   "mimetype": "text/x-python",
   "name": "python",
   "nbconvert_exporter": "python",
   "pygments_lexer": "ipython3",
   "version": "3.11.5"
  }
 },
 "nbformat": 4,
 "nbformat_minor": 5
}
