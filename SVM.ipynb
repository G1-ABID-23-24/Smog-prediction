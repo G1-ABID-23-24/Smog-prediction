{
 "cells": [
  {
   "cell_type": "markdown",
   "id": "7ce30847",
   "metadata": {},
   "source": [
    "# Grupo 1 - Smog predicition\n",
    "## Modelo SVM"
   ]
  },
  {
   "cell_type": "markdown",
   "id": "58cd8f8c",
   "metadata": {},
   "source": [
    "### Análisis y limpieza de datos"
   ]
  },
  {
   "cell_type": "code",
   "execution_count": 3,
   "id": "7f02465f",
   "metadata": {},
   "outputs": [],
   "source": [
    "#Imports generales\n",
    "import numpy as np\n",
    "import pandas as pd\n",
    "from pandas import Series\n",
    "from sklearn.model_selection import train_test_split\n",
    "from sklearn import metrics\n",
    "from sklearn import preprocessing\n",
    "from sklearn.metrics import classification_report\n",
    "from sklearn.pipeline import Pipeline\n",
    "\n",
    "#Imports específicos\n",
    "from sklearn.svm import SVC\n",
    "from sklearn.model_selection import cross_val_score, KFold, GridSearchCV\n",
    "from sklearn.metrics import classification_report, recall_score, precision_score, make_scorer\n",
    "from sklearn.preprocessing import StandardScaler\n",
    "from scipy.stats import sem\n",
    "\n",
    "#Visualización\n",
    "import seaborn as sns\n",
    "sns.set(color_codes=True)\n",
    "\n",
    "%matplotlib inline\n",
    "\n",
    "df = pd.read_csv('data/train.csv')\n",
    "\n",
    "df['Gears'] = df['Transmission'].str.extract('(\\d+)')\n",
    "df['Gears'] = pd.to_numeric(df['Gears'], errors='coerce')\n",
    "df['Transmission'] = df['Transmission'].str.extract('(\\D+)')"
   ]
  },
  {
   "cell_type": "code",
   "execution_count": 4,
   "id": "5f558072",
   "metadata": {},
   "outputs": [],
   "source": [
    "#Fuel Type\n",
    "df.loc[df[\"Fuel Type\"] == \"X\", \"Fuel Type\"] = 0\n",
    "df.loc[df[\"Fuel Type\"] == \"Z\", \"Fuel Type\"] = 1\n",
    "df.loc[df[\"Fuel Type\"] == \"D\", \"Fuel Type\"] = 2\n",
    "df.loc[df[\"Fuel Type\"] == \"E\", \"Fuel Type\"] = 3\n",
    "df.loc[df[\"Fuel Type\"] == \"N\", \"Fuel Type\"] = 4\n",
    "\n",
    "#Transmission\n",
    "df.loc[df[\"Transmission\"] == \"A\", \"Transmission\"] = 0\n",
    "df.loc[df[\"Transmission\"] == \"AM\", \"Transmission\"] = 1\n",
    "df.loc[df[\"Transmission\"] == \"AS\", \"Transmission\"] = 2\n",
    "df.loc[df[\"Transmission\"] == \"AV\", \"Transmission\"] = 3\n",
    "df.loc[df[\"Transmission\"] == \"M\", \"Transmission\"] = 4\n",
    "\n",
    "\n",
    "#Vehicle Class\n",
    "df.loc[df[\"Vehicle Class\"] == \"Compact\", \"Vehicle Class\"] = 0\n",
    "df.loc[df[\"Vehicle Class\"] == \"Full-size\", \"Vehicle Class\"] = 1\n",
    "df.loc[df[\"Vehicle Class\"] == \"Mid-size\", \"Vehicle Class\"] = 2\n",
    "df.loc[df[\"Vehicle Class\"] == \"Minicompact\", \"Vehicle Class\"] = 3\n",
    "df.loc[df[\"Vehicle Class\"] == \"Minivan\", \"Vehicle Class\"] = 4\n",
    "df.loc[df[\"Vehicle Class\"] == \"Minicompact\", \"Vehicle Class\"] = 5\n",
    "df.loc[df[\"Vehicle Class\"] == \"Pickup truck: Small\", \"Vehicle Class\"] = 6\n",
    "df.loc[df[\"Vehicle Class\"] == \"Pickup truck: Standard\", \"Vehicle Class\"] = 7\n",
    "df.loc[df[\"Vehicle Class\"] == \"SUV: Small\", \"Vehicle Class\"] = 8\n",
    "df.loc[df[\"Vehicle Class\"] == \"SUV: Standard\", \"Vehicle Class\"] = 9\n",
    "df.loc[df[\"Vehicle Class\"] == \"Special purpose vehicle\", \"Vehicle Class\"] = 10\n",
    "df.loc[df[\"Vehicle Class\"] == \"Station wagon: Mid-size\", \"Vehicle Class\"] = 11\n",
    "df.loc[df[\"Vehicle Class\"] == \"Station wagon: Small\", \"Vehicle Class\"] = 12\n",
    "df.loc[df[\"Vehicle Class\"] == \"Subcompact\", \"Vehicle Class\"] = 13\n",
    "df.loc[df[\"Vehicle Class\"] == \"Two-seater\", \"Vehicle Class\"] = 14\n",
    "\n",
    "#Gears\n",
    "df['Gears'] = df['Gears'].fillna(df['Gears'].mean())"
   ]
  },
  {
   "cell_type": "code",
   "execution_count": 5,
   "id": "b1c18ef0",
   "metadata": {},
   "outputs": [
    {
     "data": {
      "text/html": [
       "<div>\n",
       "<style scoped>\n",
       "    .dataframe tbody tr th:only-of-type {\n",
       "        vertical-align: middle;\n",
       "    }\n",
       "\n",
       "    .dataframe tbody tr th {\n",
       "        vertical-align: top;\n",
       "    }\n",
       "\n",
       "    .dataframe thead th {\n",
       "        text-align: right;\n",
       "    }\n",
       "</style>\n",
       "<table border=\"1\" class=\"dataframe\">\n",
       "  <thead>\n",
       "    <tr style=\"text-align: right;\">\n",
       "      <th></th>\n",
       "      <th>id</th>\n",
       "      <th>Vehicle Class</th>\n",
       "      <th>Engine Size (L)</th>\n",
       "      <th>Cylinders</th>\n",
       "      <th>Transmission</th>\n",
       "      <th>Fuel Type</th>\n",
       "      <th>Comb (L/100 km)</th>\n",
       "      <th>CO2 Emissions (g/km)</th>\n",
       "      <th>Smog</th>\n",
       "      <th>Gears</th>\n",
       "    </tr>\n",
       "  </thead>\n",
       "  <tbody>\n",
       "    <tr>\n",
       "      <th>0</th>\n",
       "      <td>ab44e9bec15</td>\n",
       "      <td>12</td>\n",
       "      <td>2.0</td>\n",
       "      <td>4</td>\n",
       "      <td>1</td>\n",
       "      <td>1</td>\n",
       "      <td>8.7</td>\n",
       "      <td>202</td>\n",
       "      <td>2</td>\n",
       "      <td>7.0</td>\n",
       "    </tr>\n",
       "    <tr>\n",
       "      <th>1</th>\n",
       "      <td>45926762371</td>\n",
       "      <td>2</td>\n",
       "      <td>2.0</td>\n",
       "      <td>4</td>\n",
       "      <td>2</td>\n",
       "      <td>0</td>\n",
       "      <td>7.7</td>\n",
       "      <td>181</td>\n",
       "      <td>4</td>\n",
       "      <td>6.0</td>\n",
       "    </tr>\n",
       "    <tr>\n",
       "      <th>2</th>\n",
       "      <td>e9be56e153f</td>\n",
       "      <td>1</td>\n",
       "      <td>2.9</td>\n",
       "      <td>6</td>\n",
       "      <td>1</td>\n",
       "      <td>1</td>\n",
       "      <td>11.7</td>\n",
       "      <td>274</td>\n",
       "      <td>2</td>\n",
       "      <td>8.0</td>\n",
       "    </tr>\n",
       "    <tr>\n",
       "      <th>3</th>\n",
       "      <td>077092760df</td>\n",
       "      <td>0</td>\n",
       "      <td>2.0</td>\n",
       "      <td>4</td>\n",
       "      <td>2</td>\n",
       "      <td>0</td>\n",
       "      <td>8.1</td>\n",
       "      <td>189</td>\n",
       "      <td>1</td>\n",
       "      <td>6.0</td>\n",
       "    </tr>\n",
       "    <tr>\n",
       "      <th>4</th>\n",
       "      <td>c1c2579b795</td>\n",
       "      <td>3</td>\n",
       "      <td>5.2</td>\n",
       "      <td>12</td>\n",
       "      <td>0</td>\n",
       "      <td>1</td>\n",
       "      <td>13.8</td>\n",
       "      <td>324</td>\n",
       "      <td>1</td>\n",
       "      <td>8.0</td>\n",
       "    </tr>\n",
       "  </tbody>\n",
       "</table>\n",
       "</div>"
      ],
      "text/plain": [
       "            id Vehicle Class  Engine Size (L)  Cylinders Transmission  \\\n",
       "0  ab44e9bec15            12              2.0          4            1   \n",
       "1  45926762371             2              2.0          4            2   \n",
       "2  e9be56e153f             1              2.9          6            1   \n",
       "3  077092760df             0              2.0          4            2   \n",
       "4  c1c2579b795             3              5.2         12            0   \n",
       "\n",
       "  Fuel Type  Comb (L/100 km)  CO2 Emissions (g/km)  Smog  Gears  \n",
       "0         1              8.7                   202     2    7.0  \n",
       "1         0              7.7                   181     4    6.0  \n",
       "2         1             11.7                   274     2    8.0  \n",
       "3         0              8.1                   189     1    6.0  \n",
       "4         1             13.8                   324     1    8.0  "
      ]
     },
     "execution_count": 5,
     "metadata": {},
     "output_type": "execute_result"
    }
   ],
   "source": [
    "df.drop(\"Model Year\", axis=1, inplace=True)\n",
    "df.drop(\"Make\", axis=1, inplace=True)\n",
    "df.drop(\"Model\", axis=1, inplace=True)\n",
    "df.drop(\"Comb (mpg)\", axis=1, inplace=True)\n",
    "df.drop(\"Fuel Consumption City (L/100 km)\", axis=1, inplace=True)\n",
    "df.drop(\"Hwy (L/100 km)\", axis=1, inplace=True)\n",
    "\n",
    "df.head()"
   ]
  },
  {
   "cell_type": "markdown",
   "id": "85b3aafb",
   "metadata": {},
   "source": [
    "Con esto, hemos terminado el análisis y la limpieza de los datos de ambos dataframes."
   ]
  },
  {
   "cell_type": "markdown",
   "id": "e01cdfec",
   "metadata": {},
   "source": [
    "### Definición y entrenamiento del modelo"
   ]
  },
  {
   "cell_type": "markdown",
   "id": "fe97561c",
   "metadata": {},
   "source": [
    "En este *notebook* realizaremos el entrenamiento de un modelo de SVM, el cual entrenaremos empleando los campos 'Vehicle Class', 'Engine Size (L)', 'Cylinders', 'Transmission', 'Fuel Type', 'CO2 Emissions (g/km)' y 'Gears'.\n",
    "\n",
    "En primer lugar separaremos el conjunto de datos en subconjuntos de entrenamiento y prueba para realizar una primera aproximación."
   ]
  },
  {
   "cell_type": "code",
   "execution_count": 6,
   "id": "41bf8841",
   "metadata": {},
   "outputs": [],
   "source": [
    "features = ['Vehicle Class', 'Engine Size (L)', 'Cylinders', 'Transmission', 'Fuel Type', 'Comb (L/100 km)', 'CO2 Emissions (g/km)', 'Gears']\n",
    "\n",
    "x = df[features].values\n",
    "y = df['Smog'].values\n",
    "\n",
    "x_train, x_test, y_train, y_test = train_test_split(x, y, test_size=0.25, random_state=33)\n",
    "\n",
    "# Normalización\n",
    "scaler = preprocessing.StandardScaler().fit(x_train)\n",
    "x_train = scaler.transform(x_train)\n",
    "x_test = scaler.transform(x_test)"
   ]
  },
  {
   "cell_type": "markdown",
   "id": "b4416b77",
   "metadata": {},
   "source": [
    "Y una vez seleccionados los datos, entrenamos el modelo."
   ]
  },
  {
   "cell_type": "code",
   "execution_count": 7,
   "id": "a8abf706",
   "metadata": {
    "scrolled": true
   },
   "outputs": [
    {
     "data": {
      "text/plain": [
       "SVC(gamma=3.0, kernel='linear', probability=True)"
      ]
     },
     "execution_count": 7,
     "metadata": {},
     "output_type": "execute_result"
    }
   ],
   "source": [
    "model = SVC(kernel='linear', probability=True, gamma=3.0)\n",
    "\n",
    "model.fit(x_train, y_train)"
   ]
  },
  {
   "cell_type": "markdown",
   "id": "fdcaad6b",
   "metadata": {},
   "source": [
    "Inicialmente se usan estos hiperparámetros para el entrenamiento. Posteriormente los ajustaremos para obtener una mayor eficiencia."
   ]
  },
  {
   "cell_type": "markdown",
   "id": "9ea5ed27",
   "metadata": {},
   "source": [
    "Tras definir el modelo se va a pasar a la fase de entrenamiento."
   ]
  },
  {
   "cell_type": "markdown",
   "id": "e251e597",
   "metadata": {},
   "source": [
    "### Comprobación de resultados"
   ]
  },
  {
   "cell_type": "markdown",
   "id": "3c763136",
   "metadata": {},
   "source": [
    "Para la comprobación de resultados se van a calcular varias métricas, obteniendo la eficacia de nuestro modelo."
   ]
  },
  {
   "cell_type": "code",
   "execution_count": 8,
   "id": "2ef0bb93",
   "metadata": {},
   "outputs": [
    {
     "name": "stdout",
     "output_type": "stream",
     "text": [
      "Accuracy in training 0.6173120728929385\n",
      "Accuracy in testing  0.5374149659863946\n"
     ]
    }
   ],
   "source": [
    "# Evaluar la Exactitud en el entrenamiento\n",
    "predicted = model.predict(x_test)\n",
    "expected = y_test\n",
    "\n",
    "y_train_pred = model.predict(x_train)\n",
    "print(\"Accuracy in training\", metrics.accuracy_score(y_train, y_train_pred))\n",
    "\n",
    "# También vamos a evaluar el error en las pruebas\n",
    "y_test_pred = model.predict(x_test)\n",
    "print(\"Accuracy in testing \", metrics.accuracy_score(y_test, y_test_pred))"
   ]
  },
  {
   "cell_type": "markdown",
   "id": "4d7ffc99",
   "metadata": {},
   "source": [
    "Nuestra exactitud es bastante mala... Obteniendo un 54% de exactitud."
   ]
  },
  {
   "cell_type": "code",
   "execution_count": 9,
   "id": "b08abbc6",
   "metadata": {},
   "outputs": [
    {
     "data": {
      "text/plain": [
       "2    0.408163\n",
       "dtype: float64"
      ]
     },
     "execution_count": 9,
     "metadata": {},
     "output_type": "execute_result"
    }
   ],
   "source": [
    "s_y_test = Series(y_test)\n",
    "s_y_test.value_counts()\n",
    "\n",
    "s_y_test.value_counts().head(1) / len(y_test)"
   ]
  },
  {
   "cell_type": "markdown",
   "id": "bae594b9",
   "metadata": {},
   "source": [
    "Al cumplir la exactitud nula podemos deducir que el modelo no se encuentra desbalanceado en nuestro conjunto de datos.\n",
    "\n",
    "Vamos con el F1 Score:"
   ]
  },
  {
   "cell_type": "code",
   "execution_count": 10,
   "id": "62d0d103",
   "metadata": {},
   "outputs": [
    {
     "name": "stdout",
     "output_type": "stream",
     "text": [
      "              precision    recall  f1-score   support\n",
      "\n",
      "           0       0.33      0.14      0.20         7\n",
      "           1       0.53      0.68      0.59        28\n",
      "           2       0.61      0.47      0.53        60\n",
      "           3       0.52      0.54      0.53        28\n",
      "           4       0.48      0.67      0.56        24\n",
      "\n",
      "    accuracy                           0.54       147\n",
      "   macro avg       0.49      0.50      0.48       147\n",
      "weighted avg       0.54      0.54      0.53       147\n",
      "\n"
     ]
    }
   ],
   "source": [
    "print(classification_report(expected, predicted))"
   ]
  },
  {
   "cell_type": "markdown",
   "id": "7b4db0f9",
   "metadata": {},
   "source": [
    "El resto de métricas calculadas también son muy negativas..."
   ]
  },
  {
   "cell_type": "markdown",
   "id": "896ebfcf",
   "metadata": {},
   "source": [
    "Ahora, vamos a probar a entrenarlo y evaluarlo con K-Fold para ver si puede mejorar los resultados obtenidos."
   ]
  },
  {
   "cell_type": "code",
   "execution_count": 11,
   "id": "aa5bd9c0",
   "metadata": {},
   "outputs": [
    {
     "name": "stdout",
     "output_type": "stream",
     "text": [
      "Scores in every iteration [0.6440678  0.50847458 0.47457627 0.61016949 0.50847458 0.44067797\n",
      " 0.55172414 0.60344828 0.70689655 0.53448276]\n",
      "Accuracy: 0.56 (+/- 0.16)\n"
     ]
    }
   ],
   "source": [
    "cv = KFold(n_splits=10, shuffle=True, random_state=33)\n",
    "\n",
    "scores = cross_val_score(model, x, y, cv=cv)\n",
    "print(\"Scores in every iteration\", scores)\n",
    "print(\"Accuracy: %0.2f (+/- %0.2f)\" % (scores.mean(), scores.std() * 2))"
   ]
  },
  {
   "cell_type": "markdown",
   "id": "5c09b499",
   "metadata": {},
   "source": [
    "Ha mejorado ligeramente pero sigue siendo un resultado muy negativo..."
   ]
  },
  {
   "cell_type": "markdown",
   "id": "d83f3030",
   "metadata": {},
   "source": [
    "### Ajuste del algoritmo"
   ]
  },
  {
   "cell_type": "markdown",
   "id": "a8b15313",
   "metadata": {},
   "source": [
    "Se va a utilizar Grid Search para realizar una optimización de hiperparámetros."
   ]
  },
  {
   "cell_type": "code",
   "execution_count": 12,
   "id": "33abc9d0",
   "metadata": {},
   "outputs": [
    {
     "name": "stdout",
     "output_type": "stream",
     "text": [
      "# Tuning hyperparameters for precision\n",
      "\n",
      "Best hyperparameters set found on development set:\n",
      "\n",
      "{'C': 100, 'class_weight': 'balanced', 'gamma': 'scale', 'kernel': 'rbf'}\n",
      "\n",
      "Grid scores on development set:\n",
      "\n",
      "0.584 (+/-0.219) for {'C': 0.1, 'class_weight': 'balanced', 'gamma': 'scale', 'kernel': 'linear'}\n",
      "0.580 (+/-0.173) for {'C': 0.1, 'class_weight': 'balanced', 'gamma': 'scale', 'kernel': 'rbf'}\n",
      "0.648 (+/-0.167) for {'C': 0.1, 'class_weight': 'balanced', 'gamma': 'scale', 'kernel': 'poly'}\n",
      "0.584 (+/-0.219) for {'C': 0.1, 'class_weight': 'balanced', 'gamma': 'auto', 'kernel': 'linear'}\n",
      "0.580 (+/-0.171) for {'C': 0.1, 'class_weight': 'balanced', 'gamma': 'auto', 'kernel': 'rbf'}\n",
      "0.639 (+/-0.170) for {'C': 0.1, 'class_weight': 'balanced', 'gamma': 'auto', 'kernel': 'poly'}\n",
      "0.559 (+/-0.151) for {'C': 0.1, 'class_weight': None, 'gamma': 'scale', 'kernel': 'linear'}\n",
      "0.584 (+/-0.125) for {'C': 0.1, 'class_weight': None, 'gamma': 'scale', 'kernel': 'rbf'}\n",
      "0.618 (+/-0.150) for {'C': 0.1, 'class_weight': None, 'gamma': 'scale', 'kernel': 'poly'}\n",
      "0.559 (+/-0.151) for {'C': 0.1, 'class_weight': None, 'gamma': 'auto', 'kernel': 'linear'}\n",
      "0.583 (+/-0.120) for {'C': 0.1, 'class_weight': None, 'gamma': 'auto', 'kernel': 'rbf'}\n",
      "0.622 (+/-0.136) for {'C': 0.1, 'class_weight': None, 'gamma': 'auto', 'kernel': 'poly'}\n",
      "0.590 (+/-0.196) for {'C': 1, 'class_weight': 'balanced', 'gamma': 'scale', 'kernel': 'linear'}\n",
      "0.661 (+/-0.117) for {'C': 1, 'class_weight': 'balanced', 'gamma': 'scale', 'kernel': 'rbf'}\n",
      "0.663 (+/-0.120) for {'C': 1, 'class_weight': 'balanced', 'gamma': 'scale', 'kernel': 'poly'}\n",
      "0.590 (+/-0.196) for {'C': 1, 'class_weight': 'balanced', 'gamma': 'auto', 'kernel': 'linear'}\n",
      "0.664 (+/-0.118) for {'C': 1, 'class_weight': 'balanced', 'gamma': 'auto', 'kernel': 'rbf'}\n",
      "0.655 (+/-0.109) for {'C': 1, 'class_weight': 'balanced', 'gamma': 'auto', 'kernel': 'poly'}\n",
      "0.576 (+/-0.126) for {'C': 1, 'class_weight': None, 'gamma': 'scale', 'kernel': 'linear'}\n",
      "0.616 (+/-0.101) for {'C': 1, 'class_weight': None, 'gamma': 'scale', 'kernel': 'rbf'}\n",
      "0.668 (+/-0.120) for {'C': 1, 'class_weight': None, 'gamma': 'scale', 'kernel': 'poly'}\n",
      "0.576 (+/-0.126) for {'C': 1, 'class_weight': None, 'gamma': 'auto', 'kernel': 'linear'}\n",
      "0.618 (+/-0.103) for {'C': 1, 'class_weight': None, 'gamma': 'auto', 'kernel': 'rbf'}\n",
      "0.668 (+/-0.120) for {'C': 1, 'class_weight': None, 'gamma': 'auto', 'kernel': 'poly'}\n",
      "0.579 (+/-0.203) for {'C': 10, 'class_weight': 'balanced', 'gamma': 'scale', 'kernel': 'linear'}\n",
      "0.693 (+/-0.067) for {'C': 10, 'class_weight': 'balanced', 'gamma': 'scale', 'kernel': 'rbf'}\n",
      "0.686 (+/-0.112) for {'C': 10, 'class_weight': 'balanced', 'gamma': 'scale', 'kernel': 'poly'}\n",
      "0.579 (+/-0.203) for {'C': 10, 'class_weight': 'balanced', 'gamma': 'auto', 'kernel': 'linear'}\n",
      "0.696 (+/-0.066) for {'C': 10, 'class_weight': 'balanced', 'gamma': 'auto', 'kernel': 'rbf'}\n",
      "0.682 (+/-0.117) for {'C': 10, 'class_weight': 'balanced', 'gamma': 'auto', 'kernel': 'poly'}\n",
      "0.601 (+/-0.090) for {'C': 10, 'class_weight': None, 'gamma': 'scale', 'kernel': 'linear'}\n",
      "0.695 (+/-0.079) for {'C': 10, 'class_weight': None, 'gamma': 'scale', 'kernel': 'rbf'}\n",
      "0.659 (+/-0.131) for {'C': 10, 'class_weight': None, 'gamma': 'scale', 'kernel': 'poly'}\n",
      "0.601 (+/-0.090) for {'C': 10, 'class_weight': None, 'gamma': 'auto', 'kernel': 'linear'}\n",
      "0.697 (+/-0.074) for {'C': 10, 'class_weight': None, 'gamma': 'auto', 'kernel': 'rbf'}\n",
      "0.660 (+/-0.127) for {'C': 10, 'class_weight': None, 'gamma': 'auto', 'kernel': 'poly'}\n",
      "0.586 (+/-0.251) for {'C': 100, 'class_weight': 'balanced', 'gamma': 'scale', 'kernel': 'linear'}\n",
      "0.719 (+/-0.112) for {'C': 100, 'class_weight': 'balanced', 'gamma': 'scale', 'kernel': 'rbf'}\n",
      "0.676 (+/-0.146) for {'C': 100, 'class_weight': 'balanced', 'gamma': 'scale', 'kernel': 'poly'}\n",
      "0.586 (+/-0.251) for {'C': 100, 'class_weight': 'balanced', 'gamma': 'auto', 'kernel': 'linear'}\n",
      "0.719 (+/-0.112) for {'C': 100, 'class_weight': 'balanced', 'gamma': 'auto', 'kernel': 'rbf'}\n",
      "0.674 (+/-0.148) for {'C': 100, 'class_weight': 'balanced', 'gamma': 'auto', 'kernel': 'poly'}\n",
      "0.613 (+/-0.106) for {'C': 100, 'class_weight': None, 'gamma': 'scale', 'kernel': 'linear'}\n",
      "0.715 (+/-0.100) for {'C': 100, 'class_weight': None, 'gamma': 'scale', 'kernel': 'rbf'}\n",
      "0.660 (+/-0.112) for {'C': 100, 'class_weight': None, 'gamma': 'scale', 'kernel': 'poly'}\n",
      "0.613 (+/-0.106) for {'C': 100, 'class_weight': None, 'gamma': 'auto', 'kernel': 'linear'}\n",
      "0.715 (+/-0.100) for {'C': 100, 'class_weight': None, 'gamma': 'auto', 'kernel': 'rbf'}\n",
      "0.664 (+/-0.115) for {'C': 100, 'class_weight': None, 'gamma': 'auto', 'kernel': 'poly'}\n",
      "\n",
      "Detailed classification report:\n",
      "\n",
      "The model is trained on the full development set.\n",
      "The scores are computed on the full evaluation set.\n",
      "\n",
      "              precision    recall  f1-score   support\n",
      "\n",
      "           0       0.75      0.86      0.80         7\n",
      "           1       0.64      0.75      0.69        28\n",
      "           2       0.76      0.63      0.69        60\n",
      "           3       0.77      0.86      0.81        28\n",
      "           4       0.68      0.71      0.69        24\n",
      "\n",
      "    accuracy                           0.72       147\n",
      "   macro avg       0.72      0.76      0.74       147\n",
      "weighted avg       0.73      0.72      0.72       147\n",
      "\n",
      "\n",
      "# Tuning hyperparameters for recall\n",
      "\n",
      "Best hyperparameters set found on development set:\n",
      "\n",
      "{'C': 100, 'class_weight': 'balanced', 'gamma': 'scale', 'kernel': 'rbf'}\n",
      "\n",
      "Grid scores on development set:\n",
      "\n",
      "0.544 (+/-0.150) for {'C': 0.1, 'class_weight': 'balanced', 'gamma': 'scale', 'kernel': 'linear'}\n",
      "0.522 (+/-0.126) for {'C': 0.1, 'class_weight': 'balanced', 'gamma': 'scale', 'kernel': 'rbf'}\n",
      "0.526 (+/-0.100) for {'C': 0.1, 'class_weight': 'balanced', 'gamma': 'scale', 'kernel': 'poly'}\n",
      "0.544 (+/-0.150) for {'C': 0.1, 'class_weight': 'balanced', 'gamma': 'auto', 'kernel': 'linear'}\n",
      "0.522 (+/-0.126) for {'C': 0.1, 'class_weight': 'balanced', 'gamma': 'auto', 'kernel': 'rbf'}\n",
      "0.522 (+/-0.108) for {'C': 0.1, 'class_weight': 'balanced', 'gamma': 'auto', 'kernel': 'poly'}\n",
      "0.574 (+/-0.144) for {'C': 0.1, 'class_weight': None, 'gamma': 'scale', 'kernel': 'linear'}\n",
      "0.533 (+/-0.123) for {'C': 0.1, 'class_weight': None, 'gamma': 'scale', 'kernel': 'rbf'}\n",
      "0.481 (+/-0.120) for {'C': 0.1, 'class_weight': None, 'gamma': 'scale', 'kernel': 'poly'}\n",
      "0.574 (+/-0.144) for {'C': 0.1, 'class_weight': None, 'gamma': 'auto', 'kernel': 'linear'}\n",
      "0.530 (+/-0.118) for {'C': 0.1, 'class_weight': None, 'gamma': 'auto', 'kernel': 'rbf'}\n",
      "0.483 (+/-0.115) for {'C': 0.1, 'class_weight': None, 'gamma': 'auto', 'kernel': 'poly'}\n",
      "0.556 (+/-0.157) for {'C': 1, 'class_weight': 'balanced', 'gamma': 'scale', 'kernel': 'linear'}\n",
      "0.610 (+/-0.117) for {'C': 1, 'class_weight': 'balanced', 'gamma': 'scale', 'kernel': 'rbf'}\n",
      "0.592 (+/-0.085) for {'C': 1, 'class_weight': 'balanced', 'gamma': 'scale', 'kernel': 'poly'}\n",
      "0.556 (+/-0.157) for {'C': 1, 'class_weight': 'balanced', 'gamma': 'auto', 'kernel': 'linear'}\n",
      "0.613 (+/-0.120) for {'C': 1, 'class_weight': 'balanced', 'gamma': 'auto', 'kernel': 'rbf'}\n",
      "0.587 (+/-0.083) for {'C': 1, 'class_weight': 'balanced', 'gamma': 'auto', 'kernel': 'poly'}\n",
      "0.576 (+/-0.111) for {'C': 1, 'class_weight': None, 'gamma': 'scale', 'kernel': 'linear'}\n",
      "0.606 (+/-0.104) for {'C': 1, 'class_weight': None, 'gamma': 'scale', 'kernel': 'rbf'}\n",
      "0.585 (+/-0.101) for {'C': 1, 'class_weight': None, 'gamma': 'scale', 'kernel': 'poly'}\n",
      "0.576 (+/-0.111) for {'C': 1, 'class_weight': None, 'gamma': 'auto', 'kernel': 'linear'}\n",
      "0.608 (+/-0.103) for {'C': 1, 'class_weight': None, 'gamma': 'auto', 'kernel': 'rbf'}\n",
      "0.585 (+/-0.101) for {'C': 1, 'class_weight': None, 'gamma': 'auto', 'kernel': 'poly'}\n",
      "0.558 (+/-0.177) for {'C': 10, 'class_weight': 'balanced', 'gamma': 'scale', 'kernel': 'linear'}\n",
      "0.665 (+/-0.071) for {'C': 10, 'class_weight': 'balanced', 'gamma': 'scale', 'kernel': 'rbf'}\n",
      "0.663 (+/-0.096) for {'C': 10, 'class_weight': 'balanced', 'gamma': 'scale', 'kernel': 'poly'}\n",
      "0.558 (+/-0.177) for {'C': 10, 'class_weight': 'balanced', 'gamma': 'auto', 'kernel': 'linear'}\n",
      "0.667 (+/-0.072) for {'C': 10, 'class_weight': 'balanced', 'gamma': 'auto', 'kernel': 'rbf'}\n",
      "0.661 (+/-0.099) for {'C': 10, 'class_weight': 'balanced', 'gamma': 'auto', 'kernel': 'poly'}\n",
      "0.581 (+/-0.092) for {'C': 10, 'class_weight': None, 'gamma': 'scale', 'kernel': 'linear'}\n",
      "0.672 (+/-0.066) for {'C': 10, 'class_weight': None, 'gamma': 'scale', 'kernel': 'rbf'}\n",
      "0.631 (+/-0.121) for {'C': 10, 'class_weight': None, 'gamma': 'scale', 'kernel': 'poly'}\n",
      "0.581 (+/-0.092) for {'C': 10, 'class_weight': None, 'gamma': 'auto', 'kernel': 'linear'}\n",
      "0.674 (+/-0.065) for {'C': 10, 'class_weight': None, 'gamma': 'auto', 'kernel': 'rbf'}\n",
      "0.633 (+/-0.113) for {'C': 10, 'class_weight': None, 'gamma': 'auto', 'kernel': 'poly'}\n",
      "0.565 (+/-0.197) for {'C': 100, 'class_weight': 'balanced', 'gamma': 'scale', 'kernel': 'linear'}\n",
      "0.704 (+/-0.103) for {'C': 100, 'class_weight': 'balanced', 'gamma': 'scale', 'kernel': 'rbf'}\n",
      "0.663 (+/-0.110) for {'C': 100, 'class_weight': 'balanced', 'gamma': 'scale', 'kernel': 'poly'}\n",
      "0.565 (+/-0.197) for {'C': 100, 'class_weight': 'balanced', 'gamma': 'auto', 'kernel': 'linear'}\n",
      "0.704 (+/-0.103) for {'C': 100, 'class_weight': 'balanced', 'gamma': 'auto', 'kernel': 'rbf'}\n",
      "0.661 (+/-0.113) for {'C': 100, 'class_weight': 'balanced', 'gamma': 'auto', 'kernel': 'poly'}\n",
      "0.595 (+/-0.099) for {'C': 100, 'class_weight': None, 'gamma': 'scale', 'kernel': 'linear'}\n",
      "0.699 (+/-0.093) for {'C': 100, 'class_weight': None, 'gamma': 'scale', 'kernel': 'rbf'}\n",
      "0.649 (+/-0.085) for {'C': 100, 'class_weight': None, 'gamma': 'scale', 'kernel': 'poly'}\n",
      "0.595 (+/-0.099) for {'C': 100, 'class_weight': None, 'gamma': 'auto', 'kernel': 'linear'}\n",
      "0.699 (+/-0.093) for {'C': 100, 'class_weight': None, 'gamma': 'auto', 'kernel': 'rbf'}\n",
      "0.654 (+/-0.088) for {'C': 100, 'class_weight': None, 'gamma': 'auto', 'kernel': 'poly'}\n",
      "\n",
      "Detailed classification report:\n",
      "\n",
      "The model is trained on the full development set.\n",
      "The scores are computed on the full evaluation set.\n",
      "\n",
      "              precision    recall  f1-score   support\n",
      "\n",
      "           0       0.75      0.86      0.80         7\n",
      "           1       0.64      0.75      0.69        28\n",
      "           2       0.76      0.63      0.69        60\n",
      "           3       0.77      0.86      0.81        28\n",
      "           4       0.68      0.71      0.69        24\n",
      "\n",
      "    accuracy                           0.72       147\n",
      "   macro avg       0.72      0.76      0.74       147\n",
      "weighted avg       0.73      0.72      0.72       147\n",
      "\n",
      "\n"
     ]
    }
   ],
   "source": [
    "# Conjunto de hiperparámetros a probar\n",
    "tuned_hyperparameters = [{'C': [0.1, 1, 10, 100],\n",
    "                          'kernel': ['linear', 'rbf', 'poly'],\n",
    "                          'gamma': ['scale', 'auto'],\n",
    "                          'class_weight': ['balanced', None]}]\n",
    "\n",
    "scores = ['precision', 'recall']\n",
    "\n",
    "for score in scores:\n",
    "    print(\"# Tuning hyperparameters for %s\" % score)\n",
    "    print()\n",
    "\n",
    "    if score == 'precision':\n",
    "        scorer = make_scorer(precision_score, average='weighted', zero_division=0)\n",
    "    elif score == 'recall':\n",
    "        scorer = make_scorer(recall_score, average='weighted', zero_division=0)\n",
    "    \n",
    "    gs = GridSearchCV(SVC(), tuned_hyperparameters, cv=10, scoring=scorer)\n",
    "    gs.fit(x_train, y_train)\n",
    "\n",
    "    print(\"Best hyperparameters set found on development set:\")\n",
    "    print()\n",
    "    print(gs.best_params_)\n",
    "    print()\n",
    "    print(\"Grid scores on development set:\")\n",
    "    print()\n",
    "    means = gs.cv_results_['mean_test_score']\n",
    "    stds = gs.cv_results_['std_test_score']\n",
    "\n",
    "    for mean_score, std_score, params in zip(means, stds, gs.cv_results_['params']):\n",
    "        print(\"%0.3f (+/-%0.03f) for %r\" % (mean_score, std_score * 2, params))\n",
    "    print()\n",
    "\n",
    "    print(\"Detailed classification report:\")\n",
    "    print()\n",
    "    print(\"The model is trained on the full development set.\")\n",
    "    print(\"The scores are computed on the full evaluation set.\")\n",
    "    print()\n",
    "    y_true, y_pred = y_test, gs.predict(x_test)\n",
    "    print(classification_report(y_true, y_pred))\n",
    "    print()\n"
   ]
  },
  {
   "cell_type": "markdown",
   "id": "f0cd79e4",
   "metadata": {},
   "source": [
    "### Comprobación con el algoritmo ajustado"
   ]
  },
  {
   "cell_type": "markdown",
   "id": "5b4c28e7",
   "metadata": {},
   "source": [
    "A partir de los resultados anteriores, volvemos a entrenar el modelo mediante validación con K-Fold para comprobar la nueva media de puntuación."
   ]
  },
  {
   "cell_type": "code",
   "execution_count": 13,
   "id": "5365b28f",
   "metadata": {},
   "outputs": [
    {
     "name": "stdout",
     "output_type": "stream",
     "text": [
      "Mean score: 0.727 (+/- 0.019)\n"
     ]
    }
   ],
   "source": [
    "model = Pipeline([\n",
    "    ('scaler', StandardScaler()),\n",
    "    ('svm', SVC(**gs.best_params_))\n",
    "])\n",
    "\n",
    "model.fit(x_train, y_train)\n",
    "\n",
    "cv = KFold(10, shuffle=True, random_state=33)\n",
    "\n",
    "scores = cross_val_score(model, x, y, cv=cv)\n",
    "def mean_score(scores):\n",
    "    return (\"Mean score: {0:.3f} (+/- {1:.3f})\").format(np.mean(scores), sem(scores))\n",
    "print(mean_score(scores))"
   ]
  },
  {
   "cell_type": "markdown",
   "id": "3290fe55",
   "metadata": {},
   "source": [
    "Con el algoritmo ajustado, obtenemos una media del 73%, lo cual mejora notablemente el modelo."
   ]
  }
 ],
 "metadata": {
  "kernelspec": {
   "display_name": "Python 3 (ipykernel)",
   "language": "python",
   "name": "python3"
  }
 },
 "nbformat": 4,
 "nbformat_minor": 5
}
