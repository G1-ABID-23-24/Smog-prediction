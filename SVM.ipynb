{
 "cells": [
  {
   "cell_type": "markdown",
   "id": "7ce30847",
   "metadata": {},
   "source": [
    "# Grupo 1 - Smog predicition\n",
    "## Modelo SVM"
   ]
  },
  {
   "cell_type": "markdown",
   "id": "58cd8f8c",
   "metadata": {},
   "source": [
    "### Análisis y limpieza de datos"
   ]
  },
  {
   "cell_type": "code",
   "execution_count": 30,
   "id": "7f02465f",
   "metadata": {},
   "outputs": [],
   "source": [
    "#General imports\n",
    "import numpy as np\n",
    "import pandas as pd\n",
    "from pandas import Series, DataFrame\n",
    "from sklearn.model_selection import train_test_split\n",
    "from sklearn import metrics\n",
    "from sklearn import preprocessing\n",
    "from sklearn.metrics import classification_report\n",
    "from sklearn.pipeline import Pipeline\n",
    "\n",
    "#Specific imports\n",
    "from sklearn.svm import SVC\n",
    "from sklearn.model_selection import cross_val_score, KFold, GridSearchCV\n",
    "from sklearn.metrics import classification_report, recall_score, precision_score, make_scorer\n",
    "from sklearn.preprocessing import StandardScaler\n",
    "from scipy.stats import sem\n",
    "\n",
    "#Visualization\n",
    "import seaborn as sns\n",
    "import matplotlib.pyplot as plt\n",
    "sns.set(color_codes=True)\n",
    "\n",
    "%matplotlib inline\n",
    "\n",
    "df = pd.read_csv('data/train.csv')\n",
    "\n",
    "df['Gears'] = df['Transmission'].str.extract('(\\d+)')\n",
    "df['Gears'] = pd.to_numeric(df['Gears'], errors='coerce')\n",
    "df['Transmission'] = df['Transmission'].str.extract('(\\D+)')"
   ]
  },
  {
   "cell_type": "code",
   "execution_count": 31,
   "id": "5f558072",
   "metadata": {},
   "outputs": [],
   "source": [
    "#Fuel Type\n",
    "df.loc[df[\"Fuel Type\"] == \"X\", \"Fuel Type\"] = 0\n",
    "df.loc[df[\"Fuel Type\"] == \"Z\", \"Fuel Type\"] = 1\n",
    "df.loc[df[\"Fuel Type\"] == \"D\", \"Fuel Type\"] = 2\n",
    "df.loc[df[\"Fuel Type\"] == \"E\", \"Fuel Type\"] = 3\n",
    "df.loc[df[\"Fuel Type\"] == \"N\", \"Fuel Type\"] = 4\n",
    "\n",
    "#Transmission\n",
    "df.loc[df[\"Transmission\"] == \"A\", \"Transmission\"] = 0\n",
    "df.loc[df[\"Transmission\"] == \"AM\", \"Transmission\"] = 1\n",
    "df.loc[df[\"Transmission\"] == \"AS\", \"Transmission\"] = 2\n",
    "df.loc[df[\"Transmission\"] == \"AV\", \"Transmission\"] = 3\n",
    "df.loc[df[\"Transmission\"] == \"M\", \"Transmission\"] = 4\n",
    "\n",
    "\n",
    "#Vehicle Class\n",
    "df.loc[df[\"Vehicle Class\"] == \"Compact\", \"Vehicle Class\"] = 0\n",
    "df.loc[df[\"Vehicle Class\"] == \"Full-size\", \"Vehicle Class\"] = 1\n",
    "df.loc[df[\"Vehicle Class\"] == \"Mid-size\", \"Vehicle Class\"] = 2\n",
    "df.loc[df[\"Vehicle Class\"] == \"Minicompact\", \"Vehicle Class\"] = 3\n",
    "df.loc[df[\"Vehicle Class\"] == \"Minivan\", \"Vehicle Class\"] = 4\n",
    "df.loc[df[\"Vehicle Class\"] == \"Minicompact\", \"Vehicle Class\"] = 5\n",
    "df.loc[df[\"Vehicle Class\"] == \"Pickup truck: Small\", \"Vehicle Class\"] = 6\n",
    "df.loc[df[\"Vehicle Class\"] == \"Pickup truck: Standard\", \"Vehicle Class\"] = 7\n",
    "df.loc[df[\"Vehicle Class\"] == \"SUV: Small\", \"Vehicle Class\"] = 8\n",
    "df.loc[df[\"Vehicle Class\"] == \"SUV: Standard\", \"Vehicle Class\"] = 9\n",
    "df.loc[df[\"Vehicle Class\"] == \"Special purpose vehicle\", \"Vehicle Class\"] = 10\n",
    "df.loc[df[\"Vehicle Class\"] == \"Station wagon: Mid-size\", \"Vehicle Class\"] = 11\n",
    "df.loc[df[\"Vehicle Class\"] == \"Station wagon: Small\", \"Vehicle Class\"] = 12\n",
    "df.loc[df[\"Vehicle Class\"] == \"Subcompact\", \"Vehicle Class\"] = 13\n",
    "df.loc[df[\"Vehicle Class\"] == \"Two-seater\", \"Vehicle Class\"] = 14\n",
    "\n",
    "df = df.dropna(subset=['Gears'])"
   ]
  },
  {
   "cell_type": "code",
   "execution_count": 32,
   "id": "b1c18ef0",
   "metadata": {},
   "outputs": [
    {
     "data": {
      "text/html": [
       "<div>\n",
       "<style scoped>\n",
       "    .dataframe tbody tr th:only-of-type {\n",
       "        vertical-align: middle;\n",
       "    }\n",
       "\n",
       "    .dataframe tbody tr th {\n",
       "        vertical-align: top;\n",
       "    }\n",
       "\n",
       "    .dataframe thead th {\n",
       "        text-align: right;\n",
       "    }\n",
       "</style>\n",
       "<table border=\"1\" class=\"dataframe\">\n",
       "  <thead>\n",
       "    <tr style=\"text-align: right;\">\n",
       "      <th></th>\n",
       "      <th>id</th>\n",
       "      <th>Vehicle Class</th>\n",
       "      <th>Engine Size (L)</th>\n",
       "      <th>Cylinders</th>\n",
       "      <th>Transmission</th>\n",
       "      <th>Fuel Type</th>\n",
       "      <th>Comb (L/100 km)</th>\n",
       "      <th>CO2 Emissions (g/km)</th>\n",
       "      <th>Smog</th>\n",
       "      <th>Gears</th>\n",
       "    </tr>\n",
       "  </thead>\n",
       "  <tbody>\n",
       "    <tr>\n",
       "      <th>0</th>\n",
       "      <td>ab44e9bec15</td>\n",
       "      <td>12</td>\n",
       "      <td>2.0</td>\n",
       "      <td>4</td>\n",
       "      <td>1</td>\n",
       "      <td>1</td>\n",
       "      <td>8.7</td>\n",
       "      <td>202</td>\n",
       "      <td>2</td>\n",
       "      <td>7.0</td>\n",
       "    </tr>\n",
       "    <tr>\n",
       "      <th>1</th>\n",
       "      <td>45926762371</td>\n",
       "      <td>2</td>\n",
       "      <td>2.0</td>\n",
       "      <td>4</td>\n",
       "      <td>2</td>\n",
       "      <td>0</td>\n",
       "      <td>7.7</td>\n",
       "      <td>181</td>\n",
       "      <td>4</td>\n",
       "      <td>6.0</td>\n",
       "    </tr>\n",
       "    <tr>\n",
       "      <th>2</th>\n",
       "      <td>e9be56e153f</td>\n",
       "      <td>1</td>\n",
       "      <td>2.9</td>\n",
       "      <td>6</td>\n",
       "      <td>1</td>\n",
       "      <td>1</td>\n",
       "      <td>11.7</td>\n",
       "      <td>274</td>\n",
       "      <td>2</td>\n",
       "      <td>8.0</td>\n",
       "    </tr>\n",
       "    <tr>\n",
       "      <th>3</th>\n",
       "      <td>077092760df</td>\n",
       "      <td>0</td>\n",
       "      <td>2.0</td>\n",
       "      <td>4</td>\n",
       "      <td>2</td>\n",
       "      <td>0</td>\n",
       "      <td>8.1</td>\n",
       "      <td>189</td>\n",
       "      <td>1</td>\n",
       "      <td>6.0</td>\n",
       "    </tr>\n",
       "    <tr>\n",
       "      <th>4</th>\n",
       "      <td>c1c2579b795</td>\n",
       "      <td>3</td>\n",
       "      <td>5.2</td>\n",
       "      <td>12</td>\n",
       "      <td>0</td>\n",
       "      <td>1</td>\n",
       "      <td>13.8</td>\n",
       "      <td>324</td>\n",
       "      <td>1</td>\n",
       "      <td>8.0</td>\n",
       "    </tr>\n",
       "  </tbody>\n",
       "</table>\n",
       "</div>"
      ],
      "text/plain": [
       "            id Vehicle Class  Engine Size (L)  Cylinders Transmission  \\\n",
       "0  ab44e9bec15            12              2.0          4            1   \n",
       "1  45926762371             2              2.0          4            2   \n",
       "2  e9be56e153f             1              2.9          6            1   \n",
       "3  077092760df             0              2.0          4            2   \n",
       "4  c1c2579b795             3              5.2         12            0   \n",
       "\n",
       "  Fuel Type  Comb (L/100 km)  CO2 Emissions (g/km)  Smog  Gears  \n",
       "0         1              8.7                   202     2    7.0  \n",
       "1         0              7.7                   181     4    6.0  \n",
       "2         1             11.7                   274     2    8.0  \n",
       "3         0              8.1                   189     1    6.0  \n",
       "4         1             13.8                   324     1    8.0  "
      ]
     },
     "execution_count": 32,
     "metadata": {},
     "output_type": "execute_result"
    }
   ],
   "source": [
    "df.drop(\"Model Year\", axis=1, inplace=True)\n",
    "df.drop(\"Make\", axis=1, inplace=True)\n",
    "df.drop(\"Model\", axis=1, inplace=True)\n",
    "df.drop(\"Comb (mpg)\", axis=1, inplace=True)\n",
    "df.drop(\"Fuel Consumption City (L/100 km)\", axis=1, inplace=True)\n",
    "df.drop(\"Hwy (L/100 km)\", axis=1, inplace=True)\n",
    "\n",
    "df.head()"
   ]
  },
  {
   "cell_type": "markdown",
   "id": "85b3aafb",
   "metadata": {},
   "source": [
    "Con esto, hemos terminado el análisis y la limpieza de los datos de ambos dataframes."
   ]
  },
  {
   "cell_type": "markdown",
   "id": "e01cdfec",
   "metadata": {},
   "source": [
    "### Definición y entrenamiento del modelo"
   ]
  },
  {
   "cell_type": "code",
   "execution_count": 33,
   "id": "41bf8841",
   "metadata": {},
   "outputs": [],
   "source": [
    "features = ['Vehicle Class', 'Engine Size (L)', 'Cylinders', 'Transmission', 'Fuel Type', 'Comb (L/100 km)', 'CO2 Emissions (g/km)', 'Gears']\n",
    "\n",
    "x = df[features].values\n",
    "y = df['Smog'].values\n",
    "\n",
    "x_train, x_test, y_train, y_test = train_test_split(x, y, test_size=0.25, random_state=33)\n",
    "\n",
    "# Preprocess: normalize\n",
    "scaler = preprocessing.StandardScaler().fit(x_train)\n",
    "x_train = scaler.transform(x_train)\n",
    "x_test = scaler.transform(x_test)"
   ]
  },
  {
   "cell_type": "code",
   "execution_count": 34,
   "id": "a8abf706",
   "metadata": {
    "scrolled": true
   },
   "outputs": [
    {
     "data": {
      "text/plain": [
       "SVC(gamma=3.0, kernel='linear', probability=True)"
      ]
     },
     "execution_count": 34,
     "metadata": {},
     "output_type": "execute_result"
    }
   ],
   "source": [
    "model = SVC(kernel='linear', probability=True, gamma=3.0)\n",
    "\n",
    "model.fit(x_train, y_train)"
   ]
  },
  {
   "cell_type": "markdown",
   "id": "9ea5ed27",
   "metadata": {},
   "source": [
    "Tras definir el modelo se va a pasar a la fase de entrenamiento."
   ]
  },
  {
   "cell_type": "markdown",
   "id": "e251e597",
   "metadata": {},
   "source": [
    "### Comprobación de resultados"
   ]
  },
  {
   "cell_type": "markdown",
   "id": "3c763136",
   "metadata": {},
   "source": [
    "Para la comprobación de resultados se van a calcular varias métricas, obteniendo la eficacia de nuestro modelo."
   ]
  },
  {
   "cell_type": "code",
   "execution_count": 35,
   "id": "2ef0bb93",
   "metadata": {},
   "outputs": [
    {
     "name": "stdout",
     "output_type": "stream",
     "text": [
      "Accuracy in training 0.5886524822695035\n",
      "Accuracy in testing  0.5531914893617021\n"
     ]
    }
   ],
   "source": [
    "# Evaluate Accuracy in training\n",
    "predicted = model.predict(x_test)\n",
    "expected = y_test\n",
    "\n",
    "from sklearn import metrics\n",
    "y_train_pred = model.predict(x_train)\n",
    "print(\"Accuracy in training\", metrics.accuracy_score(y_train, y_train_pred))\n",
    "\n",
    "# Now we evaluate error in testing\n",
    "y_test_pred = model.predict(x_test)\n",
    "print(\"Accuracy in testing \", metrics.accuracy_score(y_test, y_test_pred))"
   ]
  },
  {
   "cell_type": "markdown",
   "id": "4d7ffc99",
   "metadata": {},
   "source": [
    "Nuestra exactitud es bastante mala... Obteniendo un 55% de exactitud."
   ]
  },
  {
   "cell_type": "code",
   "execution_count": 36,
   "id": "b08abbc6",
   "metadata": {},
   "outputs": [
    {
     "data": {
      "text/plain": [
       "2    0.35461\n",
       "dtype: float64"
      ]
     },
     "execution_count": 36,
     "metadata": {},
     "output_type": "execute_result"
    }
   ],
   "source": [
    "s_y_test = Series(y_test)\n",
    "s_y_test.value_counts()\n",
    "\n",
    "s_y_test.value_counts().head(1) / len(y_test)"
   ]
  },
  {
   "cell_type": "markdown",
   "id": "bae594b9",
   "metadata": {},
   "source": [
    "Al cumplir la exactitud nula podemos deducir que el modelo no se encuentra sobreajustado a nuestro conjunto de datos.\n",
    "\n",
    "Vamos con el F1 Score:"
   ]
  },
  {
   "cell_type": "code",
   "execution_count": 37,
   "id": "62d0d103",
   "metadata": {},
   "outputs": [
    {
     "name": "stdout",
     "output_type": "stream",
     "text": [
      "              precision    recall  f1-score   support\n",
      "\n",
      "           0       0.00      0.00      0.00         6\n",
      "           1       0.57      0.59      0.58        27\n",
      "           2       0.52      0.44      0.48        50\n",
      "           3       0.59      0.67      0.63        24\n",
      "           4       0.56      0.71      0.62        34\n",
      "\n",
      "    accuracy                           0.55       141\n",
      "   macro avg       0.45      0.48      0.46       141\n",
      "weighted avg       0.53      0.55      0.54       141\n",
      "\n"
     ]
    }
   ],
   "source": [
    "print(classification_report(expected, predicted))"
   ]
  },
  {
   "cell_type": "markdown",
   "id": "7b4db0f9",
   "metadata": {},
   "source": [
    "El resto de métricas calculadas también son muy negativas..."
   ]
  },
  {
   "cell_type": "markdown",
   "id": "896ebfcf",
   "metadata": {},
   "source": [
    "Ahora, vamos a probar a entrenarlo y evaluarlo con K-Fold para ver si puede mejorar los resultados obtenidos."
   ]
  },
  {
   "cell_type": "code",
   "execution_count": 38,
   "id": "aa5bd9c0",
   "metadata": {},
   "outputs": [
    {
     "name": "stdout",
     "output_type": "stream",
     "text": [
      "Scores in every iteration [0.57894737 0.57894737 0.56140351 0.59649123 0.57142857 0.60714286\n",
      " 0.625      0.64285714 0.5        0.55357143]\n",
      "Accuracy: 0.58 (+/- 0.08)\n"
     ]
    }
   ],
   "source": [
    "\n",
    "cv = KFold(n_splits=10, shuffle=True, random_state=33)\n",
    "\n",
    "scores = cross_val_score(model, x, y, cv=cv)\n",
    "print(\"Scores in every iteration\", scores)\n",
    "print(\"Accuracy: %0.2f (+/- %0.2f)\" % (scores.mean(), scores.std() * 2))"
   ]
  },
  {
   "cell_type": "markdown",
   "id": "5c09b499",
   "metadata": {},
   "source": [
    "Ha mejorado ligeramente pero sigue siendo un resultado muy negativo..."
   ]
  },
  {
   "cell_type": "markdown",
   "id": "d83f3030",
   "metadata": {},
   "source": [
    "### Ajuste del algoritmo"
   ]
  },
  {
   "cell_type": "markdown",
   "id": "a8b15313",
   "metadata": {},
   "source": [
    "Se va a utilizar Grid Search para realizar una optimización de hiperparámetros."
   ]
  },
  {
   "cell_type": "code",
   "execution_count": 39,
   "id": "33abc9d0",
   "metadata": {},
   "outputs": [
    {
     "name": "stdout",
     "output_type": "stream",
     "text": [
      "# Tuning hyperparameters for precision\n",
      "\n",
      "Best hyperparameters set found on development set:\n",
      "\n",
      "{'C': 100, 'class_weight': None, 'gamma': 'auto', 'kernel': 'rbf'}\n",
      "\n",
      "Grid scores on development set:\n",
      "\n",
      "0.594 (+/-0.139) for {'C': 0.1, 'class_weight': 'balanced', 'gamma': 'scale', 'kernel': 'linear'}\n",
      "0.602 (+/-0.273) for {'C': 0.1, 'class_weight': 'balanced', 'gamma': 'scale', 'kernel': 'rbf'}\n",
      "0.645 (+/-0.157) for {'C': 0.1, 'class_weight': 'balanced', 'gamma': 'scale', 'kernel': 'poly'}\n",
      "0.594 (+/-0.139) for {'C': 0.1, 'class_weight': 'balanced', 'gamma': 'auto', 'kernel': 'linear'}\n",
      "0.605 (+/-0.273) for {'C': 0.1, 'class_weight': 'balanced', 'gamma': 'auto', 'kernel': 'rbf'}\n",
      "0.645 (+/-0.162) for {'C': 0.1, 'class_weight': 'balanced', 'gamma': 'auto', 'kernel': 'poly'}\n",
      "0.535 (+/-0.088) for {'C': 0.1, 'class_weight': None, 'gamma': 'scale', 'kernel': 'linear'}\n",
      "0.448 (+/-0.132) for {'C': 0.1, 'class_weight': None, 'gamma': 'scale', 'kernel': 'rbf'}\n",
      "0.591 (+/-0.228) for {'C': 0.1, 'class_weight': None, 'gamma': 'scale', 'kernel': 'poly'}\n",
      "0.535 (+/-0.088) for {'C': 0.1, 'class_weight': None, 'gamma': 'auto', 'kernel': 'linear'}\n",
      "0.442 (+/-0.150) for {'C': 0.1, 'class_weight': None, 'gamma': 'auto', 'kernel': 'rbf'}\n",
      "0.589 (+/-0.225) for {'C': 0.1, 'class_weight': None, 'gamma': 'auto', 'kernel': 'poly'}\n",
      "0.600 (+/-0.198) for {'C': 1, 'class_weight': 'balanced', 'gamma': 'scale', 'kernel': 'linear'}\n",
      "0.688 (+/-0.081) for {'C': 1, 'class_weight': 'balanced', 'gamma': 'scale', 'kernel': 'rbf'}\n",
      "0.673 (+/-0.165) for {'C': 1, 'class_weight': 'balanced', 'gamma': 'scale', 'kernel': 'poly'}\n",
      "0.600 (+/-0.198) for {'C': 1, 'class_weight': 'balanced', 'gamma': 'auto', 'kernel': 'linear'}\n",
      "0.691 (+/-0.081) for {'C': 1, 'class_weight': 'balanced', 'gamma': 'auto', 'kernel': 'rbf'}\n",
      "0.674 (+/-0.163) for {'C': 1, 'class_weight': 'balanced', 'gamma': 'auto', 'kernel': 'poly'}\n",
      "0.549 (+/-0.089) for {'C': 1, 'class_weight': None, 'gamma': 'scale', 'kernel': 'linear'}\n",
      "0.625 (+/-0.109) for {'C': 1, 'class_weight': None, 'gamma': 'scale', 'kernel': 'rbf'}\n",
      "0.648 (+/-0.166) for {'C': 1, 'class_weight': None, 'gamma': 'scale', 'kernel': 'poly'}\n",
      "0.549 (+/-0.089) for {'C': 1, 'class_weight': None, 'gamma': 'auto', 'kernel': 'linear'}\n",
      "0.625 (+/-0.109) for {'C': 1, 'class_weight': None, 'gamma': 'auto', 'kernel': 'rbf'}\n",
      "0.656 (+/-0.174) for {'C': 1, 'class_weight': None, 'gamma': 'auto', 'kernel': 'poly'}\n",
      "0.613 (+/-0.225) for {'C': 10, 'class_weight': 'balanced', 'gamma': 'scale', 'kernel': 'linear'}\n",
      "0.704 (+/-0.079) for {'C': 10, 'class_weight': 'balanced', 'gamma': 'scale', 'kernel': 'rbf'}\n",
      "0.694 (+/-0.081) for {'C': 10, 'class_weight': 'balanced', 'gamma': 'scale', 'kernel': 'poly'}\n",
      "0.613 (+/-0.225) for {'C': 10, 'class_weight': 'balanced', 'gamma': 'auto', 'kernel': 'linear'}\n",
      "0.704 (+/-0.079) for {'C': 10, 'class_weight': 'balanced', 'gamma': 'auto', 'kernel': 'rbf'}\n",
      "0.694 (+/-0.081) for {'C': 10, 'class_weight': 'balanced', 'gamma': 'auto', 'kernel': 'poly'}\n",
      "0.568 (+/-0.125) for {'C': 10, 'class_weight': None, 'gamma': 'scale', 'kernel': 'linear'}\n",
      "0.731 (+/-0.089) for {'C': 10, 'class_weight': None, 'gamma': 'scale', 'kernel': 'rbf'}\n",
      "0.704 (+/-0.113) for {'C': 10, 'class_weight': None, 'gamma': 'scale', 'kernel': 'poly'}\n",
      "0.568 (+/-0.125) for {'C': 10, 'class_weight': None, 'gamma': 'auto', 'kernel': 'linear'}\n",
      "0.731 (+/-0.089) for {'C': 10, 'class_weight': None, 'gamma': 'auto', 'kernel': 'rbf'}\n",
      "0.707 (+/-0.121) for {'C': 10, 'class_weight': None, 'gamma': 'auto', 'kernel': 'poly'}\n",
      "0.619 (+/-0.194) for {'C': 100, 'class_weight': 'balanced', 'gamma': 'scale', 'kernel': 'linear'}\n",
      "0.725 (+/-0.106) for {'C': 100, 'class_weight': 'balanced', 'gamma': 'scale', 'kernel': 'rbf'}\n",
      "0.710 (+/-0.075) for {'C': 100, 'class_weight': 'balanced', 'gamma': 'scale', 'kernel': 'poly'}\n",
      "0.619 (+/-0.194) for {'C': 100, 'class_weight': 'balanced', 'gamma': 'auto', 'kernel': 'linear'}\n",
      "0.728 (+/-0.099) for {'C': 100, 'class_weight': 'balanced', 'gamma': 'auto', 'kernel': 'rbf'}\n",
      "0.707 (+/-0.068) for {'C': 100, 'class_weight': 'balanced', 'gamma': 'auto', 'kernel': 'poly'}\n",
      "0.568 (+/-0.124) for {'C': 100, 'class_weight': None, 'gamma': 'scale', 'kernel': 'linear'}\n",
      "0.742 (+/-0.102) for {'C': 100, 'class_weight': None, 'gamma': 'scale', 'kernel': 'rbf'}\n",
      "0.718 (+/-0.108) for {'C': 100, 'class_weight': None, 'gamma': 'scale', 'kernel': 'poly'}\n",
      "0.568 (+/-0.124) for {'C': 100, 'class_weight': None, 'gamma': 'auto', 'kernel': 'linear'}\n",
      "0.747 (+/-0.099) for {'C': 100, 'class_weight': None, 'gamma': 'auto', 'kernel': 'rbf'}\n",
      "0.718 (+/-0.108) for {'C': 100, 'class_weight': None, 'gamma': 'auto', 'kernel': 'poly'}\n",
      "\n",
      "Detailed classification report:\n",
      "\n",
      "The model is trained on the full development set.\n",
      "The scores are computed on the full evaluation set.\n",
      "\n",
      "              precision    recall  f1-score   support\n",
      "\n",
      "           0       0.67      1.00      0.80         6\n",
      "           1       0.58      0.67      0.62        27\n",
      "           2       0.71      0.64      0.67        50\n",
      "           3       0.56      0.62      0.59        24\n",
      "           4       0.66      0.56      0.60        34\n",
      "\n",
      "    accuracy                           0.64       141\n",
      "   macro avg       0.63      0.70      0.66       141\n",
      "weighted avg       0.64      0.64      0.64       141\n",
      "\n",
      "\n",
      "# Tuning hyperparameters for recall\n",
      "\n",
      "Best hyperparameters set found on development set:\n",
      "\n",
      "{'C': 100, 'class_weight': None, 'gamma': 'auto', 'kernel': 'rbf'}\n",
      "\n",
      "Grid scores on development set:\n",
      "\n",
      "0.501 (+/-0.094) for {'C': 0.1, 'class_weight': 'balanced', 'gamma': 'scale', 'kernel': 'linear'}\n",
      "0.508 (+/-0.189) for {'C': 0.1, 'class_weight': 'balanced', 'gamma': 'scale', 'kernel': 'rbf'}\n",
      "0.539 (+/-0.143) for {'C': 0.1, 'class_weight': 'balanced', 'gamma': 'scale', 'kernel': 'poly'}\n",
      "0.501 (+/-0.094) for {'C': 0.1, 'class_weight': 'balanced', 'gamma': 'auto', 'kernel': 'linear'}\n",
      "0.510 (+/-0.193) for {'C': 0.1, 'class_weight': 'balanced', 'gamma': 'auto', 'kernel': 'rbf'}\n",
      "0.536 (+/-0.147) for {'C': 0.1, 'class_weight': 'balanced', 'gamma': 'auto', 'kernel': 'poly'}\n",
      "0.553 (+/-0.081) for {'C': 0.1, 'class_weight': None, 'gamma': 'scale', 'kernel': 'linear'}\n",
      "0.453 (+/-0.113) for {'C': 0.1, 'class_weight': None, 'gamma': 'scale', 'kernel': 'rbf'}\n",
      "0.470 (+/-0.120) for {'C': 0.1, 'class_weight': None, 'gamma': 'scale', 'kernel': 'poly'}\n",
      "0.553 (+/-0.081) for {'C': 0.1, 'class_weight': None, 'gamma': 'auto', 'kernel': 'linear'}\n",
      "0.451 (+/-0.118) for {'C': 0.1, 'class_weight': None, 'gamma': 'auto', 'kernel': 'rbf'}\n",
      "0.470 (+/-0.108) for {'C': 0.1, 'class_weight': None, 'gamma': 'auto', 'kernel': 'poly'}\n",
      "0.520 (+/-0.133) for {'C': 1, 'class_weight': 'balanced', 'gamma': 'scale', 'kernel': 'linear'}\n",
      "0.626 (+/-0.074) for {'C': 1, 'class_weight': 'balanced', 'gamma': 'scale', 'kernel': 'rbf'}\n",
      "0.605 (+/-0.161) for {'C': 1, 'class_weight': 'balanced', 'gamma': 'scale', 'kernel': 'poly'}\n",
      "0.520 (+/-0.133) for {'C': 1, 'class_weight': 'balanced', 'gamma': 'auto', 'kernel': 'linear'}\n",
      "0.626 (+/-0.074) for {'C': 1, 'class_weight': 'balanced', 'gamma': 'auto', 'kernel': 'rbf'}\n",
      "0.607 (+/-0.159) for {'C': 1, 'class_weight': 'balanced', 'gamma': 'auto', 'kernel': 'poly'}\n",
      "0.560 (+/-0.100) for {'C': 1, 'class_weight': None, 'gamma': 'scale', 'kernel': 'linear'}\n",
      "0.612 (+/-0.091) for {'C': 1, 'class_weight': None, 'gamma': 'scale', 'kernel': 'rbf'}\n",
      "0.569 (+/-0.101) for {'C': 1, 'class_weight': None, 'gamma': 'scale', 'kernel': 'poly'}\n",
      "0.560 (+/-0.100) for {'C': 1, 'class_weight': None, 'gamma': 'auto', 'kernel': 'linear'}\n",
      "0.612 (+/-0.091) for {'C': 1, 'class_weight': None, 'gamma': 'auto', 'kernel': 'rbf'}\n",
      "0.572 (+/-0.103) for {'C': 1, 'class_weight': None, 'gamma': 'auto', 'kernel': 'poly'}\n",
      "0.534 (+/-0.146) for {'C': 10, 'class_weight': 'balanced', 'gamma': 'scale', 'kernel': 'linear'}\n",
      "0.669 (+/-0.086) for {'C': 10, 'class_weight': 'balanced', 'gamma': 'scale', 'kernel': 'rbf'}\n",
      "0.671 (+/-0.072) for {'C': 10, 'class_weight': 'balanced', 'gamma': 'scale', 'kernel': 'poly'}\n",
      "0.534 (+/-0.146) for {'C': 10, 'class_weight': 'balanced', 'gamma': 'auto', 'kernel': 'linear'}\n",
      "0.669 (+/-0.086) for {'C': 10, 'class_weight': 'balanced', 'gamma': 'auto', 'kernel': 'rbf'}\n",
      "0.671 (+/-0.072) for {'C': 10, 'class_weight': 'balanced', 'gamma': 'auto', 'kernel': 'poly'}\n",
      "0.558 (+/-0.109) for {'C': 10, 'class_weight': None, 'gamma': 'scale', 'kernel': 'linear'}\n",
      "0.705 (+/-0.092) for {'C': 10, 'class_weight': None, 'gamma': 'scale', 'kernel': 'rbf'}\n",
      "0.681 (+/-0.111) for {'C': 10, 'class_weight': None, 'gamma': 'scale', 'kernel': 'poly'}\n",
      "0.558 (+/-0.109) for {'C': 10, 'class_weight': None, 'gamma': 'auto', 'kernel': 'linear'}\n",
      "0.705 (+/-0.092) for {'C': 10, 'class_weight': None, 'gamma': 'auto', 'kernel': 'rbf'}\n",
      "0.683 (+/-0.117) for {'C': 10, 'class_weight': None, 'gamma': 'auto', 'kernel': 'poly'}\n",
      "0.536 (+/-0.136) for {'C': 100, 'class_weight': 'balanced', 'gamma': 'scale', 'kernel': 'linear'}\n",
      "0.700 (+/-0.106) for {'C': 100, 'class_weight': 'balanced', 'gamma': 'scale', 'kernel': 'rbf'}\n",
      "0.685 (+/-0.069) for {'C': 100, 'class_weight': 'balanced', 'gamma': 'scale', 'kernel': 'poly'}\n",
      "0.536 (+/-0.136) for {'C': 100, 'class_weight': 'balanced', 'gamma': 'auto', 'kernel': 'linear'}\n",
      "0.700 (+/-0.106) for {'C': 100, 'class_weight': 'balanced', 'gamma': 'auto', 'kernel': 'rbf'}\n",
      "0.683 (+/-0.062) for {'C': 100, 'class_weight': 'balanced', 'gamma': 'auto', 'kernel': 'poly'}\n",
      "0.558 (+/-0.113) for {'C': 100, 'class_weight': None, 'gamma': 'scale', 'kernel': 'linear'}\n",
      "0.717 (+/-0.106) for {'C': 100, 'class_weight': None, 'gamma': 'scale', 'kernel': 'rbf'}\n",
      "0.685 (+/-0.096) for {'C': 100, 'class_weight': None, 'gamma': 'scale', 'kernel': 'poly'}\n",
      "0.558 (+/-0.113) for {'C': 100, 'class_weight': None, 'gamma': 'auto', 'kernel': 'linear'}\n",
      "0.721 (+/-0.106) for {'C': 100, 'class_weight': None, 'gamma': 'auto', 'kernel': 'rbf'}\n",
      "0.685 (+/-0.096) for {'C': 100, 'class_weight': None, 'gamma': 'auto', 'kernel': 'poly'}\n",
      "\n",
      "Detailed classification report:\n",
      "\n",
      "The model is trained on the full development set.\n",
      "The scores are computed on the full evaluation set.\n",
      "\n",
      "              precision    recall  f1-score   support\n",
      "\n",
      "           0       0.67      1.00      0.80         6\n",
      "           1       0.58      0.67      0.62        27\n",
      "           2       0.71      0.64      0.67        50\n",
      "           3       0.56      0.62      0.59        24\n",
      "           4       0.66      0.56      0.60        34\n",
      "\n",
      "    accuracy                           0.64       141\n",
      "   macro avg       0.63      0.70      0.66       141\n",
      "weighted avg       0.64      0.64      0.64       141\n",
      "\n",
      "\n"
     ]
    }
   ],
   "source": [
    "# set of hyperparameters to test\n",
    "tuned_hyperparameters = [{'C': [0.1, 1, 10, 100],\n",
    "                          'kernel': ['linear', 'rbf', 'poly'],\n",
    "                          'gamma': ['scale', 'auto'],\n",
    "                          'class_weight': ['balanced', None]}]\n",
    "\n",
    "scores = ['precision', 'recall']\n",
    "\n",
    "for score in scores:\n",
    "    print(\"# Tuning hyperparameters for %s\" % score)\n",
    "    print()\n",
    "\n",
    "    if score == 'precision':\n",
    "        scorer = make_scorer(precision_score, average='weighted', zero_division=0)\n",
    "    elif score == 'recall':\n",
    "        scorer = make_scorer(recall_score, average='weighted', zero_division=0)\n",
    "    \n",
    "    gs = GridSearchCV(SVC(), tuned_hyperparameters, cv=10, scoring=scorer)\n",
    "    gs.fit(x_train, y_train)\n",
    "\n",
    "    print(\"Best hyperparameters set found on development set:\")\n",
    "    print()\n",
    "    print(gs.best_params_)\n",
    "    print()\n",
    "    print(\"Grid scores on development set:\")\n",
    "    print()\n",
    "    means = gs.cv_results_['mean_test_score']\n",
    "    stds = gs.cv_results_['std_test_score']\n",
    "\n",
    "    for mean_score, std_score, params in zip(means, stds, gs.cv_results_['params']):\n",
    "        print(\"%0.3f (+/-%0.03f) for %r\" % (mean_score, std_score * 2, params))\n",
    "    print()\n",
    "\n",
    "    print(\"Detailed classification report:\")\n",
    "    print()\n",
    "    print(\"The model is trained on the full development set.\")\n",
    "    print(\"The scores are computed on the full evaluation set.\")\n",
    "    print()\n",
    "    y_true, y_pred = y_test, gs.predict(x_test)\n",
    "    print(classification_report(y_true, y_pred))\n",
    "    print()\n"
   ]
  },
  {
   "cell_type": "code",
   "execution_count": 40,
   "id": "6e7a14fd",
   "metadata": {},
   "outputs": [
    {
     "name": "stdout",
     "output_type": "stream",
     "text": [
      "0.501 (+/-0.094) for {'C': 0.1, 'class_weight': 'balanced', 'gamma': 'scale', 'kernel': 'linear'}\n",
      "0.508 (+/-0.189) for {'C': 0.1, 'class_weight': 'balanced', 'gamma': 'scale', 'kernel': 'rbf'}\n",
      "0.539 (+/-0.143) for {'C': 0.1, 'class_weight': 'balanced', 'gamma': 'scale', 'kernel': 'poly'}\n",
      "0.501 (+/-0.094) for {'C': 0.1, 'class_weight': 'balanced', 'gamma': 'auto', 'kernel': 'linear'}\n",
      "0.510 (+/-0.193) for {'C': 0.1, 'class_weight': 'balanced', 'gamma': 'auto', 'kernel': 'rbf'}\n",
      "0.536 (+/-0.147) for {'C': 0.1, 'class_weight': 'balanced', 'gamma': 'auto', 'kernel': 'poly'}\n",
      "0.553 (+/-0.081) for {'C': 0.1, 'class_weight': None, 'gamma': 'scale', 'kernel': 'linear'}\n",
      "0.453 (+/-0.113) for {'C': 0.1, 'class_weight': None, 'gamma': 'scale', 'kernel': 'rbf'}\n",
      "0.470 (+/-0.120) for {'C': 0.1, 'class_weight': None, 'gamma': 'scale', 'kernel': 'poly'}\n",
      "0.553 (+/-0.081) for {'C': 0.1, 'class_weight': None, 'gamma': 'auto', 'kernel': 'linear'}\n",
      "0.451 (+/-0.118) for {'C': 0.1, 'class_weight': None, 'gamma': 'auto', 'kernel': 'rbf'}\n",
      "0.470 (+/-0.108) for {'C': 0.1, 'class_weight': None, 'gamma': 'auto', 'kernel': 'poly'}\n",
      "0.520 (+/-0.133) for {'C': 1, 'class_weight': 'balanced', 'gamma': 'scale', 'kernel': 'linear'}\n",
      "0.626 (+/-0.074) for {'C': 1, 'class_weight': 'balanced', 'gamma': 'scale', 'kernel': 'rbf'}\n",
      "0.605 (+/-0.161) for {'C': 1, 'class_weight': 'balanced', 'gamma': 'scale', 'kernel': 'poly'}\n",
      "0.520 (+/-0.133) for {'C': 1, 'class_weight': 'balanced', 'gamma': 'auto', 'kernel': 'linear'}\n",
      "0.626 (+/-0.074) for {'C': 1, 'class_weight': 'balanced', 'gamma': 'auto', 'kernel': 'rbf'}\n",
      "0.607 (+/-0.159) for {'C': 1, 'class_weight': 'balanced', 'gamma': 'auto', 'kernel': 'poly'}\n",
      "0.560 (+/-0.100) for {'C': 1, 'class_weight': None, 'gamma': 'scale', 'kernel': 'linear'}\n",
      "0.612 (+/-0.091) for {'C': 1, 'class_weight': None, 'gamma': 'scale', 'kernel': 'rbf'}\n",
      "0.569 (+/-0.101) for {'C': 1, 'class_weight': None, 'gamma': 'scale', 'kernel': 'poly'}\n",
      "0.560 (+/-0.100) for {'C': 1, 'class_weight': None, 'gamma': 'auto', 'kernel': 'linear'}\n",
      "0.612 (+/-0.091) for {'C': 1, 'class_weight': None, 'gamma': 'auto', 'kernel': 'rbf'}\n",
      "0.572 (+/-0.103) for {'C': 1, 'class_weight': None, 'gamma': 'auto', 'kernel': 'poly'}\n",
      "0.534 (+/-0.146) for {'C': 10, 'class_weight': 'balanced', 'gamma': 'scale', 'kernel': 'linear'}\n",
      "0.669 (+/-0.086) for {'C': 10, 'class_weight': 'balanced', 'gamma': 'scale', 'kernel': 'rbf'}\n",
      "0.671 (+/-0.072) for {'C': 10, 'class_weight': 'balanced', 'gamma': 'scale', 'kernel': 'poly'}\n",
      "0.534 (+/-0.146) for {'C': 10, 'class_weight': 'balanced', 'gamma': 'auto', 'kernel': 'linear'}\n",
      "0.669 (+/-0.086) for {'C': 10, 'class_weight': 'balanced', 'gamma': 'auto', 'kernel': 'rbf'}\n",
      "0.671 (+/-0.072) for {'C': 10, 'class_weight': 'balanced', 'gamma': 'auto', 'kernel': 'poly'}\n",
      "0.558 (+/-0.109) for {'C': 10, 'class_weight': None, 'gamma': 'scale', 'kernel': 'linear'}\n",
      "0.705 (+/-0.092) for {'C': 10, 'class_weight': None, 'gamma': 'scale', 'kernel': 'rbf'}\n",
      "0.681 (+/-0.111) for {'C': 10, 'class_weight': None, 'gamma': 'scale', 'kernel': 'poly'}\n",
      "0.558 (+/-0.109) for {'C': 10, 'class_weight': None, 'gamma': 'auto', 'kernel': 'linear'}\n",
      "0.705 (+/-0.092) for {'C': 10, 'class_weight': None, 'gamma': 'auto', 'kernel': 'rbf'}\n",
      "0.683 (+/-0.117) for {'C': 10, 'class_weight': None, 'gamma': 'auto', 'kernel': 'poly'}\n",
      "0.536 (+/-0.136) for {'C': 100, 'class_weight': 'balanced', 'gamma': 'scale', 'kernel': 'linear'}\n",
      "0.700 (+/-0.106) for {'C': 100, 'class_weight': 'balanced', 'gamma': 'scale', 'kernel': 'rbf'}\n",
      "0.685 (+/-0.069) for {'C': 100, 'class_weight': 'balanced', 'gamma': 'scale', 'kernel': 'poly'}\n",
      "0.536 (+/-0.136) for {'C': 100, 'class_weight': 'balanced', 'gamma': 'auto', 'kernel': 'linear'}\n",
      "0.700 (+/-0.106) for {'C': 100, 'class_weight': 'balanced', 'gamma': 'auto', 'kernel': 'rbf'}\n",
      "0.683 (+/-0.062) for {'C': 100, 'class_weight': 'balanced', 'gamma': 'auto', 'kernel': 'poly'}\n",
      "0.558 (+/-0.113) for {'C': 100, 'class_weight': None, 'gamma': 'scale', 'kernel': 'linear'}\n",
      "0.717 (+/-0.106) for {'C': 100, 'class_weight': None, 'gamma': 'scale', 'kernel': 'rbf'}\n",
      "0.685 (+/-0.096) for {'C': 100, 'class_weight': None, 'gamma': 'scale', 'kernel': 'poly'}\n",
      "0.558 (+/-0.113) for {'C': 100, 'class_weight': None, 'gamma': 'auto', 'kernel': 'linear'}\n",
      "0.721 (+/-0.106) for {'C': 100, 'class_weight': None, 'gamma': 'auto', 'kernel': 'rbf'}\n",
      "0.685 (+/-0.096) for {'C': 100, 'class_weight': None, 'gamma': 'auto', 'kernel': 'poly'}\n"
     ]
    }
   ],
   "source": [
    "# We print the score for each value of max_depth\n",
    "for i, max_depth in enumerate(gs.cv_results_['params']):\n",
    "    print(\"%0.3f (+/-%0.03f) for %r\" % (gs.cv_results_['mean_test_score'][i],\n",
    "                                        gs.cv_results_['std_test_score'][i] * 2,\n",
    "                                        max_depth))"
   ]
  },
  {
   "cell_type": "code",
   "execution_count": 41,
   "id": "5365b28f",
   "metadata": {},
   "outputs": [
    {
     "name": "stdout",
     "output_type": "stream",
     "text": [
      "Mean score: 0.738 (+/- 0.017)\n"
     ]
    }
   ],
   "source": [
    "# Define tu pipeline con SVM\n",
    "model = Pipeline([\n",
    "    ('scaler', StandardScaler()),\n",
    "    ('svm', SVC(**gs.best_params_))\n",
    "])\n",
    "\n",
    "# Ajusta el modelo\n",
    "model.fit(x_train, y_train)\n",
    "\n",
    "# Crea un iterador de validación cruzada con k = 10 folds\n",
    "cv = KFold(10, shuffle=True, random_state=33)\n",
    "\n",
    "# Puntuaciones de validación cruzada\n",
    "scores = cross_val_score(model, x, y, cv=cv)\n",
    "def mean_score(scores):\n",
    "    return (\"Mean score: {0:.3f} (+/- {1:.3f})\").format(np.mean(scores), sem(scores))\n",
    "print(mean_score(scores))"
   ]
  },
  {
   "cell_type": "markdown",
   "id": "3290fe55",
   "metadata": {},
   "source": [
    "Con el algoritmo ajustado, obtenemos una media del 74%, lo cual mejora notablemente el modelo."
   ]
  }
 ],
 "metadata": {
  "kernelspec": {
   "display_name": "Python 3 (ipykernel)",
   "language": "python",
   "name": "python3"
  }
 },
 "nbformat": 4,
 "nbformat_minor": 5
}
