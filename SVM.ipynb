{
 "cells": [
  {
   "cell_type": "markdown",
   "metadata": {},
   "source": [
    "# Grupo 1 - Smog predicition\n",
    "## Modelo SVM"
   ]
  },
  {
   "cell_type": "markdown",
   "id": "58cd8f8c",
   "metadata": {},
   "source": [
    "### Análisis y limipieza de datos"
   ]
  },
  {
   "cell_type": "code",
   "execution_count": null,
   "id": "7f02465f",
   "metadata": {},
   "outputs": [],
   "source": [
    "import numpy as np\n",
    "import pandas as pd\n",
    "from pandas import Series, DataFrame\n",
    "\n",
    "df = pd.read_csv('data/train.csv')\n",
    "\n",
    "df['Gears'] = df['Transmission'].str.extract('(\\d+)')\n",
    "df['Gears'] = pd.to_numeric(df['Gears'], errors='coerce')\n",
    "df['Transmission'] = df['Transmission'].str.extract('(\\D+)')"
   ]
  },
  {
   "cell_type": "code",
   "execution_count": null,
   "metadata": {},
   "outputs": [],
   "source": [
    "#Fuel Type\n",
    "df.loc[df[\"Fuel Type\"] == \"X\", \"Fuel Type\"] = 0\n",
    "df.loc[df[\"Fuel Type\"] == \"Z\", \"Fuel Type\"] = 1\n",
    "df.loc[df[\"Fuel Type\"] == \"D\", \"Fuel Type\"] = 2\n",
    "df.loc[df[\"Fuel Type\"] == \"E\", \"Fuel Type\"] = 3\n",
    "df.loc[df[\"Fuel Type\"] == \"N\", \"Fuel Type\"] = 4\n",
    "\n",
    "#Transmission\n",
    "df.loc[df[\"Transmission\"] == \"A\", \"Transmission\"] = 0\n",
    "df.loc[df[\"Transmission\"] == \"AM\", \"Transmission\"] = 1\n",
    "df.loc[df[\"Transmission\"] == \"AS\", \"Transmission\"] = 2\n",
    "df.loc[df[\"Transmission\"] == \"AV\", \"Transmission\"] = 3\n",
    "df.loc[df[\"Transmission\"] == \"M\", \"Transmission\"] = 4\n",
    "\n",
    "\n",
    "#Vehicle Class\n",
    "df.loc[df[\"Vehicle Class\"] == \"Compact\", \"Vehicle Class\"] = 0\n",
    "df.loc[df[\"Vehicle Class\"] == \"Full-size\", \"Vehicle Class\"] = 1\n",
    "df.loc[df[\"Vehicle Class\"] == \"Mid-size\", \"Vehicle Class\"] = 2\n",
    "df.loc[df[\"Vehicle Class\"] == \"Minicompact\", \"Vehicle Class\"] = 3\n",
    "df.loc[df[\"Vehicle Class\"] == \"Minivan\", \"Vehicle Class\"] = 4\n",
    "df.loc[df[\"Vehicle Class\"] == \"Minicompact\", \"Vehicle Class\"] = 5\n",
    "df.loc[df[\"Vehicle Class\"] == \"Pickup truck: Small\", \"Vehicle Class\"] = 6\n",
    "df.loc[df[\"Vehicle Class\"] == \"Pickup truck: Standard\", \"Vehicle Class\"] = 7\n",
    "df.loc[df[\"Vehicle Class\"] == \"SUV: Small\", \"Vehicle Class\"] = 8\n",
    "df.loc[df[\"Vehicle Class\"] == \"SUV: Standard\", \"Vehicle Class\"] = 9\n",
    "df.loc[df[\"Vehicle Class\"] == \"Special purpose vehicle\", \"Vehicle Class\"] = 10\n",
    "df.loc[df[\"Vehicle Class\"] == \"Station wagon: Mid-size\", \"Vehicle Class\"] = 11\n",
    "df.loc[df[\"Vehicle Class\"] == \"Station wagon: Small\", \"Vehicle Class\"] = 12\n",
    "df.loc[df[\"Vehicle Class\"] == \"Subcompact\", \"Vehicle Class\"] = 13\n",
    "df.loc[df[\"Vehicle Class\"] == \"Two-seater\", \"Vehicle Class\"] = 14\n",
    "\n",
    "df['Gears'].fillna(df['Gears'].mean(), inplace=True)"
   ]
  },
  {
   "cell_type": "code",
   "execution_count": null,
   "id": "b1c18ef0",
   "metadata": {},
   "outputs": [],
   "source": [
    "df.drop(\"Model Year\", axis=1, inplace=True)\n",
    "df.drop(\"Make\", axis=1, inplace=True)\n",
    "df.drop(\"Model\", axis=1, inplace=True)\n",
    "df.drop(\"Comb (mpg)\", axis=1, inplace=True)\n",
    "df.drop(\"Fuel Consumption City (L/100 km)\", axis=1, inplace=True)\n",
    "df.drop(\"Hwy (L/100 km)\", axis=1, inplace=True)\n",
    "\n",
    "df.head()"
   ]
  },
  {
   "cell_type": "markdown",
   "metadata": {},
   "source": [
    "Con esto, hemos terminado el análisis y la limpieza de los datos de ambos dataframes."
   ]
  },
  {
   "cell_type": "markdown",
   "metadata": {},
   "source": [
    "### Entrenamiento del modelo"
   ]
  },
  {
   "cell_type": "code",
   "execution_count": null,
   "metadata": {},
   "outputs": [],
   "source": [
    "from sklearn.model_selection import train_test_split\n",
    "from sklearn import preprocessing\n",
    "from sklearn.svm import SVC\n",
    "from sklearn import metrics\n",
    "from sklearn.model_selection import cross_val_score, KFold, StratifiedKFold\n",
    "from sklearn.metrics import classification_report\n",
    "from sklearn.metrics import roc_curve\n",
    "from sklearn.metrics import roc_auc_score\n",
    "from sklearn.model_selection import GridSearchCV\n",
    "import seaborn as sns\n",
    "import matplotlib.pyplot as plt\n",
    "sns.set(color_codes=True)\n",
    "\n",
    "%matplotlib inline"
   ]
  },
  {
   "cell_type": "code",
   "execution_count": null,
   "metadata": {},
   "outputs": [],
   "source": [
    "features = ['Vehicle Class', 'Engine Size (L)', 'Cylinders', 'Transmission', 'Fuel Type', 'Comb (L/100 km)', 'CO2 Emissions (g/km)', 'Gears']\n",
    "\n",
    "x = df[features].values\n",
    "y = df['Smog'].values\n",
    "\n",
    "x_train, x_test, y_train, y_test = train_test_split(x, y, test_size=0.25, random_state=33)"
   ]
  },
  {
   "cell_type": "code",
   "execution_count": null,
   "metadata": {},
   "outputs": [],
   "source": [
    "kernel = 'linear'\n",
    "gamma = 3.0\n",
    "\n",
    "model = SVC(kernel=kernel, probability=True, gamma=gamma)"
   ]
  },
  {
   "cell_type": "markdown",
   "metadata": {},
   "source": [
    "Tras definir el modelo se va a pasar a la fase de entrenamiento."
   ]
  },
  {
   "cell_type": "code",
   "execution_count": null,
   "metadata": {},
   "outputs": [],
   "source": [
    "model.fit(x_train, y_train)\n",
    "\n",
    "predicted = model.predict(x_test)\n",
    "expected = y_test"
   ]
  },
  {
   "cell_type": "markdown",
   "metadata": {},
   "source": [
    "### Comprobación de resultados"
   ]
  },
  {
   "cell_type": "markdown",
   "metadata": {},
   "source": [
    "Para la comprobación de resultados se van a calcular varias métricas, obteniendo la eficacia de nuestro modelo."
   ]
  },
  {
   "cell_type": "code",
   "execution_count": null,
   "metadata": {},
   "outputs": [],
   "source": [
    "metrics.accuracy_score(expected, predicted)"
   ]
  },
  {
   "cell_type": "markdown",
   "metadata": {},
   "source": [
    "Nuestra exactitud es bastante mala... Obteniendo un 52% de media."
   ]
  },
  {
   "cell_type": "code",
   "execution_count": null,
   "metadata": {},
   "outputs": [],
   "source": [
    "s_y_test = Series(y_test)\n",
    "s_y_test.value_counts()\n",
    "\n",
    "s_y_test.value_counts().head(1) / len(y_test)"
   ]
  },
  {
   "cell_type": "markdown",
   "metadata": {},
   "source": [
    "Al cumplir la exactitud nula podemos deducir que el modelo no se encuentra sobreajustado a nuestro conjunto de datos."
   ]
  },
  {
   "cell_type": "code",
   "execution_count": null,
   "metadata": {},
   "outputs": [],
   "source": [
    "print(classification_report(expected, predicted))"
   ]
  },
  {
   "cell_type": "markdown",
   "metadata": {},
   "source": [
    "El resto de métricas calculadas también son muy negativas..."
   ]
  },
  {
   "cell_type": "markdown",
   "metadata": {},
   "source": [
    "Ahora, vamos a probar a entrenarlo y evaluarlo con K-Fold para ver si puede mejorar los resultados obtenidos."
   ]
  },
  {
   "cell_type": "code",
   "execution_count": null,
   "metadata": {},
   "outputs": [],
   "source": [
    "\n",
    "cv = KFold(n_splits=5, shuffle=True, random_state=33)\n",
    "\n",
    "scores = cross_val_score(model, x, y, cv=cv)\n",
    "print(\"Scores in every iteration\", scores)\n",
    "print(\"Accuracy: %0.2f (+/- %0.2f)\" % (scores.mean(), scores.std() * 2))"
   ]
  },
  {
   "cell_type": "markdown",
   "metadata": {},
   "source": [
    "Ha mejorado ligeramente pero sigue siendo un resultado muy negativo..."
   ]
  }
 ],
 "metadata": {
  "kernelspec": {
   "display_name": "Python 3 (ipykernel)",
   "language": "python",
   "name": "python3"
  },
  "language_info": {
   "codemirror_mode": {
    "name": "ipython",
    "version": 3
   },
   "file_extension": ".py",
   "mimetype": "text/x-python",
   "name": "python",
   "nbconvert_exporter": "python",
   "pygments_lexer": "ipython3",
   "version": "3.9.7"
  }
 },
 "nbformat": 4,
 "nbformat_minor": 5
}
