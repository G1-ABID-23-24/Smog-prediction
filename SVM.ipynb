{
 "cells": [
  {
   "cell_type": "markdown",
   "id": "7ce30847",
   "metadata": {},
   "source": [
    "# Grupo 1 - Smog predicition\n",
    "## Modelo SVM"
   ]
  },
  {
   "cell_type": "markdown",
   "id": "58cd8f8c",
   "metadata": {},
   "source": [
    "### Análisis y limpieza de datos"
   ]
  },
  {
   "cell_type": "code",
   "execution_count": null,
   "id": "7f02465f",
   "metadata": {},
   "outputs": [],
   "source": [
    "#Imports generales\n",
    "import numpy as np\n",
    "import pandas as pd\n",
    "from pandas import Series\n",
    "from sklearn.model_selection import train_test_split\n",
    "from sklearn import metrics\n",
    "from sklearn import preprocessing\n",
    "from sklearn.metrics import classification_report\n",
    "from sklearn.pipeline import Pipeline\n",
    "\n",
    "#Imports específicos\n",
    "from sklearn.svm import SVC\n",
    "from sklearn.model_selection import cross_val_score, KFold, GridSearchCV\n",
    "from sklearn.metrics import classification_report, recall_score, precision_score, make_scorer\n",
    "from sklearn.preprocessing import StandardScaler\n",
    "from scipy.stats import sem\n",
    "\n",
    "#Visualización\n",
    "import seaborn as sns\n",
    "sns.set(color_codes=True)\n",
    "\n",
    "%matplotlib inline\n",
    "\n",
    "df = pd.read_csv('data/train.csv')\n",
    "\n",
    "df['Gears'] = df['Transmission'].str.extract('(\\d+)')\n",
    "df['Gears'] = pd.to_numeric(df['Gears'], errors='coerce')\n",
    "df['Transmission'] = df['Transmission'].str.extract('(\\D+)')"
   ]
  },
  {
   "cell_type": "code",
   "execution_count": null,
   "id": "5f558072",
   "metadata": {},
   "outputs": [],
   "source": [
    "#Fuel Type\n",
    "df.loc[df[\"Fuel Type\"] == \"X\", \"Fuel Type\"] = 0\n",
    "df.loc[df[\"Fuel Type\"] == \"Z\", \"Fuel Type\"] = 1\n",
    "df.loc[df[\"Fuel Type\"] == \"D\", \"Fuel Type\"] = 2\n",
    "df.loc[df[\"Fuel Type\"] == \"E\", \"Fuel Type\"] = 3\n",
    "df.loc[df[\"Fuel Type\"] == \"N\", \"Fuel Type\"] = 4\n",
    "\n",
    "#Transmission\n",
    "df.loc[df[\"Transmission\"] == \"A\", \"Transmission\"] = 0\n",
    "df.loc[df[\"Transmission\"] == \"AM\", \"Transmission\"] = 1\n",
    "df.loc[df[\"Transmission\"] == \"AS\", \"Transmission\"] = 2\n",
    "df.loc[df[\"Transmission\"] == \"AV\", \"Transmission\"] = 3\n",
    "df.loc[df[\"Transmission\"] == \"M\", \"Transmission\"] = 4\n",
    "\n",
    "\n",
    "#Vehicle Class\n",
    "df.loc[df[\"Vehicle Class\"] == \"Compact\", \"Vehicle Class\"] = 0\n",
    "df.loc[df[\"Vehicle Class\"] == \"Full-size\", \"Vehicle Class\"] = 1\n",
    "df.loc[df[\"Vehicle Class\"] == \"Mid-size\", \"Vehicle Class\"] = 2\n",
    "df.loc[df[\"Vehicle Class\"] == \"Minicompact\", \"Vehicle Class\"] = 3\n",
    "df.loc[df[\"Vehicle Class\"] == \"Minivan\", \"Vehicle Class\"] = 4\n",
    "df.loc[df[\"Vehicle Class\"] == \"Minicompact\", \"Vehicle Class\"] = 5\n",
    "df.loc[df[\"Vehicle Class\"] == \"Pickup truck: Small\", \"Vehicle Class\"] = 6\n",
    "df.loc[df[\"Vehicle Class\"] == \"Pickup truck: Standard\", \"Vehicle Class\"] = 7\n",
    "df.loc[df[\"Vehicle Class\"] == \"SUV: Small\", \"Vehicle Class\"] = 8\n",
    "df.loc[df[\"Vehicle Class\"] == \"SUV: Standard\", \"Vehicle Class\"] = 9\n",
    "df.loc[df[\"Vehicle Class\"] == \"Special purpose vehicle\", \"Vehicle Class\"] = 10\n",
    "df.loc[df[\"Vehicle Class\"] == \"Station wagon: Mid-size\", \"Vehicle Class\"] = 11\n",
    "df.loc[df[\"Vehicle Class\"] == \"Station wagon: Small\", \"Vehicle Class\"] = 12\n",
    "df.loc[df[\"Vehicle Class\"] == \"Subcompact\", \"Vehicle Class\"] = 13\n",
    "df.loc[df[\"Vehicle Class\"] == \"Two-seater\", \"Vehicle Class\"] = 14\n",
    "\n",
    "#Gears\n",
    "df['Gears'] = df['Gears'].fillna(df['Gears'].mean())"
   ]
  },
  {
   "cell_type": "code",
   "execution_count": null,
   "id": "b1c18ef0",
   "metadata": {},
   "outputs": [],
   "source": [
    "df.drop(\"Model Year\", axis=1, inplace=True)\n",
    "df.drop(\"Make\", axis=1, inplace=True)\n",
    "df.drop(\"Model\", axis=1, inplace=True)\n",
    "df.drop(\"Comb (mpg)\", axis=1, inplace=True)\n",
    "df.drop(\"Fuel Consumption City (L/100 km)\", axis=1, inplace=True)\n",
    "df.drop(\"Hwy (L/100 km)\", axis=1, inplace=True)\n",
    "\n",
    "df.head()"
   ]
  },
  {
   "cell_type": "markdown",
   "id": "85b3aafb",
   "metadata": {},
   "source": [
    "Con esto, hemos terminado el análisis y la limpieza de los datos de ambos dataframes."
   ]
  },
  {
   "cell_type": "markdown",
   "id": "e01cdfec",
   "metadata": {},
   "source": [
    "### Definición y entrenamiento del modelo"
   ]
  },
  {
   "cell_type": "markdown",
   "id": "fe97561c",
   "metadata": {},
   "source": [
    "En este *notebook* realizaremos el entrenamiento de un modelo de SVM, el cual entrenaremos empleando los campos 'Vehicle Class', 'Engine Size (L)', 'Cylinders', 'Transmission', 'Fuel Type', 'CO2 Emissions (g/km)' y 'Gears'.\n",
    "\n",
    "En primer lugar separaremos el conjunto de datos en subconjuntos de entrenamiento y prueba para realizar una primera aproximación."
   ]
  },
  {
   "cell_type": "code",
   "execution_count": null,
   "id": "41bf8841",
   "metadata": {},
   "outputs": [],
   "source": [
    "features = ['Vehicle Class', 'Engine Size (L)', 'Cylinders', 'Transmission', 'Fuel Type', 'Comb (L/100 km)', 'CO2 Emissions (g/km)', 'Gears']\n",
    "\n",
    "x = df[features].values\n",
    "y = df['Smog'].values\n",
    "\n",
    "x_train, x_test, y_train, y_test = train_test_split(x, y, test_size=0.25, random_state=33)\n",
    "\n",
    "# Normalización\n",
    "scaler = preprocessing.StandardScaler().fit(x_train)\n",
    "x_train = scaler.transform(x_train)\n",
    "x_test = scaler.transform(x_test)"
   ]
  },
  {
   "cell_type": "markdown",
   "id": "b4416b77",
   "metadata": {},
   "source": [
    "Y una vez seleccionados los datos, entrenamos el modelo."
   ]
  },
  {
   "cell_type": "code",
   "execution_count": null,
   "id": "a8abf706",
   "metadata": {
    "scrolled": true
   },
   "outputs": [],
   "source": [
    "model = SVC(kernel='linear', probability=True, gamma=3.0)\n",
    "\n",
    "model.fit(x_train, y_train)"
   ]
  },
  {
   "cell_type": "markdown",
   "id": "fdcaad6b",
   "metadata": {},
   "source": [
    "Inicialmente se usan estos hiperparámetros para el entrenamiento. Posteriormente los ajustaremos para obtener una mayor eficiencia."
   ]
  },
  {
   "cell_type": "markdown",
   "id": "9ea5ed27",
   "metadata": {},
   "source": [
    "Tras definir el modelo se va a pasar a la fase de entrenamiento."
   ]
  },
  {
   "cell_type": "markdown",
   "id": "e251e597",
   "metadata": {},
   "source": [
    "### Comprobación de resultados"
   ]
  },
  {
   "cell_type": "markdown",
   "id": "3c763136",
   "metadata": {},
   "source": [
    "Para la comprobación de resultados se van a calcular varias métricas, obteniendo la eficacia de nuestro modelo."
   ]
  },
  {
   "cell_type": "code",
   "execution_count": null,
   "id": "2ef0bb93",
   "metadata": {},
   "outputs": [],
   "source": [
    "# Evaluar la Exactitud en el entrenamiento\n",
    "predicted = model.predict(x_test)\n",
    "expected = y_test\n",
    "\n",
    "y_train_pred = model.predict(x_train)\n",
    "print(\"Accuracy in training\", metrics.accuracy_score(y_train, y_train_pred))\n",
    "\n",
    "# También vamos a evaluar el error en las pruebas\n",
    "y_test_pred = model.predict(x_test)\n",
    "print(\"Accuracy in testing \", metrics.accuracy_score(y_test, y_test_pred))"
   ]
  },
  {
   "cell_type": "markdown",
   "id": "4d7ffc99",
   "metadata": {},
   "source": [
    "Nuestra exactitud es bastante mala... Obteniendo un 54% de exactitud."
   ]
  },
  {
   "cell_type": "code",
   "execution_count": null,
   "id": "b08abbc6",
   "metadata": {},
   "outputs": [],
   "source": [
    "s_y_test = Series(y_test)\n",
    "s_y_test.value_counts()\n",
    "\n",
    "s_y_test.value_counts().head(1) / len(y_test)"
   ]
  },
  {
   "cell_type": "markdown",
   "id": "bae594b9",
   "metadata": {},
   "source": [
    "Al cumplir la exactitud nula podemos deducir que el modelo no se encuentra desbalanceado en nuestro conjunto de datos.\n",
    "\n",
    "Vamos con el F1 Score:"
   ]
  },
  {
   "cell_type": "code",
   "execution_count": null,
   "id": "62d0d103",
   "metadata": {},
   "outputs": [],
   "source": [
    "print(classification_report(expected, predicted))"
   ]
  },
  {
   "cell_type": "markdown",
   "id": "7b4db0f9",
   "metadata": {},
   "source": [
    "El resto de métricas calculadas también son muy negativas..."
   ]
  },
  {
   "cell_type": "markdown",
   "id": "896ebfcf",
   "metadata": {},
   "source": [
    "Ahora, vamos a probar a entrenarlo y evaluarlo con K-Fold para ver si puede mejorar los resultados obtenidos."
   ]
  },
  {
   "cell_type": "code",
   "execution_count": null,
   "id": "aa5bd9c0",
   "metadata": {},
   "outputs": [],
   "source": [
    "cv = KFold(n_splits=10, shuffle=True, random_state=33)\n",
    "\n",
    "scores = cross_val_score(model, x, y, cv=cv)\n",
    "print(\"Scores in every iteration\", scores)\n",
    "print(\"Accuracy: %0.2f (+/- %0.2f)\" % (scores.mean(), scores.std() * 2))"
   ]
  },
  {
   "cell_type": "markdown",
   "id": "5c09b499",
   "metadata": {},
   "source": [
    "Ha mejorado ligeramente pero sigue siendo un resultado muy negativo..."
   ]
  },
  {
   "cell_type": "markdown",
   "id": "d83f3030",
   "metadata": {},
   "source": [
    "### Ajuste del algoritmo"
   ]
  },
  {
   "cell_type": "markdown",
   "id": "a8b15313",
   "metadata": {},
   "source": [
    "Se va a utilizar Grid Search para realizar una optimización de hiperparámetros."
   ]
  },
  {
   "cell_type": "code",
   "execution_count": null,
   "id": "33abc9d0",
   "metadata": {},
   "outputs": [],
   "source": [
    "# Conjunto de hiperparámetros a probar\n",
    "tuned_hyperparameters = [{'C': [0.1, 1, 10, 100],\n",
    "                          'kernel': ['linear', 'rbf', 'poly'],\n",
    "                          'gamma': ['scale', 'auto'],\n",
    "                          'class_weight': ['balanced', None]}]\n",
    "\n",
    "scores = ['precision', 'recall']\n",
    "\n",
    "for score in scores:\n",
    "    print(\"# Tuning hyperparameters for %s\" % score)\n",
    "    print()\n",
    "\n",
    "    if score == 'precision':\n",
    "        scorer = make_scorer(precision_score, average='weighted', zero_division=0)\n",
    "    elif score == 'recall':\n",
    "        scorer = make_scorer(recall_score, average='weighted', zero_division=0)\n",
    "    \n",
    "    gs = GridSearchCV(SVC(), tuned_hyperparameters, cv=10, scoring=scorer)\n",
    "    gs.fit(x_train, y_train)\n",
    "\n",
    "    print(\"Best hyperparameters set found on development set:\")\n",
    "    print()\n",
    "    print(gs.best_params_)\n",
    "    print()\n",
    "    print(\"Grid scores on development set:\")\n",
    "    print()\n",
    "    means = gs.cv_results_['mean_test_score']\n",
    "    stds = gs.cv_results_['std_test_score']\n",
    "\n",
    "    for mean_score, std_score, params in zip(means, stds, gs.cv_results_['params']):\n",
    "        print(\"%0.3f (+/-%0.03f) for %r\" % (mean_score, std_score * 2, params))\n",
    "    print()\n",
    "\n",
    "    print(\"Detailed classification report:\")\n",
    "    print()\n",
    "    print(\"The model is trained on the full development set.\")\n",
    "    print(\"The scores are computed on the full evaluation set.\")\n",
    "    print()\n",
    "    y_true, y_pred = y_test, gs.predict(x_test)\n",
    "    print(classification_report(y_true, y_pred))\n",
    "    print()\n"
   ]
  },
  {
   "cell_type": "markdown",
   "id": "f0cd79e4",
   "metadata": {},
   "source": [
    "### Comprobación con el algoritmo ajustado"
   ]
  },
  {
   "cell_type": "markdown",
   "id": "5b4c28e7",
   "metadata": {},
   "source": [
    "A partir de los resultados anteriores, volvemos a entrenar el modelo mediante validación con K-Fold para comprobar la nueva media de puntuación."
   ]
  },
  {
   "cell_type": "code",
   "execution_count": null,
   "id": "5365b28f",
   "metadata": {},
   "outputs": [],
   "source": [
    "model = Pipeline([\n",
    "    ('scaler', StandardScaler()),\n",
    "    ('svm', SVC(**gs.best_params_))\n",
    "])\n",
    "\n",
    "model.fit(x_train, y_train)\n",
    "\n",
    "cv = KFold(10, shuffle=True, random_state=33)\n",
    "\n",
    "scores = cross_val_score(model, x, y, cv=cv)\n",
    "def mean_score(scores):\n",
    "    return (\"Mean score: {0:.3f} (+/- {1:.3f})\").format(np.mean(scores), sem(scores))\n",
    "print(mean_score(scores))"
   ]
  },
  {
   "cell_type": "markdown",
   "id": "3290fe55",
   "metadata": {},
   "source": [
    "Con el algoritmo ajustado, obtenemos una media del 73%, lo cual mejora notablemente el modelo."
   ]
  }
 ],
 "metadata": {
  "kernelspec": {
   "display_name": "Python 3 (ipykernel)",
   "language": "python",
   "name": "python3"
  }
 },
 "nbformat": 4,
 "nbformat_minor": 5
}
