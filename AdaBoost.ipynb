{
 "cells": [
  {
   "cell_type": "markdown",
   "id": "faf8cc27",
   "metadata": {},
   "source": [
    "# Grupo 1 - Smog predicition\n",
    "## Modelo AdaBoost"
   ]
  },
  {
   "cell_type": "markdown",
   "id": "58cd8f8c",
   "metadata": {},
   "source": [
    "### Análisis y limpieza de datos"
   ]
  },
  {
   "cell_type": "code",
   "execution_count": 1,
   "id": "772bd67c",
   "metadata": {},
   "outputs": [],
   "source": [
    "#Imports generales\n",
    "import numpy as np\n",
    "import pandas as pd\n",
    "from pandas import Series\n",
    "from sklearn.model_selection import train_test_split\n",
    "from sklearn import metrics\n",
    "from sklearn import preprocessing\n",
    "from sklearn.metrics import classification_report\n",
    "from sklearn.pipeline import Pipeline\n",
    "\n",
    "#Imports específicos\n",
    "from sklearn import ensemble\n",
    "from sklearn.ensemble import AdaBoostClassifier\n",
    "from sklearn.ensemble import RandomForestClassifier\n",
    "from sklearn.model_selection import GridSearchCV, KFold, cross_val_score\n",
    "from sklearn.metrics import classification_report, make_scorer, precision_score, recall_score\n",
    "from sklearn.preprocessing import StandardScaler\n",
    "from scipy.stats import sem\n",
    "\n",
    "#Visualización\n",
    "import seaborn as sns\n",
    "sns.set(color_codes=True)\n",
    "\n",
    "%matplotlib inline\n",
    "\n",
    "df = pd.read_csv('data/train.csv')\n",
    "\n",
    "df['Gears'] = df['Transmission'].str.extract('(\\d+)')\n",
    "df['Gears'] = pd.to_numeric(df['Gears'], errors='coerce')\n",
    "df['Transmission'] = df['Transmission'].str.extract('(\\D+)')"
   ]
  },
  {
   "cell_type": "code",
   "execution_count": 2,
   "id": "ae51e74c",
   "metadata": {},
   "outputs": [],
   "source": [
    "#Fuel Type\n",
    "df.loc[df[\"Fuel Type\"] == \"X\", \"Fuel Type\"] = 0\n",
    "df.loc[df[\"Fuel Type\"] == \"Z\", \"Fuel Type\"] = 1\n",
    "df.loc[df[\"Fuel Type\"] == \"D\", \"Fuel Type\"] = 2\n",
    "df.loc[df[\"Fuel Type\"] == \"E\", \"Fuel Type\"] = 3\n",
    "df.loc[df[\"Fuel Type\"] == \"N\", \"Fuel Type\"] = 4\n",
    "\n",
    "#Transmission\n",
    "df.loc[df[\"Transmission\"] == \"A\", \"Transmission\"] = 0\n",
    "df.loc[df[\"Transmission\"] == \"AM\", \"Transmission\"] = 1\n",
    "df.loc[df[\"Transmission\"] == \"AS\", \"Transmission\"] = 2\n",
    "df.loc[df[\"Transmission\"] == \"AV\", \"Transmission\"] = 3\n",
    "df.loc[df[\"Transmission\"] == \"M\", \"Transmission\"] = 4\n",
    "\n",
    "\n",
    "#Vehicle Class\n",
    "df.loc[df[\"Vehicle Class\"] == \"Compact\", \"Vehicle Class\"] = 0\n",
    "df.loc[df[\"Vehicle Class\"] == \"Full-size\", \"Vehicle Class\"] = 1\n",
    "df.loc[df[\"Vehicle Class\"] == \"Mid-size\", \"Vehicle Class\"] = 2\n",
    "df.loc[df[\"Vehicle Class\"] == \"Minicompact\", \"Vehicle Class\"] = 3\n",
    "df.loc[df[\"Vehicle Class\"] == \"Minivan\", \"Vehicle Class\"] = 4\n",
    "df.loc[df[\"Vehicle Class\"] == \"Minicompact\", \"Vehicle Class\"] = 5\n",
    "df.loc[df[\"Vehicle Class\"] == \"Pickup truck: Small\", \"Vehicle Class\"] = 6\n",
    "df.loc[df[\"Vehicle Class\"] == \"Pickup truck: Standard\", \"Vehicle Class\"] = 7\n",
    "df.loc[df[\"Vehicle Class\"] == \"SUV: Small\", \"Vehicle Class\"] = 8\n",
    "df.loc[df[\"Vehicle Class\"] == \"SUV: Standard\", \"Vehicle Class\"] = 9\n",
    "df.loc[df[\"Vehicle Class\"] == \"Special purpose vehicle\", \"Vehicle Class\"] = 10\n",
    "df.loc[df[\"Vehicle Class\"] == \"Station wagon: Mid-size\", \"Vehicle Class\"] = 11\n",
    "df.loc[df[\"Vehicle Class\"] == \"Station wagon: Small\", \"Vehicle Class\"] = 12\n",
    "df.loc[df[\"Vehicle Class\"] == \"Subcompact\", \"Vehicle Class\"] = 13\n",
    "df.loc[df[\"Vehicle Class\"] == \"Two-seater\", \"Vehicle Class\"] = 14\n",
    "\n",
    "#Gears\n",
    "df['Gears'] = df['Gears'].fillna(df['Gears'].mean())"
   ]
  },
  {
   "cell_type": "code",
   "execution_count": 3,
   "id": "f002b165",
   "metadata": {},
   "outputs": [
    {
     "data": {
      "text/html": [
       "<div>\n",
       "<style scoped>\n",
       "    .dataframe tbody tr th:only-of-type {\n",
       "        vertical-align: middle;\n",
       "    }\n",
       "\n",
       "    .dataframe tbody tr th {\n",
       "        vertical-align: top;\n",
       "    }\n",
       "\n",
       "    .dataframe thead th {\n",
       "        text-align: right;\n",
       "    }\n",
       "</style>\n",
       "<table border=\"1\" class=\"dataframe\">\n",
       "  <thead>\n",
       "    <tr style=\"text-align: right;\">\n",
       "      <th></th>\n",
       "      <th>id</th>\n",
       "      <th>Vehicle Class</th>\n",
       "      <th>Engine Size (L)</th>\n",
       "      <th>Cylinders</th>\n",
       "      <th>Transmission</th>\n",
       "      <th>Fuel Type</th>\n",
       "      <th>Comb (L/100 km)</th>\n",
       "      <th>CO2 Emissions (g/km)</th>\n",
       "      <th>Smog</th>\n",
       "      <th>Gears</th>\n",
       "    </tr>\n",
       "  </thead>\n",
       "  <tbody>\n",
       "    <tr>\n",
       "      <th>0</th>\n",
       "      <td>ab44e9bec15</td>\n",
       "      <td>12</td>\n",
       "      <td>2.0</td>\n",
       "      <td>4</td>\n",
       "      <td>1</td>\n",
       "      <td>1</td>\n",
       "      <td>8.7</td>\n",
       "      <td>202</td>\n",
       "      <td>2</td>\n",
       "      <td>7.0</td>\n",
       "    </tr>\n",
       "    <tr>\n",
       "      <th>1</th>\n",
       "      <td>45926762371</td>\n",
       "      <td>2</td>\n",
       "      <td>2.0</td>\n",
       "      <td>4</td>\n",
       "      <td>2</td>\n",
       "      <td>0</td>\n",
       "      <td>7.7</td>\n",
       "      <td>181</td>\n",
       "      <td>4</td>\n",
       "      <td>6.0</td>\n",
       "    </tr>\n",
       "    <tr>\n",
       "      <th>2</th>\n",
       "      <td>e9be56e153f</td>\n",
       "      <td>1</td>\n",
       "      <td>2.9</td>\n",
       "      <td>6</td>\n",
       "      <td>1</td>\n",
       "      <td>1</td>\n",
       "      <td>11.7</td>\n",
       "      <td>274</td>\n",
       "      <td>2</td>\n",
       "      <td>8.0</td>\n",
       "    </tr>\n",
       "    <tr>\n",
       "      <th>3</th>\n",
       "      <td>077092760df</td>\n",
       "      <td>0</td>\n",
       "      <td>2.0</td>\n",
       "      <td>4</td>\n",
       "      <td>2</td>\n",
       "      <td>0</td>\n",
       "      <td>8.1</td>\n",
       "      <td>189</td>\n",
       "      <td>1</td>\n",
       "      <td>6.0</td>\n",
       "    </tr>\n",
       "    <tr>\n",
       "      <th>4</th>\n",
       "      <td>c1c2579b795</td>\n",
       "      <td>3</td>\n",
       "      <td>5.2</td>\n",
       "      <td>12</td>\n",
       "      <td>0</td>\n",
       "      <td>1</td>\n",
       "      <td>13.8</td>\n",
       "      <td>324</td>\n",
       "      <td>1</td>\n",
       "      <td>8.0</td>\n",
       "    </tr>\n",
       "  </tbody>\n",
       "</table>\n",
       "</div>"
      ],
      "text/plain": [
       "            id Vehicle Class  Engine Size (L)  Cylinders Transmission  \\\n",
       "0  ab44e9bec15            12              2.0          4            1   \n",
       "1  45926762371             2              2.0          4            2   \n",
       "2  e9be56e153f             1              2.9          6            1   \n",
       "3  077092760df             0              2.0          4            2   \n",
       "4  c1c2579b795             3              5.2         12            0   \n",
       "\n",
       "  Fuel Type  Comb (L/100 km)  CO2 Emissions (g/km)  Smog  Gears  \n",
       "0         1              8.7                   202     2    7.0  \n",
       "1         0              7.7                   181     4    6.0  \n",
       "2         1             11.7                   274     2    8.0  \n",
       "3         0              8.1                   189     1    6.0  \n",
       "4         1             13.8                   324     1    8.0  "
      ]
     },
     "execution_count": 3,
     "metadata": {},
     "output_type": "execute_result"
    }
   ],
   "source": [
    "df.drop(\"Model Year\", axis=1, inplace=True)\n",
    "df.drop(\"Make\", axis=1, inplace=True)\n",
    "df.drop(\"Model\", axis=1, inplace=True)\n",
    "df.drop(\"Comb (mpg)\", axis=1, inplace=True)\n",
    "df.drop(\"Fuel Consumption City (L/100 km)\", axis=1, inplace=True)\n",
    "df.drop(\"Hwy (L/100 km)\", axis=1, inplace=True)\n",
    "\n",
    "df.head()"
   ]
  },
  {
   "cell_type": "markdown",
   "id": "8cfc7c50",
   "metadata": {},
   "source": [
    "Con esto, hemos terminado el análisis y la limpieza de los datos de ambos dataframes."
   ]
  },
  {
   "cell_type": "markdown",
   "id": "012b85a8",
   "metadata": {},
   "source": [
    "# Definión y entrenamiento del modelo"
   ]
  },
  {
   "cell_type": "markdown",
   "id": "eb6edbc8",
   "metadata": {},
   "source": [
    "En este *notebook* realizaremos el entrenamiento de un modelo de AdaBoost, el cual entrenaremos empleando los campos 'Vehicle Class', 'Engine Size (L)', 'Cylinders', 'Transmission', 'Fuel Type', 'CO2 Emissions (g/km)' y 'Gears'.\n",
    "\n",
    "En primer lugar separaremos el conjunto de datos en subconjuntos de entrenamiento y prueba para realizar una primera aproximación."
   ]
  },
  {
   "cell_type": "code",
   "execution_count": 4,
   "id": "904fe574",
   "metadata": {},
   "outputs": [],
   "source": [
    "features = ['Vehicle Class', 'Engine Size (L)', 'Cylinders', 'Transmission', 'Fuel Type', 'Comb (L/100 km)', 'CO2 Emissions (g/km)', 'Gears']\n",
    "\n",
    "x = df[features].values\n",
    "y = df['Smog'].values\n",
    "\n",
    "x_train, x_test, y_train, y_test = train_test_split(x, y, test_size=0.25, random_state=33)\n",
    "\n",
    "# Normalización\n",
    "scaler = preprocessing.StandardScaler().fit(x_train)\n",
    "x_train = scaler.transform(x_train)\n",
    "x_test = scaler.transform(x_test)"
   ]
  },
  {
   "cell_type": "markdown",
   "id": "2e43cbe2",
   "metadata": {},
   "source": [
    "Y una vez seleccionados los datos, entrenamos el modelo."
   ]
  },
  {
   "cell_type": "markdown",
   "id": "8c68298b",
   "metadata": {},
   "source": [
    "Utilizamos RandomForest como modelo interno de AdaBoost debido a que hemos probado varios modelos como KNN, SVM y DecisionTree entre otros pero RandomForest es el que mejor resultado nos ha dado con diferencia."
   ]
  },
  {
   "cell_type": "code",
   "execution_count": 5,
   "id": "2305c906",
   "metadata": {},
   "outputs": [
    {
     "data": {
      "text/plain": [
       "AdaBoostClassifier(base_estimator=RandomForestClassifier(n_estimators=70,\n",
       "                                                         random_state=100),\n",
       "                   learning_rate=0.01, n_estimators=90, random_state=33)"
      ]
     },
     "execution_count": 5,
     "metadata": {},
     "output_type": "execute_result"
    }
   ],
   "source": [
    "rfc = RandomForestClassifier(n_estimators=70, random_state=100)\n",
    " \n",
    "model = AdaBoostClassifier(base_estimator=rfc, n_estimators=90, learning_rate=0.01, random_state=33)\n",
    " \n",
    "model.fit(x_train, y_train)"
   ]
  },
  {
   "cell_type": "markdown",
   "id": "2b8f7b2c",
   "metadata": {},
   "source": [
    "Inicialmente se usan estos hiperparámetros para el entrenamiento. Posteriormente los ajustaremos para obtener una mayor eficiencia."
   ]
  },
  {
   "cell_type": "markdown",
   "id": "ff5e3d81",
   "metadata": {},
   "source": [
    "### Comprobación de resultados"
   ]
  },
  {
   "cell_type": "markdown",
   "id": "fcf4bdbb",
   "metadata": {},
   "source": [
    "Para la comprobación de resultados se van a calcular varias métricas, obteniendo la eficacia de nuestro modelo."
   ]
  },
  {
   "cell_type": "code",
   "execution_count": 6,
   "id": "a887e488",
   "metadata": {
    "scrolled": false
   },
   "outputs": [
    {
     "name": "stdout",
     "output_type": "stream",
     "text": [
      "Accuracy in training 0.9977220956719818\n",
      "Accuracy in testing  0.7619047619047619\n"
     ]
    }
   ],
   "source": [
    "# Evaluar la Exactitud en el entrenamiento\n",
    "predicted = model.predict(x_test)\n",
    "expected = y_test\n",
    "\n",
    "y_train_pred = model.predict(x_train)\n",
    "print(\"Accuracy in training\", metrics.accuracy_score(y_train, y_train_pred))\n",
    "\n",
    "# También vamos a evaluar el error en las pruebas\n",
    "y_test_pred = model.predict(x_test)\n",
    "print(\"Accuracy in testing \", metrics.accuracy_score(y_test, y_test_pred))"
   ]
  },
  {
   "cell_type": "markdown",
   "id": "0b7222d7",
   "metadata": {},
   "source": [
    "Obtenemos una exactitud de casi el 77%."
   ]
  },
  {
   "cell_type": "code",
   "execution_count": 7,
   "id": "c5f8a115",
   "metadata": {
    "scrolled": true
   },
   "outputs": [
    {
     "data": {
      "text/plain": [
       "2    0.408163\n",
       "dtype: float64"
      ]
     },
     "execution_count": 7,
     "metadata": {},
     "output_type": "execute_result"
    }
   ],
   "source": [
    "s_y_test = Series(y_test)\n",
    "s_y_test.value_counts()\n",
    "\n",
    "s_y_test.value_counts().head(1) / len(y_test)"
   ]
  },
  {
   "cell_type": "markdown",
   "id": "f2dfe2eb",
   "metadata": {},
   "source": [
    "Al cumplir la exactitud nula podemos deducir que el modelo no se encuentra desbalanceado en nuestro conjunto de datos.\n",
    "\n",
    "Vamos con el F1-score:"
   ]
  },
  {
   "cell_type": "code",
   "execution_count": 8,
   "id": "5603244a",
   "metadata": {
    "scrolled": true
   },
   "outputs": [
    {
     "name": "stdout",
     "output_type": "stream",
     "text": [
      "              precision    recall  f1-score   support\n",
      "\n",
      "           0       1.00      0.86      0.92         7\n",
      "           1       0.68      0.75      0.71        28\n",
      "           2       0.76      0.75      0.76        60\n",
      "           3       0.88      0.79      0.83        28\n",
      "           4       0.69      0.75      0.72        24\n",
      "\n",
      "    accuracy                           0.76       147\n",
      "   macro avg       0.80      0.78      0.79       147\n",
      "weighted avg       0.77      0.76      0.76       147\n",
      "\n"
     ]
    }
   ],
   "source": [
    "print(classification_report(expected, predicted))"
   ]
  },
  {
   "cell_type": "markdown",
   "id": "d3c4dfaf",
   "metadata": {},
   "source": [
    "Ahora, vamos a probar a entrenarlo y evaluarlo con K-Fold para ver si puede mejorar los resultados obtenidos."
   ]
  },
  {
   "cell_type": "code",
   "execution_count": 9,
   "id": "8408b56c",
   "metadata": {},
   "outputs": [
    {
     "name": "stdout",
     "output_type": "stream",
     "text": [
      "Scores in every iteration [0.81355932 0.7008547  0.7008547  0.74358974 0.77777778]\n",
      "Accuracy: 0.75 (+/- 0.09)\n"
     ]
    }
   ],
   "source": [
    "cv = KFold(n_splits=5, shuffle=True, random_state=33)\n",
    "\n",
    "scores = cross_val_score(model, x, y, cv=cv)\n",
    "print(\"Scores in every iteration\", scores)\n",
    "print(\"Accuracy: %0.2f (+/- %0.2f)\" % (scores.mean(), scores.std() * 2))"
   ]
  },
  {
   "cell_type": "markdown",
   "id": "a112d1e9",
   "metadata": {},
   "source": [
    "Utilizando KFold se obtiene una exactitud del 75%. "
   ]
  },
  {
   "cell_type": "markdown",
   "id": "3c4929f3",
   "metadata": {},
   "source": [
    "### Ajuste del algoritmo"
   ]
  },
  {
   "cell_type": "markdown",
   "id": "4fa083c7",
   "metadata": {},
   "source": [
    "Se va a utilizar Grid Search para realizar una optimización de hiperparámetros."
   ]
  },
  {
   "cell_type": "code",
   "execution_count": 10,
   "id": "f7c7280d",
   "metadata": {},
   "outputs": [
    {
     "name": "stdout",
     "output_type": "stream",
     "text": [
      "# Ajuste de hiperparámetros para precision\n",
      "\n",
      "Mejor conjunto de hiperparámetros encontrado en el conjunto de desarrollo:\n",
      "\n",
      "{'base_estimator': RandomForestClassifier(n_estimators=70, random_state=100), 'learning_rate': 0.01, 'n_estimators': 10, 'random_state': 33}\n",
      "\n",
      "Puntuaciones en la cuadrícula en el conjunto de desarrollo:\n",
      "\n",
      "0.756 (+/-0.133) para {'base_estimator': RandomForestClassifier(n_estimators=70, random_state=100), 'learning_rate': 0.01, 'n_estimators': 10, 'random_state': 33}\n",
      "0.750 (+/-0.113) para {'base_estimator': RandomForestClassifier(n_estimators=70, random_state=100), 'learning_rate': 0.01, 'n_estimators': 30, 'random_state': 33}\n",
      "0.748 (+/-0.117) para {'base_estimator': RandomForestClassifier(n_estimators=70, random_state=100), 'learning_rate': 0.01, 'n_estimators': 50, 'random_state': 33}\n",
      "0.743 (+/-0.127) para {'base_estimator': RandomForestClassifier(n_estimators=70, random_state=100), 'learning_rate': 0.01, 'n_estimators': 70, 'random_state': 33}\n",
      "0.743 (+/-0.127) para {'base_estimator': RandomForestClassifier(n_estimators=70, random_state=100), 'learning_rate': 0.01, 'n_estimators': 90, 'random_state': 33}\n",
      "0.739 (+/-0.132) para {'base_estimator': RandomForestClassifier(n_estimators=70, random_state=100), 'learning_rate': 0.1, 'n_estimators': 10, 'random_state': 33}\n",
      "0.732 (+/-0.120) para {'base_estimator': RandomForestClassifier(n_estimators=70, random_state=100), 'learning_rate': 0.1, 'n_estimators': 30, 'random_state': 33}\n",
      "0.730 (+/-0.131) para {'base_estimator': RandomForestClassifier(n_estimators=70, random_state=100), 'learning_rate': 0.1, 'n_estimators': 50, 'random_state': 33}\n",
      "0.724 (+/-0.128) para {'base_estimator': RandomForestClassifier(n_estimators=70, random_state=100), 'learning_rate': 0.1, 'n_estimators': 70, 'random_state': 33}\n",
      "0.731 (+/-0.118) para {'base_estimator': RandomForestClassifier(n_estimators=70, random_state=100), 'learning_rate': 0.1, 'n_estimators': 90, 'random_state': 33}\n",
      "0.753 (+/-0.128) para {'base_estimator': RandomForestClassifier(n_estimators=70, random_state=100), 'learning_rate': 1.0, 'n_estimators': 10, 'random_state': 33}\n",
      "0.731 (+/-0.164) para {'base_estimator': RandomForestClassifier(n_estimators=70, random_state=100), 'learning_rate': 1.0, 'n_estimators': 30, 'random_state': 33}\n",
      "0.705 (+/-0.122) para {'base_estimator': RandomForestClassifier(n_estimators=70, random_state=100), 'learning_rate': 1.0, 'n_estimators': 50, 'random_state': 33}\n",
      "0.651 (+/-0.250) para {'base_estimator': RandomForestClassifier(n_estimators=70, random_state=100), 'learning_rate': 1.0, 'n_estimators': 70, 'random_state': 33}\n",
      "0.662 (+/-0.179) para {'base_estimator': RandomForestClassifier(n_estimators=70, random_state=100), 'learning_rate': 1.0, 'n_estimators': 90, 'random_state': 33}\n",
      "\n",
      "Informe de clasificación detallado:\n",
      "\n",
      "El modelo se entrena en el conjunto de desarrollo completo.\n",
      "Las puntuaciones se calculan en el conjunto de evaluación completo.\n",
      "\n",
      "              precision    recall  f1-score   support\n",
      "\n",
      "           0       1.00      0.86      0.92         7\n",
      "           1       0.66      0.75      0.70        28\n",
      "           2       0.76      0.68      0.72        60\n",
      "           3       0.78      0.75      0.76        28\n",
      "           4       0.68      0.79      0.73        24\n",
      "\n",
      "    accuracy                           0.73       147\n",
      "   macro avg       0.77      0.77      0.77       147\n",
      "weighted avg       0.74      0.73      0.74       147\n",
      "\n",
      "\n",
      "# Ajuste de hiperparámetros para recall\n",
      "\n",
      "Mejor conjunto de hiperparámetros encontrado en el conjunto de desarrollo:\n",
      "\n",
      "{'base_estimator': RandomForestClassifier(n_estimators=70, random_state=100), 'learning_rate': 0.01, 'n_estimators': 10, 'random_state': 33}\n",
      "\n",
      "Puntuaciones en la cuadrícula en el conjunto de desarrollo:\n",
      "\n",
      "0.733 (+/-0.116) para {'base_estimator': RandomForestClassifier(n_estimators=70, random_state=100), 'learning_rate': 0.01, 'n_estimators': 10, 'random_state': 33}\n",
      "0.724 (+/-0.097) para {'base_estimator': RandomForestClassifier(n_estimators=70, random_state=100), 'learning_rate': 0.01, 'n_estimators': 30, 'random_state': 33}\n",
      "0.722 (+/-0.100) para {'base_estimator': RandomForestClassifier(n_estimators=70, random_state=100), 'learning_rate': 0.01, 'n_estimators': 50, 'random_state': 33}\n",
      "0.717 (+/-0.112) para {'base_estimator': RandomForestClassifier(n_estimators=70, random_state=100), 'learning_rate': 0.01, 'n_estimators': 70, 'random_state': 33}\n",
      "0.717 (+/-0.112) para {'base_estimator': RandomForestClassifier(n_estimators=70, random_state=100), 'learning_rate': 0.01, 'n_estimators': 90, 'random_state': 33}\n",
      "0.717 (+/-0.105) para {'base_estimator': RandomForestClassifier(n_estimators=70, random_state=100), 'learning_rate': 0.1, 'n_estimators': 10, 'random_state': 33}\n",
      "0.708 (+/-0.099) para {'base_estimator': RandomForestClassifier(n_estimators=70, random_state=100), 'learning_rate': 0.1, 'n_estimators': 30, 'random_state': 33}\n",
      "0.708 (+/-0.109) para {'base_estimator': RandomForestClassifier(n_estimators=70, random_state=100), 'learning_rate': 0.1, 'n_estimators': 50, 'random_state': 33}\n",
      "0.704 (+/-0.106) para {'base_estimator': RandomForestClassifier(n_estimators=70, random_state=100), 'learning_rate': 0.1, 'n_estimators': 70, 'random_state': 33}\n",
      "0.711 (+/-0.096) para {'base_estimator': RandomForestClassifier(n_estimators=70, random_state=100), 'learning_rate': 0.1, 'n_estimators': 90, 'random_state': 33}\n",
      "0.731 (+/-0.111) para {'base_estimator': RandomForestClassifier(n_estimators=70, random_state=100), 'learning_rate': 1.0, 'n_estimators': 10, 'random_state': 33}\n",
      "0.695 (+/-0.140) para {'base_estimator': RandomForestClassifier(n_estimators=70, random_state=100), 'learning_rate': 1.0, 'n_estimators': 30, 'random_state': 33}\n",
      "0.654 (+/-0.190) para {'base_estimator': RandomForestClassifier(n_estimators=70, random_state=100), 'learning_rate': 1.0, 'n_estimators': 50, 'random_state': 33}\n",
      "0.617 (+/-0.223) para {'base_estimator': RandomForestClassifier(n_estimators=70, random_state=100), 'learning_rate': 1.0, 'n_estimators': 70, 'random_state': 33}\n",
      "0.597 (+/-0.234) para {'base_estimator': RandomForestClassifier(n_estimators=70, random_state=100), 'learning_rate': 1.0, 'n_estimators': 90, 'random_state': 33}\n",
      "\n",
      "Informe de clasificación detallado:\n",
      "\n",
      "El modelo se entrena en el conjunto de desarrollo completo.\n",
      "Las puntuaciones se calculan en el conjunto de evaluación completo.\n",
      "\n",
      "              precision    recall  f1-score   support\n",
      "\n",
      "           0       1.00      0.86      0.92         7\n",
      "           1       0.66      0.75      0.70        28\n",
      "           2       0.76      0.68      0.72        60\n",
      "           3       0.78      0.75      0.76        28\n",
      "           4       0.68      0.79      0.73        24\n",
      "\n",
      "    accuracy                           0.73       147\n",
      "   macro avg       0.77      0.77      0.77       147\n",
      "weighted avg       0.74      0.73      0.74       147\n",
      "\n",
      "\n"
     ]
    }
   ],
   "source": [
    "# Conjunto de hiperparámetros a probar\n",
    "tuned_hyperparameters = [{'n_estimators':  [10, 30, 50, 70, 90],\n",
    "                          'learning_rate': [0.01, 0.1, 1.0],\n",
    "                          'base_estimator': [rfc],\n",
    "                          'random_state': [33]}]\n",
    "\n",
    "scores = ['precision', 'recall']\n",
    "\n",
    "for score in scores:\n",
    "    print(\"# Ajuste de hiperparámetros para %s\" % score)\n",
    "    print()\n",
    "\n",
    "    if score == 'precision':\n",
    "        scorer = make_scorer(precision_score, average='weighted', zero_division=0)\n",
    "    elif score == 'recall':\n",
    "        scorer = make_scorer(recall_score, average='weighted', zero_division=0)\n",
    "\n",
    "    gs = GridSearchCV(AdaBoostClassifier(), tuned_hyperparameters, cv=10, scoring=scorer)\n",
    "    gs.fit(x_train, y_train)\n",
    "\n",
    "    print(\"Mejor conjunto de hiperparámetros encontrado en el conjunto de desarrollo:\")\n",
    "    print()\n",
    "    print(gs.best_params_)\n",
    "    print()\n",
    "    print(\"Puntuaciones en la cuadrícula en el conjunto de desarrollo:\")\n",
    "    print()\n",
    "    means = gs.cv_results_['mean_test_score']\n",
    "    stds = gs.cv_results_['std_test_score']\n",
    "\n",
    "    for mean_score, std_score, params in zip(means, stds, gs.cv_results_['params']):\n",
    "        print(\"%0.3f (+/-%0.03f) para %r\" % (mean_score, std_score * 2, params))\n",
    "    print()\n",
    "\n",
    "    print(\"Informe de clasificación detallado:\")\n",
    "    print()\n",
    "    print(\"El modelo se entrena en el conjunto de desarrollo completo.\")\n",
    "    print(\"Las puntuaciones se calculan en el conjunto de evaluación completo.\")\n",
    "    print()\n",
    "    y_true, y_pred = y_test, gs.predict(x_test)\n",
    "    print(classification_report(y_true, y_pred))\n",
    "    print()"
   ]
  },
  {
   "cell_type": "markdown",
   "id": "cab97db4",
   "metadata": {},
   "source": [
    "### Comprobación con el algoritmo ajustado"
   ]
  },
  {
   "cell_type": "markdown",
   "id": "8b489f73",
   "metadata": {},
   "source": [
    "A partir de los resultados anteriores, volvemos a entrenar el modelo mediante validación con K-Fold para comprobar la nueva media de puntuación."
   ]
  },
  {
   "cell_type": "code",
   "execution_count": 11,
   "id": "6830d5ad",
   "metadata": {},
   "outputs": [
    {
     "name": "stdout",
     "output_type": "stream",
     "text": [
      "Puntuación media: 0.763 (+/- 0.023)\n"
     ]
    }
   ],
   "source": [
    "model = Pipeline([\n",
    "        ('scaler', StandardScaler()),\n",
    "        ('ab', AdaBoostClassifier(**gs.best_params_))\n",
    "])\n",
    "\n",
    "model.fit(x_train, y_train) \n",
    "\n",
    "cv = KFold(10, shuffle=True, random_state=33)\n",
    "\n",
    "scores = cross_val_score(model, x, y, cv=cv)\n",
    "def mean_score(scores):\n",
    "    return (\"Puntuación media: {0:.3f} (+/- {1:.3f})\").format(np.mean(scores), sem(scores))\n",
    "print(mean_score(scores))\n"
   ]
  },
  {
   "cell_type": "markdown",
   "id": "02c9d39b",
   "metadata": {},
   "source": [
    "Tras el ajuste de hiperparámetros vemos que se obtiene una puntuación muy similar a la obtenida anteriormente."
   ]
  }
 ],
 "metadata": {
  "kernelspec": {
   "display_name": "Python 3 (ipykernel)",
   "language": "python",
   "name": "python3"
  },
  "language_info": {
   "codemirror_mode": {
    "name": "ipython",
    "version": 3
   },
   "file_extension": ".py",
   "mimetype": "text/x-python",
   "name": "python",
   "nbconvert_exporter": "python",
   "pygments_lexer": "ipython3",
   "version": "3.9.7"
  }
 },
 "nbformat": 4,
 "nbformat_minor": 5
}
