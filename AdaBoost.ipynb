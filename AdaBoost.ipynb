{
 "cells": [
  {
   "cell_type": "markdown",
   "id": "faf8cc27",
   "metadata": {},
   "source": [
    "# Grupo 1 - Smog predicition\n",
    "## Modelo AdaBoost"
   ]
  },
  {
   "cell_type": "markdown",
   "id": "58cd8f8c",
   "metadata": {},
   "source": [
    "### Análisis y limpieza de datos"
   ]
  },
  {
   "cell_type": "code",
   "execution_count": null,
   "id": "772bd67c",
   "metadata": {},
   "outputs": [],
   "source": [
    "#Imports generales\n",
    "import numpy as np\n",
    "import pandas as pd\n",
    "from pandas import Series\n",
    "from sklearn.model_selection import train_test_split\n",
    "from sklearn import metrics\n",
    "from sklearn import preprocessing\n",
    "from sklearn.metrics import classification_report\n",
    "from sklearn.pipeline import Pipeline\n",
    "\n",
    "#Imports específicos\n",
    "from sklearn import ensemble\n",
    "from sklearn.ensemble import AdaBoostClassifier\n",
    "from sklearn.ensemble import RandomForestClassifier\n",
    "from sklearn.model_selection import GridSearchCV, KFold, cross_val_score\n",
    "from sklearn.metrics import classification_report, make_scorer, precision_score, recall_score\n",
    "from sklearn.preprocessing import StandardScaler\n",
    "from scipy.stats import sem\n",
    "\n",
    "#Visualización\n",
    "import seaborn as sns\n",
    "sns.set(color_codes=True)\n",
    "\n",
    "%matplotlib inline\n",
    "\n",
    "df = pd.read_csv('data/train.csv')\n",
    "\n",
    "df['Gears'] = df['Transmission'].str.extract('(\\d+)')\n",
    "df['Gears'] = pd.to_numeric(df['Gears'], errors='coerce')\n",
    "df['Transmission'] = df['Transmission'].str.extract('(\\D+)')"
   ]
  },
  {
   "cell_type": "code",
   "execution_count": null,
   "id": "ae51e74c",
   "metadata": {},
   "outputs": [],
   "source": [
    "#Fuel Type\n",
    "df.loc[df[\"Fuel Type\"] == \"X\", \"Fuel Type\"] = 0\n",
    "df.loc[df[\"Fuel Type\"] == \"Z\", \"Fuel Type\"] = 1\n",
    "df.loc[df[\"Fuel Type\"] == \"D\", \"Fuel Type\"] = 2\n",
    "df.loc[df[\"Fuel Type\"] == \"E\", \"Fuel Type\"] = 3\n",
    "df.loc[df[\"Fuel Type\"] == \"N\", \"Fuel Type\"] = 4\n",
    "\n",
    "#Transmission\n",
    "df.loc[df[\"Transmission\"] == \"A\", \"Transmission\"] = 0\n",
    "df.loc[df[\"Transmission\"] == \"AM\", \"Transmission\"] = 1\n",
    "df.loc[df[\"Transmission\"] == \"AS\", \"Transmission\"] = 2\n",
    "df.loc[df[\"Transmission\"] == \"AV\", \"Transmission\"] = 3\n",
    "df.loc[df[\"Transmission\"] == \"M\", \"Transmission\"] = 4\n",
    "\n",
    "\n",
    "#Vehicle Class\n",
    "df.loc[df[\"Vehicle Class\"] == \"Compact\", \"Vehicle Class\"] = 0\n",
    "df.loc[df[\"Vehicle Class\"] == \"Full-size\", \"Vehicle Class\"] = 1\n",
    "df.loc[df[\"Vehicle Class\"] == \"Mid-size\", \"Vehicle Class\"] = 2\n",
    "df.loc[df[\"Vehicle Class\"] == \"Minicompact\", \"Vehicle Class\"] = 3\n",
    "df.loc[df[\"Vehicle Class\"] == \"Minivan\", \"Vehicle Class\"] = 4\n",
    "df.loc[df[\"Vehicle Class\"] == \"Minicompact\", \"Vehicle Class\"] = 5\n",
    "df.loc[df[\"Vehicle Class\"] == \"Pickup truck: Small\", \"Vehicle Class\"] = 6\n",
    "df.loc[df[\"Vehicle Class\"] == \"Pickup truck: Standard\", \"Vehicle Class\"] = 7\n",
    "df.loc[df[\"Vehicle Class\"] == \"SUV: Small\", \"Vehicle Class\"] = 8\n",
    "df.loc[df[\"Vehicle Class\"] == \"SUV: Standard\", \"Vehicle Class\"] = 9\n",
    "df.loc[df[\"Vehicle Class\"] == \"Special purpose vehicle\", \"Vehicle Class\"] = 10\n",
    "df.loc[df[\"Vehicle Class\"] == \"Station wagon: Mid-size\", \"Vehicle Class\"] = 11\n",
    "df.loc[df[\"Vehicle Class\"] == \"Station wagon: Small\", \"Vehicle Class\"] = 12\n",
    "df.loc[df[\"Vehicle Class\"] == \"Subcompact\", \"Vehicle Class\"] = 13\n",
    "df.loc[df[\"Vehicle Class\"] == \"Two-seater\", \"Vehicle Class\"] = 14\n",
    "\n",
    "#Gears\n",
    "df['Gears'] = df['Gears'].fillna(df['Gears'].mean())"
   ]
  },
  {
   "cell_type": "code",
   "execution_count": null,
   "id": "f002b165",
   "metadata": {},
   "outputs": [],
   "source": [
    "df.drop(\"Model Year\", axis=1, inplace=True)\n",
    "df.drop(\"Make\", axis=1, inplace=True)\n",
    "df.drop(\"Model\", axis=1, inplace=True)\n",
    "df.drop(\"Comb (mpg)\", axis=1, inplace=True)\n",
    "df.drop(\"Fuel Consumption City (L/100 km)\", axis=1, inplace=True)\n",
    "df.drop(\"Hwy (L/100 km)\", axis=1, inplace=True)\n",
    "\n",
    "df.head()"
   ]
  },
  {
   "cell_type": "markdown",
   "id": "8cfc7c50",
   "metadata": {},
   "source": [
    "Con esto, hemos terminado el análisis y la limpieza de los datos de ambos dataframes."
   ]
  },
  {
   "cell_type": "markdown",
   "id": "012b85a8",
   "metadata": {},
   "source": [
    "# Definión y entrenamiento del modelo"
   ]
  },
  {
   "cell_type": "markdown",
   "id": "eb6edbc8",
   "metadata": {},
   "source": [
    "En este *notebook* realizaremos el entrenamiento de un modelo de AdaBoost, el cual entrenaremos empleando los campos 'Vehicle Class', 'Engine Size (L)', 'Cylinders', 'Transmission', 'Fuel Type', 'CO2 Emissions (g/km)' y 'Gears'.\n",
    "\n",
    "En primer lugar separaremos el conjunto de datos en subconjuntos de entrenamiento y prueba para realizar una primera aproximación."
   ]
  },
  {
   "cell_type": "code",
   "execution_count": null,
   "id": "904fe574",
   "metadata": {},
   "outputs": [],
   "source": [
    "features = ['Vehicle Class', 'Engine Size (L)', 'Cylinders', 'Transmission', 'Fuel Type', 'Comb (L/100 km)', 'CO2 Emissions (g/km)', 'Gears']\n",
    "\n",
    "x = df[features].values\n",
    "y = df['Smog'].values\n",
    "\n",
    "x_train, x_test, y_train, y_test = train_test_split(x, y, test_size=0.25, random_state=33)\n",
    "\n",
    "# Normalización\n",
    "scaler = preprocessing.StandardScaler().fit(x_train)\n",
    "x_train = scaler.transform(x_train)\n",
    "x_test = scaler.transform(x_test)"
   ]
  },
  {
   "cell_type": "markdown",
   "id": "2e43cbe2",
   "metadata": {},
   "source": [
    "Y una vez seleccionados los datos, entrenamos el modelo."
   ]
  },
  {
   "cell_type": "markdown",
   "id": "8c68298b",
   "metadata": {},
   "source": [
    "Utilizamos RandomForest como modelo interno de AdaBoost debido a que hemos probado varios modelos como KNN, SVM y DecisionTree entre otros pero RandomForest es el que mejor resultado nos ha dado con diferencia."
   ]
  },
  {
   "cell_type": "code",
   "execution_count": null,
   "id": "2305c906",
   "metadata": {},
   "outputs": [],
   "source": [
    "rfc = RandomForestClassifier(n_estimators=70, random_state=100)\n",
    " \n",
    "model = AdaBoostClassifier(base_estimator=rfc, n_estimators=90, learning_rate=0.01, random_state=33)\n",
    " \n",
    "model.fit(x_train, y_train)"
   ]
  },
  {
   "cell_type": "markdown",
   "id": "2b8f7b2c",
   "metadata": {},
   "source": [
    "Inicialmente se usan estos hiperparámetros para el entrenamiento. Posteriormente los ajustaremos para obtener una mayor eficiencia."
   ]
  },
  {
   "cell_type": "markdown",
   "id": "ff5e3d81",
   "metadata": {},
   "source": [
    "### Comprobación de resultados"
   ]
  },
  {
   "cell_type": "markdown",
   "id": "fcf4bdbb",
   "metadata": {},
   "source": [
    "Para la comprobación de resultados se van a calcular varias métricas, obteniendo la eficacia de nuestro modelo."
   ]
  },
  {
   "cell_type": "code",
   "execution_count": null,
   "id": "a887e488",
   "metadata": {
    "scrolled": false
   },
   "outputs": [],
   "source": [
    "# Evaluar la Exactitud en el entrenamiento\n",
    "predicted = model.predict(x_test)\n",
    "expected = y_test\n",
    "\n",
    "y_train_pred = model.predict(x_train)\n",
    "print(\"Accuracy in training\", metrics.accuracy_score(y_train, y_train_pred))\n",
    "\n",
    "# También vamos a evaluar el error en las pruebas\n",
    "y_test_pred = model.predict(x_test)\n",
    "print(\"Accuracy in testing \", metrics.accuracy_score(y_test, y_test_pred))"
   ]
  },
  {
   "cell_type": "markdown",
   "id": "0b7222d7",
   "metadata": {},
   "source": [
    "Obtenemos una exactitud de casi el 77%."
   ]
  },
  {
   "cell_type": "code",
   "execution_count": null,
   "id": "c5f8a115",
   "metadata": {
    "scrolled": true
   },
   "outputs": [],
   "source": [
    "s_y_test = Series(y_test)\n",
    "s_y_test.value_counts()\n",
    "\n",
    "s_y_test.value_counts().head(1) / len(y_test)"
   ]
  },
  {
   "cell_type": "markdown",
   "id": "f2dfe2eb",
   "metadata": {},
   "source": [
    "Al cumplir la exactitud nula podemos deducir que el modelo no se encuentra desbalanceado en nuestro conjunto de datos.\n",
    "\n",
    "Vamos con el F1-score:"
   ]
  },
  {
   "cell_type": "code",
   "execution_count": null,
   "id": "5603244a",
   "metadata": {
    "scrolled": true
   },
   "outputs": [],
   "source": [
    "print(classification_report(expected, predicted))"
   ]
  },
  {
   "cell_type": "markdown",
   "id": "d3c4dfaf",
   "metadata": {},
   "source": [
    "Ahora, vamos a probar a entrenarlo y evaluarlo con K-Fold para ver si puede mejorar los resultados obtenidos."
   ]
  },
  {
   "cell_type": "code",
   "execution_count": null,
   "id": "8408b56c",
   "metadata": {},
   "outputs": [],
   "source": [
    "cv = KFold(n_splits=5, shuffle=True, random_state=33)\n",
    "\n",
    "scores = cross_val_score(model, x, y, cv=cv)\n",
    "print(\"Scores in every iteration\", scores)\n",
    "print(\"Accuracy: %0.2f (+/- %0.2f)\" % (scores.mean(), scores.std() * 2))"
   ]
  },
  {
   "cell_type": "markdown",
   "id": "a112d1e9",
   "metadata": {},
   "source": [
    "Utilizando KFold se obtiene una exactitud del 75%. "
   ]
  },
  {
   "cell_type": "markdown",
   "id": "3c4929f3",
   "metadata": {},
   "source": [
    "### Ajuste del algoritmo"
   ]
  },
  {
   "cell_type": "markdown",
   "id": "4fa083c7",
   "metadata": {},
   "source": [
    "Se va a utilizar Grid Search para realizar una optimización de hiperparámetros."
   ]
  },
  {
   "cell_type": "code",
   "execution_count": null,
   "id": "f7c7280d",
   "metadata": {},
   "outputs": [],
   "source": [
    "# Conjunto de hiperparámetros a probar\n",
    "tuned_hyperparameters = [{'n_estimators':  [10, 30, 50, 70, 90],\n",
    "                          'learning_rate': [0.01, 0.1, 1.0],\n",
    "                          'base_estimator': [rfc],\n",
    "                          'random_state': [33]}]\n",
    "\n",
    "scores = ['precision', 'recall']\n",
    "\n",
    "for score in scores:\n",
    "    print(\"# Ajuste de hiperparámetros para %s\" % score)\n",
    "    print()\n",
    "\n",
    "    if score == 'precision':\n",
    "        scorer = make_scorer(precision_score, average='weighted', zero_division=0)\n",
    "    elif score == 'recall':\n",
    "        scorer = make_scorer(recall_score, average='weighted', zero_division=0)\n",
    "\n",
    "    gs = GridSearchCV(AdaBoostClassifier(), tuned_hyperparameters, cv=10, scoring=scorer)\n",
    "    gs.fit(x_train, y_train)\n",
    "\n",
    "    print(\"Mejor conjunto de hiperparámetros encontrado en el conjunto de desarrollo:\")\n",
    "    print()\n",
    "    print(gs.best_params_)\n",
    "    print()\n",
    "    print(\"Puntuaciones en la cuadrícula en el conjunto de desarrollo:\")\n",
    "    print()\n",
    "    means = gs.cv_results_['mean_test_score']\n",
    "    stds = gs.cv_results_['std_test_score']\n",
    "\n",
    "    for mean_score, std_score, params in zip(means, stds, gs.cv_results_['params']):\n",
    "        print(\"%0.3f (+/-%0.03f) para %r\" % (mean_score, std_score * 2, params))\n",
    "    print()\n",
    "\n",
    "    print(\"Informe de clasificación detallado:\")\n",
    "    print()\n",
    "    print(\"El modelo se entrena en el conjunto de desarrollo completo.\")\n",
    "    print(\"Las puntuaciones se calculan en el conjunto de evaluación completo.\")\n",
    "    print()\n",
    "    y_true, y_pred = y_test, gs.predict(x_test)\n",
    "    print(classification_report(y_true, y_pred))\n",
    "    print()"
   ]
  },
  {
   "cell_type": "markdown",
   "id": "cab97db4",
   "metadata": {},
   "source": [
    "### Comprobación con el algoritmo ajustado"
   ]
  },
  {
   "cell_type": "markdown",
   "id": "8b489f73",
   "metadata": {},
   "source": [
    "A partir de los resultados anteriores, volvemos a entrenar el modelo mediante validación con K-Fold para comprobar la nueva media de puntuación."
   ]
  },
  {
   "cell_type": "code",
   "execution_count": null,
   "id": "6830d5ad",
   "metadata": {},
   "outputs": [],
   "source": [
    "model = Pipeline([\n",
    "        ('scaler', StandardScaler()),\n",
    "        ('ab', AdaBoostClassifier(**gs.best_params_))\n",
    "])\n",
    "\n",
    "model.fit(x_train, y_train) \n",
    "\n",
    "cv = KFold(10, shuffle=True, random_state=33)\n",
    "\n",
    "scores = cross_val_score(model, x, y, cv=cv)\n",
    "def mean_score(scores):\n",
    "    return (\"Puntuación media: {0:.3f} (+/- {1:.3f})\").format(np.mean(scores), sem(scores))\n",
    "print(mean_score(scores))\n"
   ]
  },
  {
   "cell_type": "markdown",
   "id": "02c9d39b",
   "metadata": {},
   "source": [
    "Tras el ajuste de hiperparámetros vemos que se obtiene una puntuación muy similar a la obtenida anteriormente."
   ]
  }
 ],
 "metadata": {
  "kernelspec": {
   "display_name": "Python 3 (ipykernel)",
   "language": "python",
   "name": "python3"
  },
  "language_info": {
   "codemirror_mode": {
    "name": "ipython",
    "version": 3
   },
   "file_extension": ".py",
   "mimetype": "text/x-python",
   "name": "python",
   "nbconvert_exporter": "python",
   "pygments_lexer": "ipython3",
   "version": "3.9.7"
  }
 },
 "nbformat": 4,
 "nbformat_minor": 5
}
