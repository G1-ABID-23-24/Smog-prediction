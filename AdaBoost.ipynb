{
 "cells": [
  {
   "cell_type": "markdown",
   "metadata": {},
   "source": [
    "# Grupo 1 - Smog predicition\n",
    "## Modelo AdaBoost"
   ]
  },
  {
   "cell_type": "markdown",
   "id": "58cd8f8c",
   "metadata": {},
   "source": [
    "### Análisis y limipieza de datos"
   ]
  },
  {
   "cell_type": "code",
   "execution_count": null,
   "metadata": {},
   "outputs": [],
   "source": [
    "import numpy as np\n",
    "import pandas as pd\n",
    "from pandas import Series, DataFrame\n",
    "\n",
    "df = pd.read_csv('data/train.csv')\n",
    "\n",
    "df['Gears'] = df['Transmission'].str.extract('(\\d+)')\n",
    "df['Gears'] = pd.to_numeric(df['Gears'], errors='coerce')\n",
    "df['Transmission'] = df['Transmission'].str.extract('(\\D+)')"
   ]
  },
  {
   "cell_type": "code",
   "execution_count": null,
   "id": "ae51e74c",
   "metadata": {},
   "outputs": [],
   "source": [
    "#Fuel Type\n",
    "df.loc[df[\"Fuel Type\"] == \"X\", \"Fuel Type\"] = 0\n",
    "df.loc[df[\"Fuel Type\"] == \"Z\", \"Fuel Type\"] = 1\n",
    "df.loc[df[\"Fuel Type\"] == \"D\", \"Fuel Type\"] = 2\n",
    "df.loc[df[\"Fuel Type\"] == \"E\", \"Fuel Type\"] = 3\n",
    "df.loc[df[\"Fuel Type\"] == \"N\", \"Fuel Type\"] = 4\n",
    "\n",
    "#Transmission\n",
    "df.loc[df[\"Transmission\"] == \"A\", \"Transmission\"] = 0\n",
    "df.loc[df[\"Transmission\"] == \"AM\", \"Transmission\"] = 1\n",
    "df.loc[df[\"Transmission\"] == \"AS\", \"Transmission\"] = 2\n",
    "df.loc[df[\"Transmission\"] == \"AV\", \"Transmission\"] = 3\n",
    "df.loc[df[\"Transmission\"] == \"M\", \"Transmission\"] = 4\n",
    "\n",
    "\n",
    "#Vehicle Class\n",
    "df.loc[df[\"Vehicle Class\"] == \"Compact\", \"Vehicle Class\"] = 0\n",
    "df.loc[df[\"Vehicle Class\"] == \"Full-size\", \"Vehicle Class\"] = 1\n",
    "df.loc[df[\"Vehicle Class\"] == \"Mid-size\", \"Vehicle Class\"] = 2\n",
    "df.loc[df[\"Vehicle Class\"] == \"Minicompact\", \"Vehicle Class\"] = 3\n",
    "df.loc[df[\"Vehicle Class\"] == \"Minivan\", \"Vehicle Class\"] = 4\n",
    "df.loc[df[\"Vehicle Class\"] == \"Minicompact\", \"Vehicle Class\"] = 5\n",
    "df.loc[df[\"Vehicle Class\"] == \"Pickup truck: Small\", \"Vehicle Class\"] = 6\n",
    "df.loc[df[\"Vehicle Class\"] == \"Pickup truck: Standard\", \"Vehicle Class\"] = 7\n",
    "df.loc[df[\"Vehicle Class\"] == \"SUV: Small\", \"Vehicle Class\"] = 8\n",
    "df.loc[df[\"Vehicle Class\"] == \"SUV: Standard\", \"Vehicle Class\"] = 9\n",
    "df.loc[df[\"Vehicle Class\"] == \"Special purpose vehicle\", \"Vehicle Class\"] = 10\n",
    "df.loc[df[\"Vehicle Class\"] == \"Station wagon: Mid-size\", \"Vehicle Class\"] = 11\n",
    "df.loc[df[\"Vehicle Class\"] == \"Station wagon: Small\", \"Vehicle Class\"] = 12\n",
    "df.loc[df[\"Vehicle Class\"] == \"Subcompact\", \"Vehicle Class\"] = 13\n",
    "df.loc[df[\"Vehicle Class\"] == \"Two-seater\", \"Vehicle Class\"] = 14\n",
    "\n",
    "df['Gears'].fillna(df['Gears'].mean(), inplace=True)"
   ]
  },
  {
   "cell_type": "code",
   "execution_count": null,
   "id": "f002b165",
   "metadata": {},
   "outputs": [
    {
     "data": {
      "text/html": [
       "<div>\n",
       "<style scoped>\n",
       "    .dataframe tbody tr th:only-of-type {\n",
       "        vertical-align: middle;\n",
       "    }\n",
       "\n",
       "    .dataframe tbody tr th {\n",
       "        vertical-align: top;\n",
       "    }\n",
       "\n",
       "    .dataframe thead th {\n",
       "        text-align: right;\n",
       "    }\n",
       "</style>\n",
       "<table border=\"1\" class=\"dataframe\">\n",
       "  <thead>\n",
       "    <tr style=\"text-align: right;\">\n",
       "      <th></th>\n",
       "      <th>id</th>\n",
       "      <th>Vehicle Class</th>\n",
       "      <th>Engine Size (L)</th>\n",
       "      <th>Cylinders</th>\n",
       "      <th>Transmission</th>\n",
       "      <th>Fuel Type</th>\n",
       "      <th>Comb (L/100 km)</th>\n",
       "      <th>CO2 Emissions (g/km)</th>\n",
       "      <th>Smog</th>\n",
       "      <th>Gears</th>\n",
       "    </tr>\n",
       "  </thead>\n",
       "  <tbody>\n",
       "    <tr>\n",
       "      <th>0</th>\n",
       "      <td>ab44e9bec15</td>\n",
       "      <td>12</td>\n",
       "      <td>2.0</td>\n",
       "      <td>4</td>\n",
       "      <td>1</td>\n",
       "      <td>1</td>\n",
       "      <td>8.7</td>\n",
       "      <td>202</td>\n",
       "      <td>2</td>\n",
       "      <td>7.0</td>\n",
       "    </tr>\n",
       "    <tr>\n",
       "      <th>1</th>\n",
       "      <td>45926762371</td>\n",
       "      <td>2</td>\n",
       "      <td>2.0</td>\n",
       "      <td>4</td>\n",
       "      <td>2</td>\n",
       "      <td>0</td>\n",
       "      <td>7.7</td>\n",
       "      <td>181</td>\n",
       "      <td>4</td>\n",
       "      <td>6.0</td>\n",
       "    </tr>\n",
       "    <tr>\n",
       "      <th>2</th>\n",
       "      <td>e9be56e153f</td>\n",
       "      <td>1</td>\n",
       "      <td>2.9</td>\n",
       "      <td>6</td>\n",
       "      <td>1</td>\n",
       "      <td>1</td>\n",
       "      <td>11.7</td>\n",
       "      <td>274</td>\n",
       "      <td>2</td>\n",
       "      <td>8.0</td>\n",
       "    </tr>\n",
       "    <tr>\n",
       "      <th>3</th>\n",
       "      <td>077092760df</td>\n",
       "      <td>0</td>\n",
       "      <td>2.0</td>\n",
       "      <td>4</td>\n",
       "      <td>2</td>\n",
       "      <td>0</td>\n",
       "      <td>8.1</td>\n",
       "      <td>189</td>\n",
       "      <td>1</td>\n",
       "      <td>6.0</td>\n",
       "    </tr>\n",
       "    <tr>\n",
       "      <th>4</th>\n",
       "      <td>c1c2579b795</td>\n",
       "      <td>3</td>\n",
       "      <td>5.2</td>\n",
       "      <td>12</td>\n",
       "      <td>0</td>\n",
       "      <td>1</td>\n",
       "      <td>13.8</td>\n",
       "      <td>324</td>\n",
       "      <td>1</td>\n",
       "      <td>8.0</td>\n",
       "    </tr>\n",
       "  </tbody>\n",
       "</table>\n",
       "</div>"
      ],
      "text/plain": [
       "            id Vehicle Class  Engine Size (L)  Cylinders Transmission  \\\n",
       "0  ab44e9bec15            12              2.0          4            1   \n",
       "1  45926762371             2              2.0          4            2   \n",
       "2  e9be56e153f             1              2.9          6            1   \n",
       "3  077092760df             0              2.0          4            2   \n",
       "4  c1c2579b795             3              5.2         12            0   \n",
       "\n",
       "  Fuel Type  Comb (L/100 km)  CO2 Emissions (g/km)  Smog  Gears  \n",
       "0         1              8.7                   202     2    7.0  \n",
       "1         0              7.7                   181     4    6.0  \n",
       "2         1             11.7                   274     2    8.0  \n",
       "3         0              8.1                   189     1    6.0  \n",
       "4         1             13.8                   324     1    8.0  "
      ]
     },
     "metadata": {},
     "output_type": "display_data"
    }
   ],
   "source": [
    "df.drop(\"Model Year\", axis=1, inplace=True)\n",
    "df.drop(\"Make\", axis=1, inplace=True)\n",
    "df.drop(\"Model\", axis=1, inplace=True)\n",
    "df.drop(\"Comb (mpg)\", axis=1, inplace=True)\n",
    "df.drop(\"Fuel Consumption City (L/100 km)\", axis=1, inplace=True)\n",
    "df.drop(\"Hwy (L/100 km)\", axis=1, inplace=True)\n",
    "\n",
    "df.head()"
   ]
  },
  {
   "cell_type": "markdown",
   "id": "8cfc7c50",
   "metadata": {},
   "source": [
    "Con esto, hemos terminado el análisis y la limpieza de los datos de ambos dataframes."
   ]
  },
  {
   "cell_type": "markdown",
   "metadata": {},
   "source": [
    "### Entrenamiento del modelo"
   ]
  },
  {
   "cell_type": "markdown",
   "metadata": {},
   "source": [
    "### Comprobación de resultados"
   ]
  }
 ],
 "metadata": {
  "kernelspec": {
   "display_name": "Python 3 (ipykernel)",
   "language": "python",
   "name": "python3"
  },
  "language_info": {
   "codemirror_mode": {
    "name": "ipython",
    "version": 3
   },
   "file_extension": ".py",
   "mimetype": "text/x-python",
   "name": "python",
   "nbconvert_exporter": "python",
   "pygments_lexer": "ipython3",
   "version": "3.9.7"
  }
 },
 "nbformat": 4,
 "nbformat_minor": 5
}
