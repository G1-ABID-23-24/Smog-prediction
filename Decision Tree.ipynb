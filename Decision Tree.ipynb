{
 "cells": [
  {
   "cell_type": "markdown",
   "id": "6aba4ad3",
   "metadata": {},
   "source": [
    "# Grupo 1 - Smog predicition\n",
    "## Decision Tree"
   ]
  },
  {
   "cell_type": "markdown",
   "id": "58cd8f8c",
   "metadata": {},
   "source": [
    "### Análisis y limpieza de datos"
   ]
  },
  {
   "cell_type": "code",
   "execution_count": 1,
   "id": "c27919ec",
   "metadata": {},
   "outputs": [],
   "source": [
    "#General imports\n",
    "import numpy as np\n",
    "import pandas as pd\n",
    "from pandas import Series, DataFrame\n",
    "from sklearn.model_selection import train_test_split\n",
    "from sklearn import metrics\n",
    "from sklearn import preprocessing\n",
    "from sklearn.metrics import classification_report\n",
    "from sklearn.model_selection import GridSearchCV\n",
    "\n",
    "#Specific imports\n",
    "from sklearn import tree\n",
    "from sklearn.metrics import recall_score, precision_score, make_scorer\n",
    "from sklearn.tree import DecisionTreeClassifier\n",
    "from sklearn.pipeline import Pipeline\n",
    "from sklearn.model_selection import cross_val_score, KFold\n",
    "from sklearn.preprocessing import StandardScaler\n",
    "from scipy.stats import sem\n",
    "from sklearn.model_selection import GridSearchCV\n",
    "\n",
    "#Visualization\n",
    "import seaborn as sns\n",
    "import matplotlib.pyplot as plt\n",
    "sns.set(color_codes=True)\n",
    "\n",
    "%matplotlib inline\n",
    "\n",
    "df = pd.read_csv('data/train.csv')\n",
    "\n",
    "df['Gears'] = df['Transmission'].str.extract('(\\d+)')\n",
    "df['Gears'] = pd.to_numeric(df['Gears'], errors='coerce')\n",
    "df['Transmission'] = df['Transmission'].str.extract('(\\D+)')"
   ]
  },
  {
   "cell_type": "code",
   "execution_count": 2,
   "id": "68f19f84",
   "metadata": {},
   "outputs": [],
   "source": [
    "#Fuel Type\n",
    "df.loc[df[\"Fuel Type\"] == \"X\", \"Fuel Type\"] = 0\n",
    "df.loc[df[\"Fuel Type\"] == \"Z\", \"Fuel Type\"] = 1\n",
    "df.loc[df[\"Fuel Type\"] == \"D\", \"Fuel Type\"] = 2\n",
    "df.loc[df[\"Fuel Type\"] == \"E\", \"Fuel Type\"] = 3\n",
    "df.loc[df[\"Fuel Type\"] == \"N\", \"Fuel Type\"] = 4\n",
    "\n",
    "#Transmission\n",
    "df.loc[df[\"Transmission\"] == \"A\", \"Transmission\"] = 0\n",
    "df.loc[df[\"Transmission\"] == \"AM\", \"Transmission\"] = 1\n",
    "df.loc[df[\"Transmission\"] == \"AS\", \"Transmission\"] = 2\n",
    "df.loc[df[\"Transmission\"] == \"AV\", \"Transmission\"] = 3\n",
    "df.loc[df[\"Transmission\"] == \"M\", \"Transmission\"] = 4\n",
    "\n",
    "\n",
    "#Vehicle Class\n",
    "df.loc[df[\"Vehicle Class\"] == \"Compact\", \"Vehicle Class\"] = 0\n",
    "df.loc[df[\"Vehicle Class\"] == \"Full-size\", \"Vehicle Class\"] = 1\n",
    "df.loc[df[\"Vehicle Class\"] == \"Mid-size\", \"Vehicle Class\"] = 2\n",
    "df.loc[df[\"Vehicle Class\"] == \"Minicompact\", \"Vehicle Class\"] = 3\n",
    "df.loc[df[\"Vehicle Class\"] == \"Minivan\", \"Vehicle Class\"] = 4\n",
    "df.loc[df[\"Vehicle Class\"] == \"Minicompact\", \"Vehicle Class\"] = 5\n",
    "df.loc[df[\"Vehicle Class\"] == \"Pickup truck: Small\", \"Vehicle Class\"] = 6\n",
    "df.loc[df[\"Vehicle Class\"] == \"Pickup truck: Standard\", \"Vehicle Class\"] = 7\n",
    "df.loc[df[\"Vehicle Class\"] == \"SUV: Small\", \"Vehicle Class\"] = 8\n",
    "df.loc[df[\"Vehicle Class\"] == \"SUV: Standard\", \"Vehicle Class\"] = 9\n",
    "df.loc[df[\"Vehicle Class\"] == \"Special purpose vehicle\", \"Vehicle Class\"] = 10\n",
    "df.loc[df[\"Vehicle Class\"] == \"Station wagon: Mid-size\", \"Vehicle Class\"] = 11\n",
    "df.loc[df[\"Vehicle Class\"] == \"Station wagon: Small\", \"Vehicle Class\"] = 12\n",
    "df.loc[df[\"Vehicle Class\"] == \"Subcompact\", \"Vehicle Class\"] = 13\n",
    "df.loc[df[\"Vehicle Class\"] == \"Two-seater\", \"Vehicle Class\"] = 14\n",
    "\n",
    "df = df.dropna(subset=['Gears'])"
   ]
  },
  {
   "cell_type": "code",
   "execution_count": 3,
   "id": "779d97d2",
   "metadata": {},
   "outputs": [
    {
     "data": {
      "text/html": [
       "<div>\n",
       "<style scoped>\n",
       "    .dataframe tbody tr th:only-of-type {\n",
       "        vertical-align: middle;\n",
       "    }\n",
       "\n",
       "    .dataframe tbody tr th {\n",
       "        vertical-align: top;\n",
       "    }\n",
       "\n",
       "    .dataframe thead th {\n",
       "        text-align: right;\n",
       "    }\n",
       "</style>\n",
       "<table border=\"1\" class=\"dataframe\">\n",
       "  <thead>\n",
       "    <tr style=\"text-align: right;\">\n",
       "      <th></th>\n",
       "      <th>id</th>\n",
       "      <th>Vehicle Class</th>\n",
       "      <th>Engine Size (L)</th>\n",
       "      <th>Cylinders</th>\n",
       "      <th>Transmission</th>\n",
       "      <th>Fuel Type</th>\n",
       "      <th>Comb (L/100 km)</th>\n",
       "      <th>CO2 Emissions (g/km)</th>\n",
       "      <th>Smog</th>\n",
       "      <th>Gears</th>\n",
       "    </tr>\n",
       "  </thead>\n",
       "  <tbody>\n",
       "    <tr>\n",
       "      <th>0</th>\n",
       "      <td>ab44e9bec15</td>\n",
       "      <td>12</td>\n",
       "      <td>2.0</td>\n",
       "      <td>4</td>\n",
       "      <td>1</td>\n",
       "      <td>1</td>\n",
       "      <td>8.7</td>\n",
       "      <td>202</td>\n",
       "      <td>2</td>\n",
       "      <td>7.0</td>\n",
       "    </tr>\n",
       "    <tr>\n",
       "      <th>1</th>\n",
       "      <td>45926762371</td>\n",
       "      <td>2</td>\n",
       "      <td>2.0</td>\n",
       "      <td>4</td>\n",
       "      <td>2</td>\n",
       "      <td>0</td>\n",
       "      <td>7.7</td>\n",
       "      <td>181</td>\n",
       "      <td>4</td>\n",
       "      <td>6.0</td>\n",
       "    </tr>\n",
       "    <tr>\n",
       "      <th>2</th>\n",
       "      <td>e9be56e153f</td>\n",
       "      <td>1</td>\n",
       "      <td>2.9</td>\n",
       "      <td>6</td>\n",
       "      <td>1</td>\n",
       "      <td>1</td>\n",
       "      <td>11.7</td>\n",
       "      <td>274</td>\n",
       "      <td>2</td>\n",
       "      <td>8.0</td>\n",
       "    </tr>\n",
       "    <tr>\n",
       "      <th>3</th>\n",
       "      <td>077092760df</td>\n",
       "      <td>0</td>\n",
       "      <td>2.0</td>\n",
       "      <td>4</td>\n",
       "      <td>2</td>\n",
       "      <td>0</td>\n",
       "      <td>8.1</td>\n",
       "      <td>189</td>\n",
       "      <td>1</td>\n",
       "      <td>6.0</td>\n",
       "    </tr>\n",
       "    <tr>\n",
       "      <th>4</th>\n",
       "      <td>c1c2579b795</td>\n",
       "      <td>3</td>\n",
       "      <td>5.2</td>\n",
       "      <td>12</td>\n",
       "      <td>0</td>\n",
       "      <td>1</td>\n",
       "      <td>13.8</td>\n",
       "      <td>324</td>\n",
       "      <td>1</td>\n",
       "      <td>8.0</td>\n",
       "    </tr>\n",
       "  </tbody>\n",
       "</table>\n",
       "</div>"
      ],
      "text/plain": [
       "            id Vehicle Class  Engine Size (L)  Cylinders Transmission  \\\n",
       "0  ab44e9bec15            12              2.0          4            1   \n",
       "1  45926762371             2              2.0          4            2   \n",
       "2  e9be56e153f             1              2.9          6            1   \n",
       "3  077092760df             0              2.0          4            2   \n",
       "4  c1c2579b795             3              5.2         12            0   \n",
       "\n",
       "  Fuel Type  Comb (L/100 km)  CO2 Emissions (g/km)  Smog  Gears  \n",
       "0         1              8.7                   202     2    7.0  \n",
       "1         0              7.7                   181     4    6.0  \n",
       "2         1             11.7                   274     2    8.0  \n",
       "3         0              8.1                   189     1    6.0  \n",
       "4         1             13.8                   324     1    8.0  "
      ]
     },
     "execution_count": 3,
     "metadata": {},
     "output_type": "execute_result"
    }
   ],
   "source": [
    "df.drop(\"Model Year\", axis=1, inplace=True)\n",
    "df.drop(\"Make\", axis=1, inplace=True)\n",
    "df.drop(\"Model\", axis=1, inplace=True)\n",
    "df.drop(\"Comb (mpg)\", axis=1, inplace=True)\n",
    "df.drop(\"Fuel Consumption City (L/100 km)\", axis=1, inplace=True)\n",
    "df.drop(\"Hwy (L/100 km)\", axis=1, inplace=True)\n",
    "\n",
    "df.head()"
   ]
  },
  {
   "cell_type": "markdown",
   "id": "f2189795",
   "metadata": {},
   "source": [
    "Con esto, hemos terminado el análisis y la limpieza de los datos del dataframe de entrenamiento."
   ]
  },
  {
   "cell_type": "markdown",
   "id": "b73d6a25",
   "metadata": {},
   "source": [
    "### Definición y entrenamiento del modelo"
   ]
  },
  {
   "cell_type": "code",
   "execution_count": 4,
   "id": "2288eedf",
   "metadata": {},
   "outputs": [],
   "source": [
    "features = ['Vehicle Class', 'Engine Size (L)', 'Cylinders', 'Transmission', 'Fuel Type', 'CO2 Emissions (g/km)', 'Gears']\n",
    "\n",
    "x = df[features].values\n",
    "y = df['Smog'].values\n",
    "\n",
    "x_train, x_test, y_train, y_test = train_test_split(x, y, test_size=0.25, random_state=33)\n",
    "\n",
    "# Preprocess: normalize\n",
    "scaler = preprocessing.StandardScaler().fit(x_train)\n",
    "x_train = scaler.transform(x_train)\n",
    "x_test = scaler.transform(x_test)"
   ]
  },
  {
   "cell_type": "code",
   "execution_count": 5,
   "id": "73c8639b",
   "metadata": {},
   "outputs": [
    {
     "data": {
      "text/html": [
       "<style>#sk-container-id-1 {color: black;}#sk-container-id-1 pre{padding: 0;}#sk-container-id-1 div.sk-toggleable {background-color: white;}#sk-container-id-1 label.sk-toggleable__label {cursor: pointer;display: block;width: 100%;margin-bottom: 0;padding: 0.3em;box-sizing: border-box;text-align: center;}#sk-container-id-1 label.sk-toggleable__label-arrow:before {content: \"▸\";float: left;margin-right: 0.25em;color: #696969;}#sk-container-id-1 label.sk-toggleable__label-arrow:hover:before {color: black;}#sk-container-id-1 div.sk-estimator:hover label.sk-toggleable__label-arrow:before {color: black;}#sk-container-id-1 div.sk-toggleable__content {max-height: 0;max-width: 0;overflow: hidden;text-align: left;background-color: #f0f8ff;}#sk-container-id-1 div.sk-toggleable__content pre {margin: 0.2em;color: black;border-radius: 0.25em;background-color: #f0f8ff;}#sk-container-id-1 input.sk-toggleable__control:checked~div.sk-toggleable__content {max-height: 200px;max-width: 100%;overflow: auto;}#sk-container-id-1 input.sk-toggleable__control:checked~label.sk-toggleable__label-arrow:before {content: \"▾\";}#sk-container-id-1 div.sk-estimator input.sk-toggleable__control:checked~label.sk-toggleable__label {background-color: #d4ebff;}#sk-container-id-1 div.sk-label input.sk-toggleable__control:checked~label.sk-toggleable__label {background-color: #d4ebff;}#sk-container-id-1 input.sk-hidden--visually {border: 0;clip: rect(1px 1px 1px 1px);clip: rect(1px, 1px, 1px, 1px);height: 1px;margin: -1px;overflow: hidden;padding: 0;position: absolute;width: 1px;}#sk-container-id-1 div.sk-estimator {font-family: monospace;background-color: #f0f8ff;border: 1px dotted black;border-radius: 0.25em;box-sizing: border-box;margin-bottom: 0.5em;}#sk-container-id-1 div.sk-estimator:hover {background-color: #d4ebff;}#sk-container-id-1 div.sk-parallel-item::after {content: \"\";width: 100%;border-bottom: 1px solid gray;flex-grow: 1;}#sk-container-id-1 div.sk-label:hover label.sk-toggleable__label {background-color: #d4ebff;}#sk-container-id-1 div.sk-serial::before {content: \"\";position: absolute;border-left: 1px solid gray;box-sizing: border-box;top: 0;bottom: 0;left: 50%;z-index: 0;}#sk-container-id-1 div.sk-serial {display: flex;flex-direction: column;align-items: center;background-color: white;padding-right: 0.2em;padding-left: 0.2em;position: relative;}#sk-container-id-1 div.sk-item {position: relative;z-index: 1;}#sk-container-id-1 div.sk-parallel {display: flex;align-items: stretch;justify-content: center;background-color: white;position: relative;}#sk-container-id-1 div.sk-item::before, #sk-container-id-1 div.sk-parallel-item::before {content: \"\";position: absolute;border-left: 1px solid gray;box-sizing: border-box;top: 0;bottom: 0;left: 50%;z-index: -1;}#sk-container-id-1 div.sk-parallel-item {display: flex;flex-direction: column;z-index: 1;position: relative;background-color: white;}#sk-container-id-1 div.sk-parallel-item:first-child::after {align-self: flex-end;width: 50%;}#sk-container-id-1 div.sk-parallel-item:last-child::after {align-self: flex-start;width: 50%;}#sk-container-id-1 div.sk-parallel-item:only-child::after {width: 0;}#sk-container-id-1 div.sk-dashed-wrapped {border: 1px dashed gray;margin: 0 0.4em 0.5em 0.4em;box-sizing: border-box;padding-bottom: 0.4em;background-color: white;}#sk-container-id-1 div.sk-label label {font-family: monospace;font-weight: bold;display: inline-block;line-height: 1.2em;}#sk-container-id-1 div.sk-label-container {text-align: center;}#sk-container-id-1 div.sk-container {/* jupyter's `normalize.less` sets `[hidden] { display: none; }` but bootstrap.min.css set `[hidden] { display: none !important; }` so we also need the `!important` here to be able to override the default hidden behavior on the sphinx rendered scikit-learn.org. See: https://github.com/scikit-learn/scikit-learn/issues/21755 */display: inline-block !important;position: relative;}#sk-container-id-1 div.sk-text-repr-fallback {display: none;}</style><div id=\"sk-container-id-1\" class=\"sk-top-container\"><div class=\"sk-text-repr-fallback\"><pre>DecisionTreeClassifier(max_depth=3, random_state=1)</pre><b>In a Jupyter environment, please rerun this cell to show the HTML representation or trust the notebook. <br />On GitHub, the HTML representation is unable to render, please try loading this page with nbviewer.org.</b></div><div class=\"sk-container\" hidden><div class=\"sk-item\"><div class=\"sk-estimator sk-toggleable\"><input class=\"sk-toggleable__control sk-hidden--visually\" id=\"sk-estimator-id-1\" type=\"checkbox\" checked><label for=\"sk-estimator-id-1\" class=\"sk-toggleable__label sk-toggleable__label-arrow\">DecisionTreeClassifier</label><div class=\"sk-toggleable__content\"><pre>DecisionTreeClassifier(max_depth=3, random_state=1)</pre></div></div></div></div></div>"
      ],
      "text/plain": [
       "DecisionTreeClassifier(max_depth=3, random_state=1)"
      ]
     },
     "execution_count": 5,
     "metadata": {},
     "output_type": "execute_result"
    }
   ],
   "source": [
    "model = tree.DecisionTreeClassifier(max_depth=3, random_state=1)\n",
    "\n",
    "model.fit(x_train, y_train)"
   ]
  },
  {
   "cell_type": "markdown",
   "id": "0fd3d9ba",
   "metadata": {},
   "source": [
    "### Comprobación de resultados"
   ]
  },
  {
   "cell_type": "markdown",
   "id": "1f9dc8d9",
   "metadata": {},
   "source": [
    "En este caso, el modelo a emplear será el de Decision Tree. Emplearemos directamente validación mediante K-Fold a la hora de dividir el conjunto de entrenamiento y así evitar posibles sesgos."
   ]
  },
  {
   "cell_type": "code",
   "execution_count": 6,
   "id": "5dcb9cf9",
   "metadata": {
    "scrolled": true
   },
   "outputs": [
    {
     "name": "stdout",
     "output_type": "stream",
     "text": [
      "Accuracy in training 0.5650118203309693\n",
      "Accuracy in testing  0.5815602836879432\n"
     ]
    }
   ],
   "source": [
    "# Evaluate Accuracy in training\n",
    "predicted = model.predict(x_test)\n",
    "expected = y_test\n",
    "\n",
    "y_train_pred = model.predict(x_train)\n",
    "print(\"Accuracy in training\", metrics.accuracy_score(y_train, y_train_pred))\n",
    "\n",
    "# Now we evaluate error in testing\n",
    "y_test_pred = model.predict(x_test)\n",
    "print(\"Accuracy in testing \", metrics.accuracy_score(y_test, y_test_pred))"
   ]
  },
  {
   "cell_type": "markdown",
   "id": "c2a28ac8",
   "metadata": {},
   "source": [
    "Obtenemos una exactitud del 58%."
   ]
  },
  {
   "cell_type": "code",
   "execution_count": 7,
   "id": "25c49297",
   "metadata": {
    "scrolled": true
   },
   "outputs": [
    {
     "data": {
      "text/plain": [
       "2    0.35461\n",
       "Name: count, dtype: float64"
      ]
     },
     "execution_count": 7,
     "metadata": {},
     "output_type": "execute_result"
    }
   ],
   "source": [
    "s_y_test = Series(y_test)\n",
    "s_y_test.value_counts()\n",
    "\n",
    "s_y_test.value_counts().head(1) / len(y_test)"
   ]
  },
  {
   "cell_type": "markdown",
   "id": "f1270213",
   "metadata": {},
   "source": [
    "Al cumplir la exactitud nula podemos deducir que el modelo no se encuentra sobreajustado a nuestro conjunto de datos.\n",
    "\n",
    "Vamos con el F1-score:"
   ]
  },
  {
   "cell_type": "code",
   "execution_count": 8,
   "id": "cf3165b6",
   "metadata": {
    "scrolled": true
   },
   "outputs": [
    {
     "name": "stdout",
     "output_type": "stream",
     "text": [
      "              precision    recall  f1-score   support\n",
      "\n",
      "           0       0.27      0.50      0.35         6\n",
      "           1       0.78      0.26      0.39        27\n",
      "           2       0.55      0.70      0.61        50\n",
      "           3       0.54      0.62      0.58        24\n",
      "           4       0.76      0.65      0.70        34\n",
      "\n",
      "    accuracy                           0.58       141\n",
      "   macro avg       0.58      0.55      0.53       141\n",
      "weighted avg       0.63      0.58      0.57       141\n",
      "\n"
     ]
    }
   ],
   "source": [
    "# Report\n",
    "print(classification_report(expected, predicted))"
   ]
  },
  {
   "cell_type": "markdown",
   "id": "06470389",
   "metadata": {},
   "source": [
    "Obtenemos resultados superiores al SVM, pero muy debajo de lo que debería. Continuamos con el ROC y el AUC:"
   ]
  },
  {
   "cell_type": "code",
   "execution_count": 9,
   "id": "518f87a6",
   "metadata": {},
   "outputs": [
    {
     "name": "stdout",
     "output_type": "stream",
     "text": [
      "[0.75438596 0.66666667 0.71929825 0.75438596 0.73214286 0.67857143\n",
      " 0.71428571 0.67857143 0.80357143 0.64285714]\n"
     ]
    }
   ],
   "source": [
    "# Features of the model\n",
    "features = ['Vehicle Class', 'Engine Size (L)', 'Cylinders', 'Transmission', 'Fuel Type', 'CO2 Emissions (g/km)', 'Gears']\n",
    "# Transform dataframe in numpy arrays\n",
    "x = df[features].values\n",
    "y = df['Smog'].values\n",
    "\n",
    "model = Pipeline([\n",
    "        ('scaler', StandardScaler()),\n",
    "        ('DecisionTree', DecisionTreeClassifier())\n",
    "])\n",
    "\n",
    "# create a k-fold cross validation iterator of k=10 folds\n",
    "cv = KFold(10, shuffle=True, random_state=33)\n",
    "\n",
    "# by default the score used is the one returned by score method of the estimator (accuracy)\n",
    "scores = cross_val_score(model, x, y, cv=cv)\n",
    "print(scores)"
   ]
  },
  {
   "cell_type": "code",
   "execution_count": 10,
   "id": "3e94908e",
   "metadata": {},
   "outputs": [
    {
     "name": "stdout",
     "output_type": "stream",
     "text": [
      "Mean score: 0.714 (+/- 0.015)\n"
     ]
    }
   ],
   "source": [
    "def mean_score(scores):\n",
    "    return (\"Mean score: {0:.3f} (+/- {1:.3f})\").format(np.mean(scores), sem(scores))\n",
    "print(mean_score(scores))"
   ]
  },
  {
   "cell_type": "markdown",
   "id": "09ce59a4",
   "metadata": {},
   "source": [
    "### Ajuste del algoritmo"
   ]
  },
  {
   "cell_type": "markdown",
   "id": "48df4d75",
   "metadata": {},
   "source": [
    "A continuación, vamos a realizar un ajuste de los hiperparámetros del algoritmo mediante *grid search*."
   ]
  },
  {
   "cell_type": "code",
   "execution_count": null,
   "id": "b0367e70",
   "metadata": {},
   "outputs": [
    {
     "name": "stdout",
     "output_type": "stream",
     "text": [
      "# Tuning hyperparameters for precision\n",
      "\n"
     ]
    }
   ],
   "source": [
    "# set of hyperparameters to test\n",
    "tuned_hyperparameters = [{'max_depth': np.arange(3, 10),\n",
    "                     'criterion': ['gini', 'entropy'], \n",
    "                     'splitter': ['best', 'random'],\n",
    "                     'min_samples_leaf': [2, 5, 10],\n",
    "                     'class_weight':['balanced', None],\n",
    "                     'max_leaf_nodes': [None, 5, 10, 20]\n",
    "                    }]\n",
    "\n",
    "scores = ['precision', 'recall']\n",
    "\n",
    "for score in scores:\n",
    "    print(\"# Tuning hyperparameters for %s\" % score)\n",
    "    print()\n",
    "\n",
    "    if score == 'precision':\n",
    "        scorer = make_scorer(precision_score, average='weighted', zero_division=0)\n",
    "    elif score == 'recall':\n",
    "        scorer = make_scorer(recall_score, average='weighted', zero_division=0)\n",
    "    \n",
    "    # cv = the fold of the cross-validation cv, defaulted to 5\n",
    "    gs = GridSearchCV(DecisionTreeClassifier(), tuned_hyperparameters, cv=10, scoring=scorer)\n",
    "    gs.fit(x_train, y_train)\n",
    "\n",
    "    print(\"Best hyperparameters set found on development set:\")\n",
    "    print()\n",
    "    print(gs.best_params_)\n",
    "    print()\n",
    "    print(\"Grid scores on development set:\")\n",
    "    print()\n",
    "    means = gs.cv_results_['mean_test_score']\n",
    "    stds = gs.cv_results_['std_test_score']\n",
    "\n",
    "    for mean_score, std_score, params in zip(means, stds, gs.cv_results_['params']):\n",
    "        print(\"%0.3f (+/-%0.03f) for %r\" % (mean_score, std_score * 2, params))\n",
    "    print()\n",
    "\n",
    "    print(\"Detailed classification report:\")\n",
    "    print()\n",
    "    print(\"The model is trained on the full development set.\")\n",
    "    print(\"The scores are computed on the full evaluation set.\")\n",
    "    print()\n",
    "    y_true, y_pred = y_test, gs.predict(x_test)\n",
    "    print(classification_report(y_true, y_pred))\n",
    "    print()"
   ]
  },
  {
   "cell_type": "code",
   "execution_count": null,
   "id": "d83a3ae7",
   "metadata": {},
   "outputs": [],
   "source": [
    "# We print the score for each value of max_depth\n",
    "for i, max_depth in enumerate(gs.cv_results_['params']):\n",
    "    print(\"%0.3f (+/-%0.03f) for %r\" % (gs.cv_results_['mean_test_score'][i],\n",
    "                                        gs.cv_results_['std_test_score'][i] * 2,\n",
    "                                        max_depth))"
   ]
  },
  {
   "cell_type": "markdown",
   "id": "fea90562",
   "metadata": {},
   "source": [
    "### Comprobación con el algoritmo ajustado"
   ]
  },
  {
   "cell_type": "code",
   "execution_count": null,
   "id": "171caaba",
   "metadata": {},
   "outputs": [],
   "source": [
    "# create a composite estimator made by a pipeline of preprocessing and the KNN model\n",
    "model = Pipeline([\n",
    "        ('scaler', StandardScaler()),\n",
    "        ('ds', DecisionTreeClassifier(**gs.best_params_))\n",
    "])\n",
    "\n",
    "# Fit the model\n",
    "model.fit(x_train, y_train) \n",
    "\n",
    "# create a k-fold cross validation iterator of k=10 folds\n",
    "cv = KFold(10, shuffle=True, random_state=33)\n",
    "\n",
    "# by default the score used is the one returned by score method of the estimator (accuracy)\n",
    "scores = cross_val_score(model, x, y, cv=cv)\n",
    "def mean_score(scores):\n",
    "    return (\"Mean score: {0:.3f} (+/- {1:.3f})\").format(np.mean(scores), sem(scores))\n",
    "print(mean_score(scores))"
   ]
  },
  {
   "cell_type": "markdown",
   "id": "a1229e63",
   "metadata": {},
   "source": [
    "Con el algoritmo ajustado, obtenemos una media del 65%, lo cual mejora 10 puntos la puntuación anterior pero sigue siendo bastante mejorable."
   ]
  }
 ],
 "metadata": {
  "kernelspec": {
   "display_name": "Python 3 (ipykernel)",
   "language": "python",
   "name": "python3"
  },
  "language_info": {
   "codemirror_mode": {
    "name": "ipython",
    "version": 3
   },
   "file_extension": ".py",
   "mimetype": "text/x-python",
   "name": "python",
   "nbconvert_exporter": "python",
   "pygments_lexer": "ipython3",
   "version": "3.11.5"
  }
 },
 "nbformat": 4,
 "nbformat_minor": 5
}
